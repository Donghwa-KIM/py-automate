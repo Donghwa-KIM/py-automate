{
 "cells": [
  {
   "cell_type": "markdown",
   "metadata": {},
   "source": [
    "# 웹에서 파일(또는 이미지) 다운로드 및 Request Headers 수정 예제\n",
    "_본 자료는 안수찬 강사님의 파이썬을 활용한 업무자동화 Camp (fast campus)의 강의자료를 기반으로 만들어졌습니다._  \n",
    "만든이 : 김보섭  "
   ]
  },
  {
   "cell_type": "markdown",
   "metadata": {},
   "source": [
    "## Jupyter 개발환경 구축 (tip)\n",
    "* Python Shell (python)\n",
    "* Interactive Shell -> IPython (ipython)\n",
    "* IPython Notebook (=> Python 만을 실행할 수 있는 Notebook)\n",
    "* Jupyter Notebook  \n",
    "\n",
    "Anaconda로 환경 구성안할 시, cmd에서 아래의 command로 ipython 설치  \n",
    "* install ipython : pip install ipython  \n",
    "* install ipython notebook : pip install ipython[notebook]\n",
    "    * localhost:8888 (==127.0.0.1)"
   ]
  },
  {
   "cell_type": "markdown",
   "metadata": {},
   "source": [
    "## 웹에서 파일(또는 이미지) 다운로드"
   ]
  },
  {
   "cell_type": "code",
   "execution_count": 1,
   "metadata": {
    "collapsed": true
   },
   "outputs": [],
   "source": [
    "#fp = open('____', '___')\n",
    "# 네이버에 있는 모든 이미지를 다운로드\n",
    "# .jpg, .png, .svg, ....(?)\n",
    "image_url = 'http://cdn.www.fastcampus.co.kr/wp-content/uploads/2016/01/fastcampus_logo_345x76.png'"
   ]
  },
  {
   "cell_type": "code",
   "execution_count": 2,
   "metadata": {},
   "outputs": [
    {
     "data": {
      "text/plain": [
       "['http:',\n",
       " '',\n",
       " 'cdn.www.fastcampus.co.kr',\n",
       " 'wp-content',\n",
       " 'uploads',\n",
       " '2016',\n",
       " '01',\n",
       " 'fastcampus_logo_345x76.png']"
      ]
     },
     "execution_count": 2,
     "metadata": {},
     "output_type": "execute_result"
    }
   ],
   "source": [
    "image_url.split('/')"
   ]
  },
  {
   "cell_type": "code",
   "execution_count": 3,
   "metadata": {
    "collapsed": true
   },
   "outputs": [],
   "source": [
    "full_filename = image_url.split('/')[-1]"
   ]
  },
  {
   "cell_type": "code",
   "execution_count": 4,
   "metadata": {},
   "outputs": [
    {
     "name": "stdout",
     "output_type": "stream",
     "text": [
      "fastcampus_logo_345x76 png\n"
     ]
    }
   ],
   "source": [
    "filename = full_filename.split('.')[0]\n",
    "file_extension = full_filename.split('.')[1]\n",
    "print(filename, file_extension)"
   ]
  },
  {
   "cell_type": "code",
   "execution_count": 5,
   "metadata": {
    "collapsed": true
   },
   "outputs": [],
   "source": [
    "import os, sys\n",
    "import shutil # High-level File Operator\n",
    "import requests\n",
    "import re\n",
    "from bs4 import BeautifulSoup"
   ]
  },
  {
   "cell_type": "code",
   "execution_count": 6,
   "metadata": {
    "collapsed": true
   },
   "outputs": [],
   "source": [
    "# 파일 (이미지, 문서, 압축파일, ...) 다운로드\n",
    "response = requests.get(image_url, stream = True)\n",
    "with open(full_filename, 'wb') as fp:\n",
    "    shutil.copyfileobj(response.raw, fp)"
   ]
  },
  {
   "cell_type": "code",
   "execution_count": 7,
   "metadata": {},
   "outputs": [
    {
     "name": "stdout",
     "output_type": "stream",
     "text": [
      "[' Download raw contents and modify Request Headers.ipynb', '.ipynb_checkpoints', 'fastcampus_logo_345x76.png', 'os_shutil.ipynb', 'Python_basic1.ipynb', 'Python_basic2.ipynb', 'Python_basic3.ipynb', 'Scrapping static webpage.ipynb', 'Scrapping text mining papers in arXiv.py', 'Selenium.ipynb', 'Static webpage and Dynamic webpage.ipynb', '파이썬']\n"
     ]
    }
   ],
   "source": [
    "# 블로그 검색결과의 1번 페이지 (10개 포스트) = 썸네일 이미지를 저장하는 코드\n",
    "# 파이썬/\n",
    "# 노드/\n",
    "# 업무 자동화/\n",
    "print(os.listdir())\n",
    "keywords = ['파이썬', '노드', '업무 자동화']"
   ]
  },
  {
   "cell_type": "code",
   "execution_count": 8,
   "metadata": {
    "collapsed": true
   },
   "outputs": [],
   "source": [
    "def crawl_naver_posts_by(keyword):\n",
    "    print(keyword + ' 크롤링을 시작합니다.')\n",
    "    url = 'https://search.naver.com/search.naver?where=nexearch&sm=top_hty&fbm=1&ie=utf8&query=' + keyword\n",
    "    response = requests.get(url)\n",
    "    dom = BeautifulSoup(response.text, 'html.parser')\n",
    "    post_elements = dom.select('li.sh_blog_top')\n",
    "    \n",
    "    # 크롤링 keyword에 대하여 기본 directory 내에 keyword를 이름으로 가지는 폴더 생성\n",
    "    if keyword in os.listdir():\n",
    "        shutil.rmtree(keyword)\n",
    "    os.mkdir(keyword)\n",
    "\n",
    "    for post_element in post_elements:\n",
    "        title = post_element.select_one('a.sh_blog_title').attrs.get('title') # 해당 블로그 post의 제목을 저장\n",
    "        title = re.sub('\\\\W', '', title)\n",
    "        image_url = post_element.select_one('img.sh_blog_thumbnail').attrs.get('src') # image의 링크를 저장\n",
    "        image_response = requests.get(image_url, stream = True) # image_url에서 image를 받아서 image 형태로 get (stream = True)\n",
    "        filepath = './{keyword}/{title}.jpg'.format(keyword = keyword, title = title) \n",
    "        with open(filepath, 'wb') as fp:\n",
    "            shutil.copyfileobj(image_response.raw, fp)"
   ]
  },
  {
   "cell_type": "code",
   "execution_count": 9,
   "metadata": {},
   "outputs": [
    {
     "name": "stdout",
     "output_type": "stream",
     "text": [
      "파이썬 크롤링을 시작합니다.\n"
     ]
    }
   ],
   "source": [
    "crawl_naver_posts_by('파이썬')"
   ]
  },
  {
   "cell_type": "code",
   "execution_count": 10,
   "metadata": {},
   "outputs": [
    {
     "data": {
      "text/plain": [
       "['코딩파이썬Python001파이썬이뭐지.jpg',\n",
       " '파이썬PythonGUI프로그램PyQt5개발시작하기.jpg',\n",
       " '파이썬기초5편입력출력조건문.jpg',\n",
       " '파이썬으로MQTTPublishSbuscribeClient구현하기.jpg',\n",
       " '파이썬학원기초교육받고SW공부시작하기.jpg']"
      ]
     },
     "execution_count": 10,
     "metadata": {},
     "output_type": "execute_result"
    }
   ],
   "source": [
    "os.listdir('./파이썬')"
   ]
  },
  {
   "cell_type": "markdown",
   "metadata": {},
   "source": [
    "## Request Headers 수정예제\n",
    "### 다음지도 예제\n",
    "다음 지도 (http://map.daum.net) 에 스타벅스를 검색했을 때, 지점들에 관한 정보를 가져오는 예제  \n",
    "(Host와 Referer를 정해줘야함)"
   ]
  },
  {
   "cell_type": "code",
   "execution_count": 11,
   "metadata": {
    "collapsed": true
   },
   "outputs": [],
   "source": [
    "### 1. Host, Referer\n",
    "# 2. Parsing\n",
    "# request headerf를 수정\n",
    "headers = {\n",
    "    'Host' : 'map.search.daum.net',\n",
    "    'Referer' : 'http://map.daum.net/'\n",
    "    \n",
    "}\n",
    "url = 'http://map.search.daum.net/mapsearch/map.daum?callback=jQuery18105775289722381518_1498028927868&q=%EC%8A%A4%ED%83%80%EB%B2%85%EC%8A%A4&msFlag=A&sort=0'\n",
    "response = requests.get(url, headers = headers)"
   ]
  },
  {
   "cell_type": "code",
   "execution_count": 12,
   "metadata": {
    "collapsed": true
   },
   "outputs": [],
   "source": [
    "# 1. '('로 split => 첫번째를 제외한 모든 애들 붙여서 text\n",
    "# 2. ')'로 split => 맨 마지막을 제외한 모든 애들 붙여서 text\n",
    "tmp = '('.join(response.text.split('(')[1:])\n",
    "tmp = ''.join(response.text.split('(')[1:])\n",
    "tmp = ''.join(tmp.split(')'))\n",
    "tmp = tmp.replace('\\r\\n', ' ')"
   ]
  },
  {
   "cell_type": "code",
   "execution_count": 13,
   "metadata": {
    "collapsed": true
   },
   "outputs": [],
   "source": [
    "import json\n",
    "results = json.loads(tmp)\n"
   ]
  },
  {
   "cell_type": "code",
   "execution_count": 14,
   "metadata": {},
   "outputs": [
    {
     "data": {
      "text/plain": [
       "dict_keys(['addr_count', 'place_totalcount', 'page_count', 'bus_cnt', 'busStop_cnt', 'bus_recommend', 'bus_recommend_top', 'query', 'org_query', 'guide_message', 'region_depth', 'region_type', 'sort', 'page', 'cate_id', 'mng_type', 'is_franchise', 'is_category', 'highway_yn', 'oil_yn', 'mrank_type', 'exposure_level', 'analysis', 'srcid', 'sn_query', 'samename', 'tile_search', 'target', 'trans_map_type', 'trans_map_str', 'bus', 'address_retry', 'address', 'premium', 'place', 'cateLink', 'category_depth', 'cateGroupList', 'busStop'])"
      ]
     },
     "execution_count": 14,
     "metadata": {},
     "output_type": "execute_result"
    }
   ],
   "source": [
    "results.keys()"
   ]
  },
  {
   "cell_type": "code",
   "execution_count": 15,
   "metadata": {},
   "outputs": [
    {
     "name": "stdout",
     "output_type": "stream",
     "text": [
      "스타벅스 스타벅스|I10080304||||0\n"
     ]
    }
   ],
   "source": [
    "print(results.get('query'), results.get('analysis'))"
   ]
  }
 ],
 "metadata": {
  "kernelspec": {
   "display_name": "Python 3",
   "language": "python",
   "name": "python3"
  },
  "language_info": {
   "codemirror_mode": {
    "name": "ipython",
    "version": 3
   },
   "file_extension": ".py",
   "mimetype": "text/x-python",
   "name": "python",
   "nbconvert_exporter": "python",
   "pygments_lexer": "ipython3",
   "version": "3.6.1"
  }
 },
 "nbformat": 4,
 "nbformat_minor": 2
}
