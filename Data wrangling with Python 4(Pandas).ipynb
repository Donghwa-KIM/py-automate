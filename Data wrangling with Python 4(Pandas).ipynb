{
 "cells": [
  {
   "cell_type": "markdown",
   "metadata": {},
   "source": [
    "# DataFrame 활용 (Pandas)\n",
    "_본 자료는 안수찬 강사님의 파이썬을 활용한 업무자동화 Camp (fast campus)의 강의자료를 기반으로 만들어졌습니다._  \n",
    "만든이 : 김보섭  "
   ]
  },
  {
   "cell_type": "markdown",
   "metadata": {},
   "source": [
    "#### _**Pandas, mutagen library의 MP3 Class등을 활용합니다.**_ \n"
   ]
  },
  {
   "cell_type": "markdown",
   "metadata": {},
   "source": [
    "### DataFrame 활용"
   ]
  },
  {
   "cell_type": "markdown",
   "metadata": {},
   "source": [
    "#### mp3_df DataFrame 생성"
   ]
  },
  {
   "cell_type": "code",
   "execution_count": 1,
   "metadata": {
    "collapsed": true
   },
   "outputs": [],
   "source": [
    "import os, sys\n",
    "import pandas as pd\n",
    "import shutil\n",
    "from mutagen.mp3 import MP3 # Class를 불러온다"
   ]
  },
  {
   "cell_type": "code",
   "execution_count": 2,
   "metadata": {},
   "outputs": [
    {
     "data": {
      "text/plain": [
       "['.ipynb_checkpoints',\n",
       " '2HG0Z4C2.mp3',\n",
       " '2W1KHXPI.mp3',\n",
       " '3KTIS7NN.mp3',\n",
       " 'BWD5GM5Q.mp3',\n",
       " 'DJJUFDQX.mp3',\n",
       " 'IXMFB7H1.mp3',\n",
       " 'README.txt',\n",
       " 'RIS29UDF.mp3',\n",
       " 'T51NGFL6.mp3',\n",
       " 'WHYGK9R4.mp3',\n",
       " 'YUF527VD.mp3']"
      ]
     },
     "execution_count": 2,
     "metadata": {},
     "output_type": "execute_result"
    }
   ],
   "source": [
    "# mp3 파일이 아닌 쓸데없는 txt파일이 존재함을 확인할 수 있다.\n",
    "os.listdir('./sample_mp3/')"
   ]
  },
  {
   "cell_type": "code",
   "execution_count": 3,
   "metadata": {},
   "outputs": [
    {
     "data": {
      "text/plain": [
       "['2HG0Z4C2.mp3',\n",
       " '2W1KHXPI.mp3',\n",
       " '3KTIS7NN.mp3',\n",
       " 'BWD5GM5Q.mp3',\n",
       " 'DJJUFDQX.mp3',\n",
       " 'IXMFB7H1.mp3',\n",
       " 'RIS29UDF.mp3',\n",
       " 'T51NGFL6.mp3',\n",
       " 'WHYGK9R4.mp3',\n",
       " 'YUF527VD.mp3']"
      ]
     },
     "execution_count": 3,
     "metadata": {},
     "output_type": "execute_result"
    }
   ],
   "source": [
    "# list comprehension을 이용하여 mp3 파일 목록만 뽑자\n",
    "mp3_filenames = [\n",
    "    filename\n",
    "    for filename\n",
    "    in os.listdir('./sample_mp3/')\n",
    "    if filename.endswith('.mp3') # 특정 확장자를 가진 파일만 추출하는 방법\n",
    "]\n",
    "mp3_filenames"
   ]
  },
  {
   "cell_type": "code",
   "execution_count": 4,
   "metadata": {},
   "outputs": [
    {
     "data": {
      "text/html": [
       "<div>\n",
       "<style>\n",
       "    .dataframe thead tr:only-child th {\n",
       "        text-align: right;\n",
       "    }\n",
       "\n",
       "    .dataframe thead th {\n",
       "        text-align: left;\n",
       "    }\n",
       "\n",
       "    .dataframe tbody tr th {\n",
       "        vertical-align: top;\n",
       "    }\n",
       "</style>\n",
       "<table border=\"1\" class=\"dataframe\">\n",
       "  <thead>\n",
       "    <tr style=\"text-align: right;\">\n",
       "      <th></th>\n",
       "      <th>filename</th>\n",
       "    </tr>\n",
       "  </thead>\n",
       "  <tbody>\n",
       "    <tr>\n",
       "      <th>0</th>\n",
       "      <td>2HG0Z4C2.mp3</td>\n",
       "    </tr>\n",
       "    <tr>\n",
       "      <th>1</th>\n",
       "      <td>2W1KHXPI.mp3</td>\n",
       "    </tr>\n",
       "    <tr>\n",
       "      <th>2</th>\n",
       "      <td>3KTIS7NN.mp3</td>\n",
       "    </tr>\n",
       "    <tr>\n",
       "      <th>3</th>\n",
       "      <td>BWD5GM5Q.mp3</td>\n",
       "    </tr>\n",
       "    <tr>\n",
       "      <th>4</th>\n",
       "      <td>DJJUFDQX.mp3</td>\n",
       "    </tr>\n",
       "  </tbody>\n",
       "</table>\n",
       "</div>"
      ],
      "text/plain": [
       "       filename\n",
       "0  2HG0Z4C2.mp3\n",
       "1  2W1KHXPI.mp3\n",
       "2  3KTIS7NN.mp3\n",
       "3  BWD5GM5Q.mp3\n",
       "4  DJJUFDQX.mp3"
      ]
     },
     "execution_count": 4,
     "metadata": {},
     "output_type": "execute_result"
    }
   ],
   "source": [
    "# 위의 list로 DataFrame 생성\n",
    "mp3_df = pd.DataFrame(mp3_filenames, columns = ['filename'])\n",
    "mp3_df.head()"
   ]
  },
  {
   "cell_type": "code",
   "execution_count": 5,
   "metadata": {
    "collapsed": true
   },
   "outputs": [],
   "source": [
    "mp3 = MP3('./sample_mp3/2HG0Z4C2.mp3')"
   ]
  },
  {
   "cell_type": "code",
   "execution_count": 6,
   "metadata": {},
   "outputs": [
    {
     "data": {
      "text/plain": [
       "TPE2(encoding=<Encoding.UTF16: 1>, text=['The Weeknd'])"
      ]
     },
     "execution_count": 6,
     "metadata": {},
     "output_type": "execute_result"
    }
   ],
   "source": [
    "mp3.get('TPE2')"
   ]
  },
  {
   "cell_type": "markdown",
   "metadata": {},
   "source": [
    "#### mp3_df에 filepath column 추가"
   ]
  },
  {
   "cell_type": "code",
   "execution_count": 7,
   "metadata": {},
   "outputs": [
    {
     "data": {
      "text/html": [
       "<div>\n",
       "<style>\n",
       "    .dataframe thead tr:only-child th {\n",
       "        text-align: right;\n",
       "    }\n",
       "\n",
       "    .dataframe thead th {\n",
       "        text-align: left;\n",
       "    }\n",
       "\n",
       "    .dataframe tbody tr th {\n",
       "        vertical-align: top;\n",
       "    }\n",
       "</style>\n",
       "<table border=\"1\" class=\"dataframe\">\n",
       "  <thead>\n",
       "    <tr style=\"text-align: right;\">\n",
       "      <th></th>\n",
       "      <th>filename</th>\n",
       "      <th>filepath</th>\n",
       "    </tr>\n",
       "  </thead>\n",
       "  <tbody>\n",
       "    <tr>\n",
       "      <th>0</th>\n",
       "      <td>2HG0Z4C2.mp3</td>\n",
       "      <td>.\\sample_mp3\\2HG0Z4C2.mp3</td>\n",
       "    </tr>\n",
       "    <tr>\n",
       "      <th>1</th>\n",
       "      <td>2W1KHXPI.mp3</td>\n",
       "      <td>.\\sample_mp3\\2W1KHXPI.mp3</td>\n",
       "    </tr>\n",
       "    <tr>\n",
       "      <th>2</th>\n",
       "      <td>3KTIS7NN.mp3</td>\n",
       "      <td>.\\sample_mp3\\3KTIS7NN.mp3</td>\n",
       "    </tr>\n",
       "    <tr>\n",
       "      <th>3</th>\n",
       "      <td>BWD5GM5Q.mp3</td>\n",
       "      <td>.\\sample_mp3\\BWD5GM5Q.mp3</td>\n",
       "    </tr>\n",
       "    <tr>\n",
       "      <th>4</th>\n",
       "      <td>DJJUFDQX.mp3</td>\n",
       "      <td>.\\sample_mp3\\DJJUFDQX.mp3</td>\n",
       "    </tr>\n",
       "  </tbody>\n",
       "</table>\n",
       "</div>"
      ],
      "text/plain": [
       "       filename                   filepath\n",
       "0  2HG0Z4C2.mp3  .\\sample_mp3\\2HG0Z4C2.mp3\n",
       "1  2W1KHXPI.mp3  .\\sample_mp3\\2W1KHXPI.mp3\n",
       "2  3KTIS7NN.mp3  .\\sample_mp3\\3KTIS7NN.mp3\n",
       "3  BWD5GM5Q.mp3  .\\sample_mp3\\BWD5GM5Q.mp3\n",
       "4  DJJUFDQX.mp3  .\\sample_mp3\\DJJUFDQX.mp3"
      ]
     },
     "execution_count": 7,
     "metadata": {},
     "output_type": "execute_result"
    }
   ],
   "source": [
    "# 위의 과정을 DataFrame을 이용하여 효율적으로\n",
    "mp3_df['filepath'] = \\\n",
    "mp3_df.filename.apply(lambda x : os.path.join('.','sample_mp3',x))\n",
    "mp3_df.head()"
   ]
  },
  {
   "cell_type": "code",
   "execution_count": 8,
   "metadata": {},
   "outputs": [
    {
     "data": {
      "text/plain": [
       "TIT2(encoding=<Encoding.UTF16: 1>, text=[\"Can't Feel My Face\"])"
      ]
     },
     "execution_count": 8,
     "metadata": {},
     "output_type": "execute_result"
    }
   ],
   "source": [
    "mp3 = MP3(mp3_df.iloc[0].filepath)\n",
    "mp3.get('TIT2')"
   ]
  },
  {
   "cell_type": "markdown",
   "metadata": {},
   "source": [
    "#### mp3_df에 title, new_title, new_filepath 추가"
   ]
  },
  {
   "cell_type": "code",
   "execution_count": 9,
   "metadata": {},
   "outputs": [
    {
     "data": {
      "text/html": [
       "<div>\n",
       "<style>\n",
       "    .dataframe thead tr:only-child th {\n",
       "        text-align: right;\n",
       "    }\n",
       "\n",
       "    .dataframe thead th {\n",
       "        text-align: left;\n",
       "    }\n",
       "\n",
       "    .dataframe tbody tr th {\n",
       "        vertical-align: top;\n",
       "    }\n",
       "</style>\n",
       "<table border=\"1\" class=\"dataframe\">\n",
       "  <thead>\n",
       "    <tr style=\"text-align: right;\">\n",
       "      <th></th>\n",
       "      <th>filename</th>\n",
       "      <th>filepath</th>\n",
       "      <th>title</th>\n",
       "    </tr>\n",
       "  </thead>\n",
       "  <tbody>\n",
       "    <tr>\n",
       "      <th>0</th>\n",
       "      <td>2HG0Z4C2.mp3</td>\n",
       "      <td>.\\sample_mp3\\2HG0Z4C2.mp3</td>\n",
       "      <td>Can't Feel My Face</td>\n",
       "    </tr>\n",
       "    <tr>\n",
       "      <th>1</th>\n",
       "      <td>2W1KHXPI.mp3</td>\n",
       "      <td>.\\sample_mp3\\2W1KHXPI.mp3</td>\n",
       "      <td>What Do You Mean</td>\n",
       "    </tr>\n",
       "    <tr>\n",
       "      <th>2</th>\n",
       "      <td>3KTIS7NN.mp3</td>\n",
       "      <td>.\\sample_mp3\\3KTIS7NN.mp3</td>\n",
       "      <td>Watch Me</td>\n",
       "    </tr>\n",
       "    <tr>\n",
       "      <th>3</th>\n",
       "      <td>BWD5GM5Q.mp3</td>\n",
       "      <td>.\\sample_mp3\\BWD5GM5Q.mp3</td>\n",
       "      <td>Cheerleader</td>\n",
       "    </tr>\n",
       "    <tr>\n",
       "      <th>4</th>\n",
       "      <td>DJJUFDQX.mp3</td>\n",
       "      <td>.\\sample_mp3\\DJJUFDQX.mp3</td>\n",
       "      <td>Lean on</td>\n",
       "    </tr>\n",
       "  </tbody>\n",
       "</table>\n",
       "</div>"
      ],
      "text/plain": [
       "       filename                   filepath               title\n",
       "0  2HG0Z4C2.mp3  .\\sample_mp3\\2HG0Z4C2.mp3  Can't Feel My Face\n",
       "1  2W1KHXPI.mp3  .\\sample_mp3\\2W1KHXPI.mp3    What Do You Mean\n",
       "2  3KTIS7NN.mp3  .\\sample_mp3\\3KTIS7NN.mp3            Watch Me\n",
       "3  BWD5GM5Q.mp3  .\\sample_mp3\\BWD5GM5Q.mp3         Cheerleader\n",
       "4  DJJUFDQX.mp3  .\\sample_mp3\\DJJUFDQX.mp3             Lean on"
      ]
     },
     "execution_count": 9,
     "metadata": {},
     "output_type": "execute_result"
    }
   ],
   "source": [
    "# 정식 사이트 음원 => MP3 (가수, 라이센스, 가사, 제목, ...)\n",
    "# BeautifulSoup (HTML Parser), MP3 (MP3 File Parser), Image Parser\n",
    "# 타이틀 한번에 추가하고, 새로운 파일명과 경로만들기\n",
    "mp3_df['title'] = mp3_df.filepath.apply(lambda x: MP3(x).get('TIT2').text[0])\n",
    "mp3_df.head()"
   ]
  },
  {
   "cell_type": "code",
   "execution_count": 10,
   "metadata": {},
   "outputs": [
    {
     "data": {
      "text/html": [
       "<div>\n",
       "<style>\n",
       "    .dataframe thead tr:only-child th {\n",
       "        text-align: right;\n",
       "    }\n",
       "\n",
       "    .dataframe thead th {\n",
       "        text-align: left;\n",
       "    }\n",
       "\n",
       "    .dataframe tbody tr th {\n",
       "        vertical-align: top;\n",
       "    }\n",
       "</style>\n",
       "<table border=\"1\" class=\"dataframe\">\n",
       "  <thead>\n",
       "    <tr style=\"text-align: right;\">\n",
       "      <th></th>\n",
       "      <th>filename</th>\n",
       "      <th>filepath</th>\n",
       "      <th>title</th>\n",
       "      <th>new_filename</th>\n",
       "    </tr>\n",
       "  </thead>\n",
       "  <tbody>\n",
       "    <tr>\n",
       "      <th>0</th>\n",
       "      <td>2HG0Z4C2.mp3</td>\n",
       "      <td>.\\sample_mp3\\2HG0Z4C2.mp3</td>\n",
       "      <td>Can't Feel My Face</td>\n",
       "      <td>Can't Feel My Face.mp3</td>\n",
       "    </tr>\n",
       "    <tr>\n",
       "      <th>1</th>\n",
       "      <td>2W1KHXPI.mp3</td>\n",
       "      <td>.\\sample_mp3\\2W1KHXPI.mp3</td>\n",
       "      <td>What Do You Mean</td>\n",
       "      <td>What Do You Mean.mp3</td>\n",
       "    </tr>\n",
       "    <tr>\n",
       "      <th>2</th>\n",
       "      <td>3KTIS7NN.mp3</td>\n",
       "      <td>.\\sample_mp3\\3KTIS7NN.mp3</td>\n",
       "      <td>Watch Me</td>\n",
       "      <td>Watch Me.mp3</td>\n",
       "    </tr>\n",
       "    <tr>\n",
       "      <th>3</th>\n",
       "      <td>BWD5GM5Q.mp3</td>\n",
       "      <td>.\\sample_mp3\\BWD5GM5Q.mp3</td>\n",
       "      <td>Cheerleader</td>\n",
       "      <td>Cheerleader.mp3</td>\n",
       "    </tr>\n",
       "    <tr>\n",
       "      <th>4</th>\n",
       "      <td>DJJUFDQX.mp3</td>\n",
       "      <td>.\\sample_mp3\\DJJUFDQX.mp3</td>\n",
       "      <td>Lean on</td>\n",
       "      <td>Lean on.mp3</td>\n",
       "    </tr>\n",
       "  </tbody>\n",
       "</table>\n",
       "</div>"
      ],
      "text/plain": [
       "       filename                   filepath               title  \\\n",
       "0  2HG0Z4C2.mp3  .\\sample_mp3\\2HG0Z4C2.mp3  Can't Feel My Face   \n",
       "1  2W1KHXPI.mp3  .\\sample_mp3\\2W1KHXPI.mp3    What Do You Mean   \n",
       "2  3KTIS7NN.mp3  .\\sample_mp3\\3KTIS7NN.mp3            Watch Me   \n",
       "3  BWD5GM5Q.mp3  .\\sample_mp3\\BWD5GM5Q.mp3         Cheerleader   \n",
       "4  DJJUFDQX.mp3  .\\sample_mp3\\DJJUFDQX.mp3             Lean on   \n",
       "\n",
       "             new_filename  \n",
       "0  Can't Feel My Face.mp3  \n",
       "1    What Do You Mean.mp3  \n",
       "2            Watch Me.mp3  \n",
       "3         Cheerleader.mp3  \n",
       "4             Lean on.mp3  "
      ]
     },
     "execution_count": 10,
     "metadata": {},
     "output_type": "execute_result"
    }
   ],
   "source": [
    "mp3_df['new_filename'] = mp3_df.title.apply(lambda x : x + '.mp3')\n",
    "mp3_df.head()"
   ]
  },
  {
   "cell_type": "code",
   "execution_count": 11,
   "metadata": {},
   "outputs": [
    {
     "data": {
      "text/html": [
       "<div>\n",
       "<style>\n",
       "    .dataframe thead tr:only-child th {\n",
       "        text-align: right;\n",
       "    }\n",
       "\n",
       "    .dataframe thead th {\n",
       "        text-align: left;\n",
       "    }\n",
       "\n",
       "    .dataframe tbody tr th {\n",
       "        vertical-align: top;\n",
       "    }\n",
       "</style>\n",
       "<table border=\"1\" class=\"dataframe\">\n",
       "  <thead>\n",
       "    <tr style=\"text-align: right;\">\n",
       "      <th></th>\n",
       "      <th>filename</th>\n",
       "      <th>filepath</th>\n",
       "      <th>title</th>\n",
       "      <th>new_filename</th>\n",
       "      <th>new_filepath</th>\n",
       "    </tr>\n",
       "  </thead>\n",
       "  <tbody>\n",
       "    <tr>\n",
       "      <th>0</th>\n",
       "      <td>2HG0Z4C2.mp3</td>\n",
       "      <td>.\\sample_mp3\\2HG0Z4C2.mp3</td>\n",
       "      <td>Can't Feel My Face</td>\n",
       "      <td>Can't Feel My Face.mp3</td>\n",
       "      <td>.\\mp3\\Can't Feel My Face.mp3</td>\n",
       "    </tr>\n",
       "    <tr>\n",
       "      <th>1</th>\n",
       "      <td>2W1KHXPI.mp3</td>\n",
       "      <td>.\\sample_mp3\\2W1KHXPI.mp3</td>\n",
       "      <td>What Do You Mean</td>\n",
       "      <td>What Do You Mean.mp3</td>\n",
       "      <td>.\\mp3\\What Do You Mean.mp3</td>\n",
       "    </tr>\n",
       "    <tr>\n",
       "      <th>2</th>\n",
       "      <td>3KTIS7NN.mp3</td>\n",
       "      <td>.\\sample_mp3\\3KTIS7NN.mp3</td>\n",
       "      <td>Watch Me</td>\n",
       "      <td>Watch Me.mp3</td>\n",
       "      <td>.\\mp3\\Watch Me.mp3</td>\n",
       "    </tr>\n",
       "    <tr>\n",
       "      <th>3</th>\n",
       "      <td>BWD5GM5Q.mp3</td>\n",
       "      <td>.\\sample_mp3\\BWD5GM5Q.mp3</td>\n",
       "      <td>Cheerleader</td>\n",
       "      <td>Cheerleader.mp3</td>\n",
       "      <td>.\\mp3\\Cheerleader.mp3</td>\n",
       "    </tr>\n",
       "    <tr>\n",
       "      <th>4</th>\n",
       "      <td>DJJUFDQX.mp3</td>\n",
       "      <td>.\\sample_mp3\\DJJUFDQX.mp3</td>\n",
       "      <td>Lean on</td>\n",
       "      <td>Lean on.mp3</td>\n",
       "      <td>.\\mp3\\Lean on.mp3</td>\n",
       "    </tr>\n",
       "  </tbody>\n",
       "</table>\n",
       "</div>"
      ],
      "text/plain": [
       "       filename                   filepath               title  \\\n",
       "0  2HG0Z4C2.mp3  .\\sample_mp3\\2HG0Z4C2.mp3  Can't Feel My Face   \n",
       "1  2W1KHXPI.mp3  .\\sample_mp3\\2W1KHXPI.mp3    What Do You Mean   \n",
       "2  3KTIS7NN.mp3  .\\sample_mp3\\3KTIS7NN.mp3            Watch Me   \n",
       "3  BWD5GM5Q.mp3  .\\sample_mp3\\BWD5GM5Q.mp3         Cheerleader   \n",
       "4  DJJUFDQX.mp3  .\\sample_mp3\\DJJUFDQX.mp3             Lean on   \n",
       "\n",
       "             new_filename                  new_filepath  \n",
       "0  Can't Feel My Face.mp3  .\\mp3\\Can't Feel My Face.mp3  \n",
       "1    What Do You Mean.mp3    .\\mp3\\What Do You Mean.mp3  \n",
       "2            Watch Me.mp3            .\\mp3\\Watch Me.mp3  \n",
       "3         Cheerleader.mp3         .\\mp3\\Cheerleader.mp3  \n",
       "4             Lean on.mp3             .\\mp3\\Lean on.mp3  "
      ]
     },
     "execution_count": 11,
     "metadata": {},
     "output_type": "execute_result"
    }
   ],
   "source": [
    "mp3_df['new_filepath'] = \\\n",
    "mp3_df.new_filename.apply(lambda x : os.path.join('.', 'mp3',x))\n",
    "mp3_df.head()"
   ]
  },
  {
   "cell_type": "markdown",
   "metadata": {},
   "source": [
    "#### mp3_df의 filepath column에 해당하는 mp3파일을 new_filepath에 복사하기"
   ]
  },
  {
   "cell_type": "code",
   "execution_count": 12,
   "metadata": {},
   "outputs": [],
   "source": [
    "if 'mp3' in os.listdir():\n",
    "    shutil.rmtree('./mp3')\n",
    "os.mkdir('mp3')"
   ]
  },
  {
   "cell_type": "code",
   "execution_count": 13,
   "metadata": {},
   "outputs": [],
   "source": [
    "for index, row in mp3_df.iterrows(): # dict, dict.items()와 유사\n",
    "    filepath = row[1]\n",
    "    new_filepath = row[4]\n",
    "    shutil.copy2(filepath, new_filepath)    "
   ]
  }
 ],
 "metadata": {
  "kernelspec": {
   "display_name": "Python 3",
   "language": "python",
   "name": "python3"
  },
  "language_info": {
   "codemirror_mode": {
    "name": "ipython",
    "version": 3
   },
   "file_extension": ".py",
   "mimetype": "text/x-python",
   "name": "python",
   "nbconvert_exporter": "python",
   "pygments_lexer": "ipython3",
   "version": "3.6.2"
  },
  "varInspector": {
   "cols": {
    "lenName": 16,
    "lenType": 16,
    "lenVar": 40
   },
   "kernels_config": {
    "python": {
     "delete_cmd_postfix": "",
     "delete_cmd_prefix": "del ",
     "library": "var_list.py",
     "varRefreshCmd": "print(var_dic_list())"
    },
    "r": {
     "delete_cmd_postfix": ") ",
     "delete_cmd_prefix": "rm(",
     "library": "var_list.r",
     "varRefreshCmd": "cat(var_dic_list()) "
    }
   },
   "types_to_exclude": [
    "module",
    "function",
    "builtin_function_or_method",
    "instance",
    "_Feature"
   ],
   "window_display": false
  }
 },
 "nbformat": 4,
 "nbformat_minor": 2
}
