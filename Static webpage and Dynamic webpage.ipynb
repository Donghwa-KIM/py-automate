{
 "cells": [
  {
   "cell_type": "markdown",
   "metadata": {},
   "source": [
    "# 정적인 웹사이트, 동적인 웹사이트\n",
    "_본 자료는 안수찬 강사님의 파이썬을 활용한 업무자동화 Camp (fast campus)의 강의자료를 기반으로 만들어졌습니다._  \n",
    "만든이 : 김보섭  \n",
    "\n",
    "## Preliminary\n",
    "* 웹 사이트 (웹 클라이언트) : HTML, CSS, Javascript\n",
    "* HTML : 사이트의 구조\n",
    "* CSS : 사이트의 스타일\n",
    "* Javascript : 사이트의 동적인 기능들 (애니메이션, 데이터를 서버에서 불러오는 기능)\n",
    "* 데이터를 우리에게 뿌려주는 주체\n",
    "    * 웹 서버 => HTML (Server rendering)\n",
    "    * 웹 클라이언트 (Javascript) => HTML (Client Rendering)\n",
    "\n",
    "## Summary\n",
    "* __정적인 웹사이트__ _(requests.get HTML => BeautifulSoup CSS Selector)_\n",
    "    * HTML 파일을 다운로드 (Crawling, Scraping)\n",
    "    * 우리가 원하는 데이터의 위치를 찾아서 추출! (Parsing)\n",
    "        * CSS Selector\n",
    "  \n",
    "  \n",
    "* __동적인 웹사이트__ _(API URL (Headers) => requests.get JSON => Dict)_\n",
    "    * 어딘가에서(\\_____________:: API) 찾는 과정!\n",
    "    * 데이터를 불러오고\n",
    "    * 데이터를 추출하는 (parsing)\n",
    "\n",
    "## HTTP Method (서버에 요청하는 방식)\n",
    "* GET - URL을 통해서 데이터(요청)을 보낸다. (브라우져에서 서버로)\n",
    "* POST - HTTP Body를 통해서 데이터(요청)을 보낸다."
   ]
  },
  {
   "cell_type": "markdown",
   "metadata": {},
   "source": [
    "## 정적인 웹사이트\n",
    "### 네이버 실시간 검색어 데이터"
   ]
  },
  {
   "cell_type": "code",
   "execution_count": 1,
   "metadata": {
    "collapsed": true
   },
   "outputs": [],
   "source": [
    "import requests\n",
    "from bs4 import BeautifulSoup"
   ]
  },
  {
   "cell_type": "code",
   "execution_count": 2,
   "metadata": {
    "collapsed": false
   },
   "outputs": [
    {
     "data": {
      "text/plain": [
       "200"
      ]
     },
     "execution_count": 2,
     "metadata": {},
     "output_type": "execute_result"
    }
   ],
   "source": [
    "response = requests.get('http://www.naver.com/')\n",
    "response.status_code # 200이 뜨면 데이터를 잘 받아왔다는 뜻"
   ]
  },
  {
   "cell_type": "code",
   "execution_count": 3,
   "metadata": {
    "collapsed": false
   },
   "outputs": [
    {
     "data": {
      "text/plain": [
       "str"
      ]
     },
     "execution_count": 3,
     "metadata": {},
     "output_type": "execute_result"
    }
   ],
   "source": [
    "response.text # HTML Text 중에서, 우리가 원하는 데이터 parsing!\n",
    "type(response.text)"
   ]
  },
  {
   "cell_type": "code",
   "execution_count": 4,
   "metadata": {
    "collapsed": false
   },
   "outputs": [],
   "source": [
    "# HTML 구조를 계층적으로! (DOM : Document Object Model)\n",
    "# HTML > BODY > DIV > UL > LI ...\n",
    "#             > DIV > OL > LI\n",
    "dom = BeautifulSoup(response.text, 'html.parser') "
   ]
  },
  {
   "cell_type": "code",
   "execution_count": 5,
   "metadata": {
    "collapsed": false
   },
   "outputs": [],
   "source": [
    "rank_elements = dom.select('ol#realrank li.up')"
   ]
  },
  {
   "cell_type": "code",
   "execution_count": 6,
   "metadata": {
    "collapsed": true
   },
   "outputs": [],
   "source": [
    "rank_element = rank_elements[0]"
   ]
  },
  {
   "cell_type": "code",
   "execution_count": 7,
   "metadata": {
    "collapsed": false
   },
   "outputs": [
    {
     "data": {
      "text/plain": [
       "<li class=\"up\" value=\"1\"><a href=\"http://search.naver.com/search.naver?where=nexearch&amp;query=%EC%B1%84%EC%88%98%EB%B9%88&amp;sm=top_lve&amp;ie=utf8\" title=\"\"><span class=\"ell\">채수빈</span><span class=\"tx\">상승</span><span class=\"ic\"></span><span class=\"rk\">171</span></a></li>"
      ]
     },
     "execution_count": 7,
     "metadata": {},
     "output_type": "execute_result"
    }
   ],
   "source": [
    "rank_element"
   ]
  },
  {
   "cell_type": "code",
   "execution_count": 8,
   "metadata": {
    "collapsed": false
   },
   "outputs": [
    {
     "data": {
      "text/plain": [
       "'채수빈'"
      ]
     },
     "execution_count": 8,
     "metadata": {},
     "output_type": "execute_result"
    }
   ],
   "source": [
    "rank_element.select_one('span.ell').text"
   ]
  },
  {
   "cell_type": "code",
   "execution_count": 9,
   "metadata": {
    "collapsed": false
   },
   "outputs": [
    {
     "data": {
      "text/plain": [
       "['채수빈',\n",
       " '역적',\n",
       " '에이미',\n",
       " '역적 ost',\n",
       " '이수민',\n",
       " '한국 중국',\n",
       " '프리스틴',\n",
       " '학교폭력 실태조사',\n",
       " '애플',\n",
       " '그녀는 거짓말을 너무 사랑해',\n",
       " '몬스타엑스',\n",
       " '박근혜',\n",
       " '외부자들',\n",
       " '하이라이트',\n",
       " 'v앱',\n",
       " '이비에스아이',\n",
       " '아프리카tv',\n",
       " '프리즌']"
      ]
     },
     "execution_count": 9,
     "metadata": {},
     "output_type": "execute_result"
    }
   ],
   "source": [
    "ranks = [rank_element.select_one('span.ell').text for rank_element in rank_elements ]\n",
    "ranks"
   ]
  },
  {
   "cell_type": "markdown",
   "metadata": {},
   "source": [
    "### 네이버 블로그 포스트 가져오기\n",
    "* 포스트 제목\n",
    "* 포스트 주소  "
   ]
  },
  {
   "cell_type": "code",
   "execution_count": 10,
   "metadata": {
    "collapsed": true
   },
   "outputs": [],
   "source": [
    "response = requests.get('https://search.naver.com/search.naver?where=post&sm=tab_jum&ie=utf8&query=%ED%8C%8C%EC%9D%B4%EC%8D%AC')"
   ]
  },
  {
   "cell_type": "code",
   "execution_count": 11,
   "metadata": {
    "collapsed": true
   },
   "outputs": [],
   "source": [
    "dom = BeautifulSoup(response.text, 'html.parser')"
   ]
  },
  {
   "cell_type": "code",
   "execution_count": 12,
   "metadata": {
    "collapsed": false
   },
   "outputs": [],
   "source": [
    "post_elements = dom.select('ul#elThumbnailResultArea li.sh_blog_top')"
   ]
  },
  {
   "cell_type": "code",
   "execution_count": 13,
   "metadata": {
    "collapsed": false
   },
   "outputs": [
    {
     "data": {
      "text/plain": [
       "[{'title': '파이썬프로그래밍 기업에서 선호하는 이유', 'url': 'http://rmsep39.tistory.com/1905'},\n",
       " {'title': '초보자를 위한 파이썬 200제',\n",
       "  'url': 'http://blog.naver.com/infopub?Redirect=Log&logNo=220945501558'},\n",
       " {'title': '파이썬 프로그래밍 배워야하는 3가지이유!', 'url': 'http://1984.tistory.com/448'},\n",
       " {'title': '마인크래프트를 활용한 파이썬 프로그래밍 과정 시작!',\n",
       "  'url': 'http://chogar.blog.me/220942149662'},\n",
       " {'title': '프로그래밍 입문 파이썬부터 시작!!', 'url': 'http://edujoa.tistory.com/1389'},\n",
       " {'title': '오픈소스 언어로 만나는 데이터 분석, ‘파이썬’과 ‘R’',\n",
       "  'url': 'http://blog.lgcns.com/1363'},\n",
       " {'title': '대구 프로그래밍 학원 파이썬 1개월 완성 주말 과정 개설',\n",
       "  'url': 'http://blog.naver.com/nasu0210?Redirect=Log&logNo=220932224509'},\n",
       " {'title': '패치되지 않은 파이썬과 자바 취약점, 해커들이 FTP 인젝션을 통해 방화벽 우회하도록 허용해',\n",
       "  'url': 'http://blog.alyac.co.kr/985'},\n",
       " {'title': '[개발] 파이썬 다운로드 및 윈도우에 설치하는 방법',\n",
       "  'url': 'http://shaeod.tistory.com/949'},\n",
       " {'title': '파이썬 강좌, 비전공자도 배울 수 있다!', 'url': 'http://rmsep39.tistory.com/2056'}]"
      ]
     },
     "execution_count": 13,
     "metadata": {},
     "output_type": "execute_result"
    }
   ],
   "source": [
    "# <a href=\"http://blog.naver.com/__________/123/\"></a>\n",
    "# a (anchor) :: href (hyperlink reference)\n",
    "data = [{'title' : post_element.select_one('a.sh_blog_title').attrs.get('title'),\n",
    "         'url' : post_element.select_one('a.sh_blog_title').attrs.get('href')} for post_element in post_elements]\n",
    "data"
   ]
  },
  {
   "cell_type": "markdown",
   "metadata": {},
   "source": [
    "### 네이버 블로그 포스트 가져오기 (Page 넘어가면서)\n",
    "HTTP method 중 GET 방식, URL에 데이터를 요청하므로, 아래의 example을 보면 URL parameter인 query에 특정값이 할당되어있음을 볼 수 있다.  \n",
    "_(URL parameter인 query에 =로 써있는 값은 '파이썬')_  \n",
    "\n",
    "example : https://search.naver.com/search.naver?where=post&sm=tab_jum&ie=utf8&query=%ED%8C%8C%EC%9D%B4%EC%8D%AC  \n",
    "example(page 정보포함) :  \n",
    "https://search.naver.com/search.naver?where=post&sm=tab_pge&query=%ED%8C%8C%EC%9D%B4%EC%8D%AC&st=sim&date_option=0&dup_remove=1&srchby=all&ie=utf8&start=1\n",
    "  \n",
    "따라서 Page를 넘어가면서 네이버 블로그 '파이썬' 검색결과에서 블로그의 포스트의 제목과 URL을 가져오는 코드는 아래와 같이 구현할 수 있다."
   ]
  },
  {
   "cell_type": "code",
   "execution_count": 14,
   "metadata": {
    "collapsed": false
   },
   "outputs": [],
   "source": [
    "base_url = 'https://search.naver.com/search.naver?where=post&sm=tab_pge&query=파이썬&start={page}'"
   ]
  },
  {
   "cell_type": "code",
   "execution_count": 15,
   "metadata": {
    "collapsed": false
   },
   "outputs": [],
   "source": [
    "data = []\n",
    "for page in range(1,101,10):\n",
    "    response = requests.get(base_url.format(page = page))\n",
    "    dom = BeautifulSoup(response.text, 'html.parser')\n",
    "    post_elements = dom.select('ul#elThumbnailResultArea li.sh_blog_top')\n",
    "    data.append([{'title' : post_element.select_one('a.sh_blog_title').attrs.get('title'),\n",
    "             'url' : post_element.select_one('a.sh_blog_title').attrs.get('href')} for post_element in post_elements])"
   ]
  },
  {
   "cell_type": "code",
   "execution_count": 16,
   "metadata": {
    "collapsed": false
   },
   "outputs": [
    {
     "data": {
      "text/plain": [
       "'D:\\\\dev\\\\py-automate'"
      ]
     },
     "execution_count": 16,
     "metadata": {},
     "output_type": "execute_result"
    }
   ],
   "source": [
    "# 과제\n",
    "# 특정 파일(keywords.txt)을 읽어서\n",
    "# 각각의 키워드에 해당하는 상위노출된 블로그 주소, 제목을 크롤링하고,\n",
    "# 각각의 키워드명.csv 파일에다가 저장하기\n",
    "import os\n",
    "os.getcwd()"
   ]
  },
  {
   "cell_type": "markdown",
   "metadata": {},
   "source": [
    "## 동적인 웹사이트\n",
    "* 실제 데이터가 어디서부터 오는지 체크 (예제 : 직방)\n",
    "* 실제 웹 브라우저를 켜서 직방을 들어가는 방법 (Selenium) (다음 notebook 파일에)"
   ]
  },
  {
   "cell_type": "markdown",
   "metadata": {},
   "source": [
    "### 직방 예제 (실제 주소찾기)\n",
    "* 직방 사이트 :: 직방 개발자들 :: 직방 웹 클라이언트 : 직방 웹 서버 (API Server)  \n",
    "* JSON (JSON API) :: Javascript Obejct Notation == Python Dict (매우 유사!)  \n",
    "* requests.get => str(JSON Format String)"
   ]
  },
  {
   "cell_type": "markdown",
   "metadata": {},
   "source": [
    "#### Python Dict => JSON Format String\n",
    "json.dumps()"
   ]
  },
  {
   "cell_type": "code",
   "execution_count": 17,
   "metadata": {
    "collapsed": true
   },
   "outputs": [],
   "source": [
    "# Python Dict ==> JSON Format String\n",
    "import json\n",
    "student = {'name' : 'Boseop Kim', 'email' : 'svei89@korea.ac.kr'}\n",
    "json_text = json.dumps(student)"
   ]
  },
  {
   "cell_type": "code",
   "execution_count": 18,
   "metadata": {
    "collapsed": false
   },
   "outputs": [
    {
     "name": "stdout",
     "output_type": "stream",
     "text": [
      "{\"name\": \"Boseop Kim\", \"email\": \"svei89@korea.ac.kr\"} <class 'str'>\n"
     ]
    }
   ],
   "source": [
    "print(json_text, type(json_text))"
   ]
  },
  {
   "cell_type": "markdown",
   "metadata": {},
   "source": [
    "####  JSON Format String => Python Dict\n",
    "json.loads()"
   ]
  },
  {
   "cell_type": "code",
   "execution_count": 19,
   "metadata": {
    "collapsed": false
   },
   "outputs": [
    {
     "data": {
      "text/plain": [
       "'{\"name\": \"Boseop Kim\", \"email\": \"svei89@korea.ac.kr\"}'"
      ]
     },
     "execution_count": 19,
     "metadata": {},
     "output_type": "execute_result"
    }
   ],
   "source": [
    "json_text"
   ]
  },
  {
   "cell_type": "code",
   "execution_count": 20,
   "metadata": {
    "collapsed": false
   },
   "outputs": [
    {
     "data": {
      "text/plain": [
       "{'email': 'svei89@korea.ac.kr', 'name': 'Boseop Kim'}"
      ]
     },
     "execution_count": 20,
     "metadata": {},
     "output_type": "execute_result"
    }
   ],
   "source": [
    "json.loads(json_text)"
   ]
  },
  {
   "cell_type": "code",
   "execution_count": 21,
   "metadata": {
    "collapsed": false
   },
   "outputs": [
    {
     "data": {
      "text/plain": [
       "dict"
      ]
     },
     "execution_count": 21,
     "metadata": {},
     "output_type": "execute_result"
    }
   ],
   "source": [
    "type(json.loads(json_text))"
   ]
  },
  {
   "cell_type": "markdown",
   "metadata": {},
   "source": [
    "#### 직방 예제\n",
    "실제 매물정보가 담긴 URL을 크롬 개발자 도구를 이용하여 찾아서 진행, string을 받아왔을 때, 직방의 매물이 json의 형태로 담겨있으므로 바로 json 패키지를 이용하여 진행  "
   ]
  },
  {
   "cell_type": "markdown",
   "metadata": {},
   "source": [
    "#### 보증금과 월세 가져오기"
   ]
  },
  {
   "cell_type": "code",
   "execution_count": 22,
   "metadata": {
    "collapsed": true
   },
   "outputs": [],
   "source": [
    "response = requests.get('https://api.zigbang.com/v3/items?detail=true&item_ids=[7468696,7780221,7747863,7699078,7250207,7779822,7593985,7672971,7557867,7662179,7728008,7748278,7590167,7753835,7684547,7767467,7764519,7703739,7729634,7792521,7747993,7736951,7515215,7577402,7720787,7603913,7721071,7755858,7775742,7755021,7694602,7566668,7722769,7791292,6915486,7542897,7618794,7772538,7690527,7777154,7745980,7710823,7685570,7780189,7775527,7770996,7782847,7750303,7715553,7493782,7736339,7663573,7645807,7652183,7439872,7768911,7584389,7615213,7718616,7720892]')"
   ]
  },
  {
   "cell_type": "code",
   "execution_count": 23,
   "metadata": {
    "collapsed": true
   },
   "outputs": [],
   "source": [
    "zigbang = json.loads(response.text)\n",
    "# zigbang = response.json() 위와 동일한 기능 "
   ]
  },
  {
   "cell_type": "code",
   "execution_count": 24,
   "metadata": {
    "collapsed": false
   },
   "outputs": [
    {
     "data": {
      "text/plain": [
       "dict"
      ]
     },
     "execution_count": 24,
     "metadata": {},
     "output_type": "execute_result"
    }
   ],
   "source": [
    "type(zigbang)"
   ]
  },
  {
   "cell_type": "code",
   "execution_count": 25,
   "metadata": {
    "collapsed": false
   },
   "outputs": [
    {
     "data": {
      "text/plain": [
       "68"
      ]
     },
     "execution_count": 25,
     "metadata": {},
     "output_type": "execute_result"
    }
   ],
   "source": [
    "zigbang['items'][0]['item']['rent']"
   ]
  },
  {
   "cell_type": "code",
   "execution_count": 26,
   "metadata": {
    "collapsed": false
   },
   "outputs": [
    {
     "data": {
      "text/plain": [
       "1000"
      ]
     },
     "execution_count": 26,
     "metadata": {},
     "output_type": "execute_result"
    }
   ],
   "source": [
    "zigbang['items'][0]['item']['deposit']"
   ]
  },
  {
   "cell_type": "markdown",
   "metadata": {},
   "source": [
    "#### 전체 매물에서 월세, 보증금을 뽑기\n",
    "dict의 List 형태 (deposit, rent)"
   ]
  },
  {
   "cell_type": "code",
   "execution_count": 27,
   "metadata": {
    "collapsed": false
   },
   "outputs": [
    {
     "data": {
      "text/plain": [
       "[{'deposit': 1000, 'rent': 68},\n",
       " {'deposit': 2000, 'rent': 75},\n",
       " {'deposit': 2000, 'rent': 30},\n",
       " {'deposit': 500, 'rent': 55},\n",
       " {'deposit': 1000, 'rent': 60},\n",
       " {'deposit': 15000, 'rent': 0},\n",
       " {'deposit': 1000, 'rent': 65},\n",
       " {'deposit': 95, 'rent': 95},\n",
       " {'deposit': 25000, 'rent': 0},\n",
       " {'deposit': 3000, 'rent': 30},\n",
       " {'deposit': 2000, 'rent': 65},\n",
       " {'deposit': 1000, 'rent': 60},\n",
       " {'deposit': 25000, 'rent': 0},\n",
       " {'deposit': 500, 'rent': 50},\n",
       " {'deposit': 5000, 'rent': 65},\n",
       " {'deposit': 22000, 'rent': 0},\n",
       " {'deposit': 2000, 'rent': 80},\n",
       " {'deposit': 14000, 'rent': 0},\n",
       " {'deposit': 1000, 'rent': 45},\n",
       " {'deposit': 1000, 'rent': 65},\n",
       " {'deposit': 500, 'rent': 60},\n",
       " {'deposit': 1000, 'rent': 75},\n",
       " {'deposit': 500, 'rent': 55},\n",
       " {'deposit': 105, 'rent': 105},\n",
       " {'deposit': 100, 'rent': 58},\n",
       " {'deposit': 5000, 'rent': 50},\n",
       " {'deposit': 2000, 'rent': 60},\n",
       " {'deposit': 20000, 'rent': 0},\n",
       " {'deposit': 500, 'rent': 65},\n",
       " {'deposit': 17000, 'rent': 0},\n",
       " {'deposit': 1000, 'rent': 38},\n",
       " {'deposit': 1000, 'rent': 55},\n",
       " {'deposit': 3000, 'rent': 67},\n",
       " {'deposit': 12000, 'rent': 0},\n",
       " {'deposit': 3000, 'rent': 25},\n",
       " {'deposit': 1000, 'rent': 60},\n",
       " {'deposit': 120, 'rent': 120},\n",
       " {'deposit': 100, 'rent': 200},\n",
       " {'deposit': 500, 'rent': 60},\n",
       " {'deposit': 500, 'rent': 45},\n",
       " {'deposit': 80, 'rent': 80},\n",
       " {'deposit': 13000, 'rent': 0},\n",
       " {'deposit': 3000, 'rent': 20},\n",
       " {'deposit': 1000, 'rent': 70},\n",
       " {'deposit': 500, 'rent': 25},\n",
       " {'deposit': 1000, 'rent': 65},\n",
       " {'deposit': 2000, 'rent': 80},\n",
       " {'deposit': 95, 'rent': 95},\n",
       " {'deposit': 3000, 'rent': 95},\n",
       " {'deposit': 500, 'rent': 50},\n",
       " {'deposit': 20000, 'rent': 0},\n",
       " {'deposit': 500, 'rent': 45},\n",
       " {'deposit': 9000, 'rent': 0},\n",
       " {'deposit': 1000, 'rent': 65},\n",
       " {'deposit': 5000, 'rent': 30},\n",
       " {'deposit': 37000, 'rent': 0},\n",
       " {'deposit': 13000, 'rent': 0},\n",
       " {'deposit': 1000, 'rent': 100},\n",
       " {'deposit': 1000, 'rent': 70},\n",
       " {'deposit': 7000, 'rent': 40}]"
      ]
     },
     "execution_count": 27,
     "metadata": {},
     "output_type": "execute_result"
    }
   ],
   "source": [
    "#for item in zigbang.get('items'):\n",
    "#    deposit = item.get('item').get('deposit')\n",
    "#    rent = item.get('item').get('rent')\n",
    "#    print(deposit, rent)\n",
    "[{'deposit': item.get('item').get('deposit'),\n",
    "  'rent': item.get('item').get('rent')} for item in zigbang.get('items')]"
   ]
  },
  {
   "cell_type": "markdown",
   "metadata": {},
   "source": [
    "### 요기요 예제 (개발자 도구에서 response에서는 보이나 해당 URL을 쳐서들어가면 안보이는 경우)\n",
    "아래의 링크의 식당 이름 20개 가져오기  \n",
    "링크 : https://www.yogiyo.co.kr/mobile/#/%EC%84%9C%EC%9A%B8/139231/\n",
    "\n",
    "* Referer : Request가 어디서부터 왔는가?\n",
    "    * 개발자 도구 : yogiyo.co.kr/\n",
    "    * 직접 URL 입력 : Referer가 없는 상태  \n",
    "    \n",
    "    \n",
    "* Request Header (http://docs.python-requests.org/en/master/user/quickstart/)\n",
    "    * Authorization\n",
    "    * X---\n",
    "    * Host"
   ]
  },
  {
   "cell_type": "code",
   "execution_count": 28,
   "metadata": {
    "collapsed": true
   },
   "outputs": [],
   "source": [
    "url = 'https://www.yogiyo.co.kr/api/v1/restaurants-geo/?items=20&order=rank&page=0&search=&zip_code=139231'\n",
    "# 위에 url query에 items를 바꿔서 한번에 여러개 긁어오기도 가능 (API가 잘 구성된 사이트라면!)\n",
    "headers = {'X-ApiKey' : 'iphoneap',\n",
    "           'X-ApiSecret': 'fe5183cc3dea12bd0ce299cf110a75a2'}\n",
    "response = requests.get(url, headers = headers)"
   ]
  },
  {
   "cell_type": "code",
   "execution_count": 29,
   "metadata": {
    "collapsed": false
   },
   "outputs": [
    {
     "data": {
      "text/plain": [
       "['7번가피자-상계점',\n",
       " 'BHC-하계점',\n",
       " 'BHC-하계점',\n",
       " '후라이드참잘하는집-중계점',\n",
       " 'BHC-중계점',\n",
       " '치킨레인저-노원기지',\n",
       " '앵그리불닭발',\n",
       " '땡초불닭발동대문엽기떡볶이-월계점',\n",
       " '빨간고추피자-공릉점',\n",
       " '83닭발-노원점',\n",
       " '엄청난쌀국수-본점',\n",
       " \"강'스피자-since2000\",\n",
       " '정성커리&돈카츠-노원점',\n",
       " '바다회포차',\n",
       " '분식명인김라덕선생-노원점',\n",
       " '피자마루-공릉점',\n",
       " '강정구의피자생각-상계점',\n",
       " '호식이두마리치킨-월계1호점',\n",
       " '왕족발칼국수',\n",
       " '마왕족발-노원점']"
      ]
     },
     "execution_count": 29,
     "metadata": {},
     "output_type": "execute_result"
    }
   ],
   "source": [
    "yogiyo = response.json()\n",
    "[restaurant.get('name') for restaurant in yogiyo.get('restaurants')]"
   ]
  }
 ],
 "metadata": {
  "kernelspec": {
   "display_name": "Python 3",
   "language": "python",
   "name": "python3"
  },
  "language_info": {
   "codemirror_mode": {
    "name": "ipython",
    "version": 3
   },
   "file_extension": ".py",
   "mimetype": "text/x-python",
   "name": "python",
   "nbconvert_exporter": "python",
   "pygments_lexer": "ipython3",
   "version": "3.6.0"
  }
 },
 "nbformat": 4,
 "nbformat_minor": 2
}
