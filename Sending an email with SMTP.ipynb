{
 "cells": [
  {
   "cell_type": "markdown",
   "metadata": {},
   "source": [
    "# SMTP를 이용한 메일 발송하기\n",
    "_본 자료는 안수찬 강사님의 파이썬을 활용한 업무자동화 Camp (fast campus)의 강의자료를 기반으로 만들어졌습니다._  \n",
    "만든이 : 김보섭  "
   ]
  },
  {
   "cell_type": "markdown",
   "metadata": {},
   "source": [
    "* pandas => data science ( == excel )\n",
    "* numpy => 수학, 과학 연산"
   ]
  },
  {
   "cell_type": "markdown",
   "metadata": {},
   "source": [
    "## numpy, pandas basic"
   ]
  },
  {
   "cell_type": "code",
   "execution_count": 1,
   "metadata": {
    "collapsed": true
   },
   "outputs": [],
   "source": [
    "import os, sys\n",
    "import numpy as np\n",
    "import pandas as pd\n",
    "# ndarray\n",
    "# == List\n",
    "# 엑셀의 row, column\n",
    "array = np.array([0, 1, 2, 3, 4]) "
   ]
  },
  {
   "cell_type": "code",
   "execution_count": 2,
   "metadata": {},
   "outputs": [
    {
     "data": {
      "text/plain": [
       "array([ 0,  1,  4,  9, 16])"
      ]
     },
     "execution_count": 2,
     "metadata": {},
     "output_type": "execute_result"
    }
   ],
   "source": [
    "array ** 2"
   ]
  },
  {
   "cell_type": "code",
   "execution_count": 3,
   "metadata": {},
   "outputs": [
    {
     "data": {
      "text/plain": [
       "1"
      ]
     },
     "execution_count": 3,
     "metadata": {},
     "output_type": "execute_result"
    }
   ],
   "source": [
    "array.ndim"
   ]
  },
  {
   "cell_type": "code",
   "execution_count": 4,
   "metadata": {},
   "outputs": [
    {
     "data": {
      "text/plain": [
       "(5,)"
      ]
     },
     "execution_count": 4,
     "metadata": {},
     "output_type": "execute_result"
    }
   ],
   "source": [
    "array.shape"
   ]
  },
  {
   "cell_type": "markdown",
   "metadata": {},
   "source": [
    "### Array => Series( == Row, Column) => Pandas.DataFrame\n",
    "예제 : 학생 출석부 : 이름, 이메일, 주소 엑셀 파일\n"
   ]
  },
  {
   "cell_type": "code",
   "execution_count": 5,
   "metadata": {
    "collapsed": true
   },
   "outputs": [],
   "source": [
    "df = pd.DataFrame(columns = ['Name', 'Email', 'Address'])"
   ]
  },
  {
   "cell_type": "code",
   "execution_count": 6,
   "metadata": {},
   "outputs": [
    {
     "data": {
      "text/html": [
       "<div>\n",
       "<style>\n",
       "    .dataframe thead tr:only-child th {\n",
       "        text-align: right;\n",
       "    }\n",
       "\n",
       "    .dataframe thead th {\n",
       "        text-align: left;\n",
       "    }\n",
       "\n",
       "    .dataframe tbody tr th {\n",
       "        vertical-align: top;\n",
       "    }\n",
       "</style>\n",
       "<table border=\"1\" class=\"dataframe\">\n",
       "  <thead>\n",
       "    <tr style=\"text-align: right;\">\n",
       "      <th></th>\n",
       "      <th>Name</th>\n",
       "      <th>Email</th>\n",
       "      <th>Address</th>\n",
       "    </tr>\n",
       "  </thead>\n",
       "  <tbody>\n",
       "  </tbody>\n",
       "</table>\n",
       "</div>"
      ],
      "text/plain": [
       "Empty DataFrame\n",
       "Columns: [Name, Email, Address]\n",
       "Index: []"
      ]
     },
     "execution_count": 6,
     "metadata": {},
     "output_type": "execute_result"
    }
   ],
   "source": [
    "df # Row 0개인 DataFrame"
   ]
  },
  {
   "cell_type": "code",
   "execution_count": 7,
   "metadata": {},
   "outputs": [
    {
     "data": {
      "text/plain": [
       "0"
      ]
     },
     "execution_count": 7,
     "metadata": {},
     "output_type": "execute_result"
    }
   ],
   "source": [
    "len(df)"
   ]
  },
  {
   "cell_type": "code",
   "execution_count": 8,
   "metadata": {
    "collapsed": true
   },
   "outputs": [],
   "source": [
    "# https://stackoverflow.com/questions/31593201/pandas-iloc-vs-ix-vs-loc-explanation\n",
    "# iloc, ix, loc의 차이를 숙지하고 사용할 것, 거의 대부분 iloc를 사용하는 것이 생각하기 좋을 듯!\n",
    "df.loc[0] = ['김보섭', 'svei89@korea.ac.kr', '서울시 노원구'] # pd.DataFrame 객체의 row 추가방법"
   ]
  },
  {
   "cell_type": "code",
   "execution_count": 9,
   "metadata": {
    "collapsed": true
   },
   "outputs": [],
   "source": [
    "df.loc[1] = ['김보섭1', 'svei89@korea.ac.kr', '서울시 노원구']"
   ]
  },
  {
   "cell_type": "code",
   "execution_count": 10,
   "metadata": {},
   "outputs": [
    {
     "data": {
      "text/html": [
       "<div>\n",
       "<style>\n",
       "    .dataframe thead tr:only-child th {\n",
       "        text-align: right;\n",
       "    }\n",
       "\n",
       "    .dataframe thead th {\n",
       "        text-align: left;\n",
       "    }\n",
       "\n",
       "    .dataframe tbody tr th {\n",
       "        vertical-align: top;\n",
       "    }\n",
       "</style>\n",
       "<table border=\"1\" class=\"dataframe\">\n",
       "  <thead>\n",
       "    <tr style=\"text-align: right;\">\n",
       "      <th></th>\n",
       "      <th>Name</th>\n",
       "      <th>Email</th>\n",
       "      <th>Address</th>\n",
       "    </tr>\n",
       "  </thead>\n",
       "  <tbody>\n",
       "    <tr>\n",
       "      <th>0</th>\n",
       "      <td>김보섭</td>\n",
       "      <td>svei89@korea.ac.kr</td>\n",
       "      <td>서울시 노원구</td>\n",
       "    </tr>\n",
       "    <tr>\n",
       "      <th>1</th>\n",
       "      <td>김보섭1</td>\n",
       "      <td>svei89@korea.ac.kr</td>\n",
       "      <td>서울시 노원구</td>\n",
       "    </tr>\n",
       "  </tbody>\n",
       "</table>\n",
       "</div>"
      ],
      "text/plain": [
       "   Name               Email  Address\n",
       "0   김보섭  svei89@korea.ac.kr  서울시 노원구\n",
       "1  김보섭1  svei89@korea.ac.kr  서울시 노원구"
      ]
     },
     "execution_count": 10,
     "metadata": {},
     "output_type": "execute_result"
    }
   ],
   "source": [
    "df"
   ]
  },
  {
   "cell_type": "code",
   "execution_count": 11,
   "metadata": {},
   "outputs": [
    {
     "data": {
      "text/plain": [
       "0     김보섭\n",
       "1    김보섭1\n",
       "Name: Name, dtype: object"
      ]
     },
     "execution_count": 11,
     "metadata": {},
     "output_type": "execute_result"
    }
   ],
   "source": [
    "# pd.DataFrame에서는 Column Name이 '문자열, _, 숫자의 조합이러면' .ColumnName으로 호출 가능\n",
    "df.Name"
   ]
  },
  {
   "cell_type": "code",
   "execution_count": 12,
   "metadata": {},
   "outputs": [
    {
     "data": {
      "text/plain": [
       "0     김보섭\n",
       "1    김보섭1\n",
       "Name: Name, dtype: object"
      ]
     },
     "execution_count": 12,
     "metadata": {},
     "output_type": "execute_result"
    }
   ],
   "source": [
    "df['Name']"
   ]
  },
  {
   "cell_type": "code",
   "execution_count": 13,
   "metadata": {},
   "outputs": [
    {
     "data": {
      "text/plain": [
       "'김보섭'"
      ]
     },
     "execution_count": 13,
     "metadata": {},
     "output_type": "execute_result"
    }
   ],
   "source": [
    "df.loc[0].Name"
   ]
  },
  {
   "cell_type": "code",
   "execution_count": 14,
   "metadata": {},
   "outputs": [
    {
     "data": {
      "text/plain": [
       "'김보섭'"
      ]
     },
     "execution_count": 14,
     "metadata": {},
     "output_type": "execute_result"
    }
   ],
   "source": [
    "df.loc[0]['Name']"
   ]
  },
  {
   "cell_type": "code",
   "execution_count": 15,
   "metadata": {
    "collapsed": true
   },
   "outputs": [],
   "source": [
    "df['Phonenumber'] = '' # 이럴 경우에는 .으로는 불가능 .은 호출에만 사용된다고 보는 것이 좋겠다."
   ]
  },
  {
   "cell_type": "code",
   "execution_count": 16,
   "metadata": {},
   "outputs": [
    {
     "data": {
      "text/html": [
       "<div>\n",
       "<style>\n",
       "    .dataframe thead tr:only-child th {\n",
       "        text-align: right;\n",
       "    }\n",
       "\n",
       "    .dataframe thead th {\n",
       "        text-align: left;\n",
       "    }\n",
       "\n",
       "    .dataframe tbody tr th {\n",
       "        vertical-align: top;\n",
       "    }\n",
       "</style>\n",
       "<table border=\"1\" class=\"dataframe\">\n",
       "  <thead>\n",
       "    <tr style=\"text-align: right;\">\n",
       "      <th></th>\n",
       "      <th>Name</th>\n",
       "      <th>Email</th>\n",
       "      <th>Address</th>\n",
       "      <th>Phonenumber</th>\n",
       "    </tr>\n",
       "  </thead>\n",
       "  <tbody>\n",
       "    <tr>\n",
       "      <th>0</th>\n",
       "      <td>김보섭</td>\n",
       "      <td>svei89@korea.ac.kr</td>\n",
       "      <td>서울시 노원구</td>\n",
       "      <td></td>\n",
       "    </tr>\n",
       "    <tr>\n",
       "      <th>1</th>\n",
       "      <td>김보섭1</td>\n",
       "      <td>svei89@korea.ac.kr</td>\n",
       "      <td>서울시 노원구</td>\n",
       "      <td></td>\n",
       "    </tr>\n",
       "  </tbody>\n",
       "</table>\n",
       "</div>"
      ],
      "text/plain": [
       "   Name               Email  Address Phonenumber\n",
       "0   김보섭  svei89@korea.ac.kr  서울시 노원구            \n",
       "1  김보섭1  svei89@korea.ac.kr  서울시 노원구            "
      ]
     },
     "execution_count": 16,
     "metadata": {},
     "output_type": "execute_result"
    }
   ],
   "source": [
    "df"
   ]
  },
  {
   "cell_type": "code",
   "execution_count": 17,
   "metadata": {},
   "outputs": [
    {
     "data": {
      "text/plain": [
       "['.ipynb_checkpoints',\n",
       " 'Download raw contents and modify Request Headers.ipynb',\n",
       " 'fastcampus_logo_345x76.png',\n",
       " 'os_shutil.ipynb',\n",
       " 'Python_basic1.ipynb',\n",
       " 'Python_basic2.ipynb',\n",
       " 'Python_basic3.ipynb',\n",
       " 'realtime_keywords.csv',\n",
       " 'Scrapping static webpage.ipynb',\n",
       " 'Scrapping text mining papers in arXiv.py',\n",
       " 'Selenium.ipynb',\n",
       " 'Sending an email with SMTP.ipynb',\n",
       " 'Static webpage and Dynamic webpage.ipynb',\n",
       " 'students.csv',\n",
       " '네이버_실시간_급상승.csv',\n",
       " '파이썬']"
      ]
     },
     "execution_count": 17,
     "metadata": {},
     "output_type": "execute_result"
    }
   ],
   "source": [
    "# csv 파일로 저장\n",
    "os.listdir()"
   ]
  },
  {
   "cell_type": "code",
   "execution_count": 18,
   "metadata": {},
   "outputs": [
    {
     "data": {
      "text/plain": [
       "['.ipynb_checkpoints',\n",
       " 'Download raw contents and modify Request Headers.ipynb',\n",
       " 'fastcampus_logo_345x76.png',\n",
       " 'os_shutil.ipynb',\n",
       " 'Python_basic1.ipynb',\n",
       " 'Python_basic2.ipynb',\n",
       " 'Python_basic3.ipynb',\n",
       " 'realtime_keywords.csv',\n",
       " 'Scrapping static webpage.ipynb',\n",
       " 'Scrapping text mining papers in arXiv.py',\n",
       " 'Selenium.ipynb',\n",
       " 'Sending an email with SMTP.ipynb',\n",
       " 'Static webpage and Dynamic webpage.ipynb',\n",
       " 'students.csv',\n",
       " '네이버_실시간_급상승.csv',\n",
       " '파이썬']"
      ]
     },
     "execution_count": 18,
     "metadata": {},
     "output_type": "execute_result"
    }
   ],
   "source": [
    "df.to_csv('./students.csv')\n",
    "os.listdir()"
   ]
  },
  {
   "cell_type": "markdown",
   "metadata": {
    "collapsed": true
   },
   "source": [
    "### 예제파일 scrapping"
   ]
  },
  {
   "cell_type": "code",
   "execution_count": 19,
   "metadata": {
    "collapsed": true
   },
   "outputs": [],
   "source": [
    "# 네이버 실시간 급상승\n",
    "# 실시간 급상승.csv\n",
    "import requests\n",
    "from bs4 import BeautifulSoup"
   ]
  },
  {
   "cell_type": "code",
   "execution_count": 20,
   "metadata": {
    "collapsed": true
   },
   "outputs": [],
   "source": [
    "response = requests.get('https://www.naver.com/')\n",
    "dom = BeautifulSoup(response.text, 'html.parser')"
   ]
  },
  {
   "cell_type": "code",
   "execution_count": 21,
   "metadata": {
    "collapsed": true
   },
   "outputs": [],
   "source": [
    "elements = dom.select('ul.ah_l li.ah_item a[href=\"#\"] span.ah_k')\n",
    "keywords = [element.text for element in elements]"
   ]
  },
  {
   "cell_type": "code",
   "execution_count": 22,
   "metadata": {},
   "outputs": [
    {
     "data": {
      "text/plain": [
       "['헤이즈',\n",
       " 'ufc213',\n",
       " '인기가요',\n",
       " 'ufc',\n",
       " '스포티비 나우',\n",
       " '로또당첨번호조회',\n",
       " '풍산개',\n",
       " '언니는 살아있다',\n",
       " '레드벨벳',\n",
       " '갤럭시노트 fe',\n",
       " '품위있는 그녀',\n",
       " '아는형님',\n",
       " '비밀의숲',\n",
       " '넉살',\n",
       " '대구날씨',\n",
       " '아버지가 이상해',\n",
       " '무한도전',\n",
       " '오늘날씨',\n",
       " '조선일보',\n",
       " '블랙핑크']"
      ]
     },
     "execution_count": 22,
     "metadata": {},
     "output_type": "execute_result"
    }
   ],
   "source": [
    "keywords"
   ]
  },
  {
   "cell_type": "code",
   "execution_count": 23,
   "metadata": {
    "collapsed": true
   },
   "outputs": [],
   "source": [
    "df = pd.DataFrame(columns = ['키워드'])"
   ]
  },
  {
   "cell_type": "code",
   "execution_count": 24,
   "metadata": {
    "collapsed": true
   },
   "outputs": [],
   "source": [
    "for keyword in keywords:\n",
    "    df.loc[len(df)] = keyword # len(df) 스킬 잘 기억! pd.DataFrame에서 항상 새로운 행을 추가할 때 써먹을 수 있는 코드"
   ]
  },
  {
   "cell_type": "code",
   "execution_count": 25,
   "metadata": {},
   "outputs": [
    {
     "data": {
      "text/html": [
       "<div>\n",
       "<style>\n",
       "    .dataframe thead tr:only-child th {\n",
       "        text-align: right;\n",
       "    }\n",
       "\n",
       "    .dataframe thead th {\n",
       "        text-align: left;\n",
       "    }\n",
       "\n",
       "    .dataframe tbody tr th {\n",
       "        vertical-align: top;\n",
       "    }\n",
       "</style>\n",
       "<table border=\"1\" class=\"dataframe\">\n",
       "  <thead>\n",
       "    <tr style=\"text-align: right;\">\n",
       "      <th></th>\n",
       "      <th>키워드</th>\n",
       "    </tr>\n",
       "  </thead>\n",
       "  <tbody>\n",
       "    <tr>\n",
       "      <th>0</th>\n",
       "      <td>헤이즈</td>\n",
       "    </tr>\n",
       "    <tr>\n",
       "      <th>1</th>\n",
       "      <td>ufc213</td>\n",
       "    </tr>\n",
       "    <tr>\n",
       "      <th>2</th>\n",
       "      <td>인기가요</td>\n",
       "    </tr>\n",
       "    <tr>\n",
       "      <th>3</th>\n",
       "      <td>ufc</td>\n",
       "    </tr>\n",
       "    <tr>\n",
       "      <th>4</th>\n",
       "      <td>스포티비 나우</td>\n",
       "    </tr>\n",
       "    <tr>\n",
       "      <th>5</th>\n",
       "      <td>로또당첨번호조회</td>\n",
       "    </tr>\n",
       "    <tr>\n",
       "      <th>6</th>\n",
       "      <td>풍산개</td>\n",
       "    </tr>\n",
       "    <tr>\n",
       "      <th>7</th>\n",
       "      <td>언니는 살아있다</td>\n",
       "    </tr>\n",
       "    <tr>\n",
       "      <th>8</th>\n",
       "      <td>레드벨벳</td>\n",
       "    </tr>\n",
       "    <tr>\n",
       "      <th>9</th>\n",
       "      <td>갤럭시노트 fe</td>\n",
       "    </tr>\n",
       "    <tr>\n",
       "      <th>10</th>\n",
       "      <td>품위있는 그녀</td>\n",
       "    </tr>\n",
       "    <tr>\n",
       "      <th>11</th>\n",
       "      <td>아는형님</td>\n",
       "    </tr>\n",
       "    <tr>\n",
       "      <th>12</th>\n",
       "      <td>비밀의숲</td>\n",
       "    </tr>\n",
       "    <tr>\n",
       "      <th>13</th>\n",
       "      <td>넉살</td>\n",
       "    </tr>\n",
       "    <tr>\n",
       "      <th>14</th>\n",
       "      <td>대구날씨</td>\n",
       "    </tr>\n",
       "    <tr>\n",
       "      <th>15</th>\n",
       "      <td>아버지가 이상해</td>\n",
       "    </tr>\n",
       "    <tr>\n",
       "      <th>16</th>\n",
       "      <td>무한도전</td>\n",
       "    </tr>\n",
       "    <tr>\n",
       "      <th>17</th>\n",
       "      <td>오늘날씨</td>\n",
       "    </tr>\n",
       "    <tr>\n",
       "      <th>18</th>\n",
       "      <td>조선일보</td>\n",
       "    </tr>\n",
       "    <tr>\n",
       "      <th>19</th>\n",
       "      <td>블랙핑크</td>\n",
       "    </tr>\n",
       "  </tbody>\n",
       "</table>\n",
       "</div>"
      ],
      "text/plain": [
       "         키워드\n",
       "0        헤이즈\n",
       "1     ufc213\n",
       "2       인기가요\n",
       "3        ufc\n",
       "4    스포티비 나우\n",
       "5   로또당첨번호조회\n",
       "6        풍산개\n",
       "7   언니는 살아있다\n",
       "8       레드벨벳\n",
       "9   갤럭시노트 fe\n",
       "10   품위있는 그녀\n",
       "11      아는형님\n",
       "12      비밀의숲\n",
       "13        넉살\n",
       "14      대구날씨\n",
       "15  아버지가 이상해\n",
       "16      무한도전\n",
       "17      오늘날씨\n",
       "18      조선일보\n",
       "19      블랙핑크"
      ]
     },
     "execution_count": 25,
     "metadata": {},
     "output_type": "execute_result"
    }
   ],
   "source": [
    "df"
   ]
  },
  {
   "cell_type": "code",
   "execution_count": 26,
   "metadata": {
    "collapsed": true
   },
   "outputs": [],
   "source": [
    "# list에 적용하는 map에 대응하는 것, pd.DataFrame의 apply"
   ]
  },
  {
   "cell_type": "code",
   "execution_count": 27,
   "metadata": {
    "collapsed": true
   },
   "outputs": [],
   "source": [
    "df['연관 키워드'] = df.키워드.apply(lambda keyword : keyword + ' 오빠랑')"
   ]
  },
  {
   "cell_type": "code",
   "execution_count": 28,
   "metadata": {
    "collapsed": true
   },
   "outputs": [],
   "source": [
    "df['연관 키워드2'] = df.키워드 + ' 오빠랑'"
   ]
  },
  {
   "cell_type": "code",
   "execution_count": 29,
   "metadata": {},
   "outputs": [
    {
     "data": {
      "text/html": [
       "<div>\n",
       "<style>\n",
       "    .dataframe thead tr:only-child th {\n",
       "        text-align: right;\n",
       "    }\n",
       "\n",
       "    .dataframe thead th {\n",
       "        text-align: left;\n",
       "    }\n",
       "\n",
       "    .dataframe tbody tr th {\n",
       "        vertical-align: top;\n",
       "    }\n",
       "</style>\n",
       "<table border=\"1\" class=\"dataframe\">\n",
       "  <thead>\n",
       "    <tr style=\"text-align: right;\">\n",
       "      <th></th>\n",
       "      <th>키워드</th>\n",
       "      <th>연관 키워드</th>\n",
       "      <th>연관 키워드2</th>\n",
       "    </tr>\n",
       "  </thead>\n",
       "  <tbody>\n",
       "    <tr>\n",
       "      <th>0</th>\n",
       "      <td>헤이즈</td>\n",
       "      <td>헤이즈 오빠랑</td>\n",
       "      <td>헤이즈 오빠랑</td>\n",
       "    </tr>\n",
       "    <tr>\n",
       "      <th>1</th>\n",
       "      <td>ufc213</td>\n",
       "      <td>ufc213 오빠랑</td>\n",
       "      <td>ufc213 오빠랑</td>\n",
       "    </tr>\n",
       "    <tr>\n",
       "      <th>2</th>\n",
       "      <td>인기가요</td>\n",
       "      <td>인기가요 오빠랑</td>\n",
       "      <td>인기가요 오빠랑</td>\n",
       "    </tr>\n",
       "    <tr>\n",
       "      <th>3</th>\n",
       "      <td>ufc</td>\n",
       "      <td>ufc 오빠랑</td>\n",
       "      <td>ufc 오빠랑</td>\n",
       "    </tr>\n",
       "    <tr>\n",
       "      <th>4</th>\n",
       "      <td>스포티비 나우</td>\n",
       "      <td>스포티비 나우 오빠랑</td>\n",
       "      <td>스포티비 나우 오빠랑</td>\n",
       "    </tr>\n",
       "    <tr>\n",
       "      <th>5</th>\n",
       "      <td>로또당첨번호조회</td>\n",
       "      <td>로또당첨번호조회 오빠랑</td>\n",
       "      <td>로또당첨번호조회 오빠랑</td>\n",
       "    </tr>\n",
       "    <tr>\n",
       "      <th>6</th>\n",
       "      <td>풍산개</td>\n",
       "      <td>풍산개 오빠랑</td>\n",
       "      <td>풍산개 오빠랑</td>\n",
       "    </tr>\n",
       "    <tr>\n",
       "      <th>7</th>\n",
       "      <td>언니는 살아있다</td>\n",
       "      <td>언니는 살아있다 오빠랑</td>\n",
       "      <td>언니는 살아있다 오빠랑</td>\n",
       "    </tr>\n",
       "    <tr>\n",
       "      <th>8</th>\n",
       "      <td>레드벨벳</td>\n",
       "      <td>레드벨벳 오빠랑</td>\n",
       "      <td>레드벨벳 오빠랑</td>\n",
       "    </tr>\n",
       "    <tr>\n",
       "      <th>9</th>\n",
       "      <td>갤럭시노트 fe</td>\n",
       "      <td>갤럭시노트 fe 오빠랑</td>\n",
       "      <td>갤럭시노트 fe 오빠랑</td>\n",
       "    </tr>\n",
       "    <tr>\n",
       "      <th>10</th>\n",
       "      <td>품위있는 그녀</td>\n",
       "      <td>품위있는 그녀 오빠랑</td>\n",
       "      <td>품위있는 그녀 오빠랑</td>\n",
       "    </tr>\n",
       "    <tr>\n",
       "      <th>11</th>\n",
       "      <td>아는형님</td>\n",
       "      <td>아는형님 오빠랑</td>\n",
       "      <td>아는형님 오빠랑</td>\n",
       "    </tr>\n",
       "    <tr>\n",
       "      <th>12</th>\n",
       "      <td>비밀의숲</td>\n",
       "      <td>비밀의숲 오빠랑</td>\n",
       "      <td>비밀의숲 오빠랑</td>\n",
       "    </tr>\n",
       "    <tr>\n",
       "      <th>13</th>\n",
       "      <td>넉살</td>\n",
       "      <td>넉살 오빠랑</td>\n",
       "      <td>넉살 오빠랑</td>\n",
       "    </tr>\n",
       "    <tr>\n",
       "      <th>14</th>\n",
       "      <td>대구날씨</td>\n",
       "      <td>대구날씨 오빠랑</td>\n",
       "      <td>대구날씨 오빠랑</td>\n",
       "    </tr>\n",
       "    <tr>\n",
       "      <th>15</th>\n",
       "      <td>아버지가 이상해</td>\n",
       "      <td>아버지가 이상해 오빠랑</td>\n",
       "      <td>아버지가 이상해 오빠랑</td>\n",
       "    </tr>\n",
       "    <tr>\n",
       "      <th>16</th>\n",
       "      <td>무한도전</td>\n",
       "      <td>무한도전 오빠랑</td>\n",
       "      <td>무한도전 오빠랑</td>\n",
       "    </tr>\n",
       "    <tr>\n",
       "      <th>17</th>\n",
       "      <td>오늘날씨</td>\n",
       "      <td>오늘날씨 오빠랑</td>\n",
       "      <td>오늘날씨 오빠랑</td>\n",
       "    </tr>\n",
       "    <tr>\n",
       "      <th>18</th>\n",
       "      <td>조선일보</td>\n",
       "      <td>조선일보 오빠랑</td>\n",
       "      <td>조선일보 오빠랑</td>\n",
       "    </tr>\n",
       "    <tr>\n",
       "      <th>19</th>\n",
       "      <td>블랙핑크</td>\n",
       "      <td>블랙핑크 오빠랑</td>\n",
       "      <td>블랙핑크 오빠랑</td>\n",
       "    </tr>\n",
       "  </tbody>\n",
       "</table>\n",
       "</div>"
      ],
      "text/plain": [
       "         키워드        연관 키워드       연관 키워드2\n",
       "0        헤이즈       헤이즈 오빠랑       헤이즈 오빠랑\n",
       "1     ufc213    ufc213 오빠랑    ufc213 오빠랑\n",
       "2       인기가요      인기가요 오빠랑      인기가요 오빠랑\n",
       "3        ufc       ufc 오빠랑       ufc 오빠랑\n",
       "4    스포티비 나우   스포티비 나우 오빠랑   스포티비 나우 오빠랑\n",
       "5   로또당첨번호조회  로또당첨번호조회 오빠랑  로또당첨번호조회 오빠랑\n",
       "6        풍산개       풍산개 오빠랑       풍산개 오빠랑\n",
       "7   언니는 살아있다  언니는 살아있다 오빠랑  언니는 살아있다 오빠랑\n",
       "8       레드벨벳      레드벨벳 오빠랑      레드벨벳 오빠랑\n",
       "9   갤럭시노트 fe  갤럭시노트 fe 오빠랑  갤럭시노트 fe 오빠랑\n",
       "10   품위있는 그녀   품위있는 그녀 오빠랑   품위있는 그녀 오빠랑\n",
       "11      아는형님      아는형님 오빠랑      아는형님 오빠랑\n",
       "12      비밀의숲      비밀의숲 오빠랑      비밀의숲 오빠랑\n",
       "13        넉살        넉살 오빠랑        넉살 오빠랑\n",
       "14      대구날씨      대구날씨 오빠랑      대구날씨 오빠랑\n",
       "15  아버지가 이상해  아버지가 이상해 오빠랑  아버지가 이상해 오빠랑\n",
       "16      무한도전      무한도전 오빠랑      무한도전 오빠랑\n",
       "17      오늘날씨      오늘날씨 오빠랑      오늘날씨 오빠랑\n",
       "18      조선일보      조선일보 오빠랑      조선일보 오빠랑\n",
       "19      블랙핑크      블랙핑크 오빠랑      블랙핑크 오빠랑"
      ]
     },
     "execution_count": 29,
     "metadata": {},
     "output_type": "execute_result"
    }
   ],
   "source": [
    "df"
   ]
  },
  {
   "cell_type": "code",
   "execution_count": 30,
   "metadata": {},
   "outputs": [
    {
     "data": {
      "text/plain": [
       "['.ipynb_checkpoints',\n",
       " 'Download raw contents and modify Request Headers.ipynb',\n",
       " 'fastcampus_logo_345x76.png',\n",
       " 'os_shutil.ipynb',\n",
       " 'Python_basic1.ipynb',\n",
       " 'Python_basic2.ipynb',\n",
       " 'Python_basic3.ipynb',\n",
       " 'realtime_keywords.csv',\n",
       " 'Scrapping static webpage.ipynb',\n",
       " 'Scrapping text mining papers in arXiv.py',\n",
       " 'Selenium.ipynb',\n",
       " 'Sending an email with SMTP.ipynb',\n",
       " 'Static webpage and Dynamic webpage.ipynb',\n",
       " 'students.csv',\n",
       " '네이버_실시간_급상승.csv',\n",
       " '파이썬']"
      ]
     },
     "execution_count": 30,
     "metadata": {},
     "output_type": "execute_result"
    }
   ],
   "source": [
    "os.listdir()"
   ]
  },
  {
   "cell_type": "code",
   "execution_count": 31,
   "metadata": {
    "collapsed": true
   },
   "outputs": [],
   "source": [
    "df.to_csv('./realtime_keywords.csv', index = False, header = True)"
   ]
  },
  {
   "cell_type": "code",
   "execution_count": 32,
   "metadata": {},
   "outputs": [
    {
     "data": {
      "text/plain": [
       "'D:\\\\dev\\\\py-automate'"
      ]
     },
     "execution_count": 32,
     "metadata": {},
     "output_type": "execute_result"
    }
   ],
   "source": [
    "os.getcwd()"
   ]
  },
  {
   "cell_type": "code",
   "execution_count": 33,
   "metadata": {},
   "outputs": [
    {
     "data": {
      "text/plain": [
       "['.ipynb_checkpoints',\n",
       " 'Download raw contents and modify Request Headers.ipynb',\n",
       " 'fastcampus_logo_345x76.png',\n",
       " 'os_shutil.ipynb',\n",
       " 'Python_basic1.ipynb',\n",
       " 'Python_basic2.ipynb',\n",
       " 'Python_basic3.ipynb',\n",
       " 'realtime_keywords.csv',\n",
       " 'Scrapping static webpage.ipynb',\n",
       " 'Scrapping text mining papers in arXiv.py',\n",
       " 'Selenium.ipynb',\n",
       " 'Sending an email with SMTP.ipynb',\n",
       " 'Static webpage and Dynamic webpage.ipynb',\n",
       " 'students.csv',\n",
       " '네이버_실시간_급상승.csv',\n",
       " '파이썬']"
      ]
     },
     "execution_count": 33,
     "metadata": {},
     "output_type": "execute_result"
    }
   ],
   "source": [
    "os.listdir()"
   ]
  },
  {
   "cell_type": "code",
   "execution_count": 34,
   "metadata": {},
   "outputs": [
    {
     "data": {
      "text/plain": [
       "'D:\\\\dev\\\\py-automate'"
      ]
     },
     "execution_count": 34,
     "metadata": {},
     "output_type": "execute_result"
    }
   ],
   "source": [
    "os.getcwd()"
   ]
  },
  {
   "cell_type": "code",
   "execution_count": 35,
   "metadata": {},
   "outputs": [
    {
     "data": {
      "text/html": [
       "<div>\n",
       "<style>\n",
       "    .dataframe thead tr:only-child th {\n",
       "        text-align: right;\n",
       "    }\n",
       "\n",
       "    .dataframe thead th {\n",
       "        text-align: left;\n",
       "    }\n",
       "\n",
       "    .dataframe tbody tr th {\n",
       "        vertical-align: top;\n",
       "    }\n",
       "</style>\n",
       "<table border=\"1\" class=\"dataframe\">\n",
       "  <thead>\n",
       "    <tr style=\"text-align: right;\">\n",
       "      <th></th>\n",
       "      <th>키워드</th>\n",
       "      <th>연관 키워드</th>\n",
       "      <th>연관 키워드2</th>\n",
       "    </tr>\n",
       "  </thead>\n",
       "  <tbody>\n",
       "    <tr>\n",
       "      <th>0</th>\n",
       "      <td>헤이즈</td>\n",
       "      <td>헤이즈 오빠랑</td>\n",
       "      <td>헤이즈 오빠랑</td>\n",
       "    </tr>\n",
       "    <tr>\n",
       "      <th>1</th>\n",
       "      <td>ufc213</td>\n",
       "      <td>ufc213 오빠랑</td>\n",
       "      <td>ufc213 오빠랑</td>\n",
       "    </tr>\n",
       "    <tr>\n",
       "      <th>2</th>\n",
       "      <td>인기가요</td>\n",
       "      <td>인기가요 오빠랑</td>\n",
       "      <td>인기가요 오빠랑</td>\n",
       "    </tr>\n",
       "    <tr>\n",
       "      <th>3</th>\n",
       "      <td>ufc</td>\n",
       "      <td>ufc 오빠랑</td>\n",
       "      <td>ufc 오빠랑</td>\n",
       "    </tr>\n",
       "    <tr>\n",
       "      <th>4</th>\n",
       "      <td>스포티비 나우</td>\n",
       "      <td>스포티비 나우 오빠랑</td>\n",
       "      <td>스포티비 나우 오빠랑</td>\n",
       "    </tr>\n",
       "    <tr>\n",
       "      <th>5</th>\n",
       "      <td>로또당첨번호조회</td>\n",
       "      <td>로또당첨번호조회 오빠랑</td>\n",
       "      <td>로또당첨번호조회 오빠랑</td>\n",
       "    </tr>\n",
       "    <tr>\n",
       "      <th>6</th>\n",
       "      <td>풍산개</td>\n",
       "      <td>풍산개 오빠랑</td>\n",
       "      <td>풍산개 오빠랑</td>\n",
       "    </tr>\n",
       "    <tr>\n",
       "      <th>7</th>\n",
       "      <td>언니는 살아있다</td>\n",
       "      <td>언니는 살아있다 오빠랑</td>\n",
       "      <td>언니는 살아있다 오빠랑</td>\n",
       "    </tr>\n",
       "    <tr>\n",
       "      <th>8</th>\n",
       "      <td>레드벨벳</td>\n",
       "      <td>레드벨벳 오빠랑</td>\n",
       "      <td>레드벨벳 오빠랑</td>\n",
       "    </tr>\n",
       "    <tr>\n",
       "      <th>9</th>\n",
       "      <td>갤럭시노트 fe</td>\n",
       "      <td>갤럭시노트 fe 오빠랑</td>\n",
       "      <td>갤럭시노트 fe 오빠랑</td>\n",
       "    </tr>\n",
       "    <tr>\n",
       "      <th>10</th>\n",
       "      <td>품위있는 그녀</td>\n",
       "      <td>품위있는 그녀 오빠랑</td>\n",
       "      <td>품위있는 그녀 오빠랑</td>\n",
       "    </tr>\n",
       "    <tr>\n",
       "      <th>11</th>\n",
       "      <td>아는형님</td>\n",
       "      <td>아는형님 오빠랑</td>\n",
       "      <td>아는형님 오빠랑</td>\n",
       "    </tr>\n",
       "    <tr>\n",
       "      <th>12</th>\n",
       "      <td>비밀의숲</td>\n",
       "      <td>비밀의숲 오빠랑</td>\n",
       "      <td>비밀의숲 오빠랑</td>\n",
       "    </tr>\n",
       "    <tr>\n",
       "      <th>13</th>\n",
       "      <td>넉살</td>\n",
       "      <td>넉살 오빠랑</td>\n",
       "      <td>넉살 오빠랑</td>\n",
       "    </tr>\n",
       "    <tr>\n",
       "      <th>14</th>\n",
       "      <td>대구날씨</td>\n",
       "      <td>대구날씨 오빠랑</td>\n",
       "      <td>대구날씨 오빠랑</td>\n",
       "    </tr>\n",
       "    <tr>\n",
       "      <th>15</th>\n",
       "      <td>아버지가 이상해</td>\n",
       "      <td>아버지가 이상해 오빠랑</td>\n",
       "      <td>아버지가 이상해 오빠랑</td>\n",
       "    </tr>\n",
       "    <tr>\n",
       "      <th>16</th>\n",
       "      <td>무한도전</td>\n",
       "      <td>무한도전 오빠랑</td>\n",
       "      <td>무한도전 오빠랑</td>\n",
       "    </tr>\n",
       "    <tr>\n",
       "      <th>17</th>\n",
       "      <td>오늘날씨</td>\n",
       "      <td>오늘날씨 오빠랑</td>\n",
       "      <td>오늘날씨 오빠랑</td>\n",
       "    </tr>\n",
       "    <tr>\n",
       "      <th>18</th>\n",
       "      <td>조선일보</td>\n",
       "      <td>조선일보 오빠랑</td>\n",
       "      <td>조선일보 오빠랑</td>\n",
       "    </tr>\n",
       "    <tr>\n",
       "      <th>19</th>\n",
       "      <td>블랙핑크</td>\n",
       "      <td>블랙핑크 오빠랑</td>\n",
       "      <td>블랙핑크 오빠랑</td>\n",
       "    </tr>\n",
       "  </tbody>\n",
       "</table>\n",
       "</div>"
      ],
      "text/plain": [
       "         키워드        연관 키워드       연관 키워드2\n",
       "0        헤이즈       헤이즈 오빠랑       헤이즈 오빠랑\n",
       "1     ufc213    ufc213 오빠랑    ufc213 오빠랑\n",
       "2       인기가요      인기가요 오빠랑      인기가요 오빠랑\n",
       "3        ufc       ufc 오빠랑       ufc 오빠랑\n",
       "4    스포티비 나우   스포티비 나우 오빠랑   스포티비 나우 오빠랑\n",
       "5   로또당첨번호조회  로또당첨번호조회 오빠랑  로또당첨번호조회 오빠랑\n",
       "6        풍산개       풍산개 오빠랑       풍산개 오빠랑\n",
       "7   언니는 살아있다  언니는 살아있다 오빠랑  언니는 살아있다 오빠랑\n",
       "8       레드벨벳      레드벨벳 오빠랑      레드벨벳 오빠랑\n",
       "9   갤럭시노트 fe  갤럭시노트 fe 오빠랑  갤럭시노트 fe 오빠랑\n",
       "10   품위있는 그녀   품위있는 그녀 오빠랑   품위있는 그녀 오빠랑\n",
       "11      아는형님      아는형님 오빠랑      아는형님 오빠랑\n",
       "12      비밀의숲      비밀의숲 오빠랑      비밀의숲 오빠랑\n",
       "13        넉살        넉살 오빠랑        넉살 오빠랑\n",
       "14      대구날씨      대구날씨 오빠랑      대구날씨 오빠랑\n",
       "15  아버지가 이상해  아버지가 이상해 오빠랑  아버지가 이상해 오빠랑\n",
       "16      무한도전      무한도전 오빠랑      무한도전 오빠랑\n",
       "17      오늘날씨      오늘날씨 오빠랑      오늘날씨 오빠랑\n",
       "18      조선일보      조선일보 오빠랑      조선일보 오빠랑\n",
       "19      블랙핑크      블랙핑크 오빠랑      블랙핑크 오빠랑"
      ]
     },
     "execution_count": 35,
     "metadata": {},
     "output_type": "execute_result"
    }
   ],
   "source": [
    "pd.read_csv('./realtime_keywords.csv', encoding='cp949')"
   ]
  },
  {
   "cell_type": "markdown",
   "metadata": {},
   "source": [
    "## 메일보내기\n",
    "네이버 메일을 이용, POP3/IMAP 설정  \n",
    "SMTP (Simple Mail Transfer Protocol)"
   ]
  },
  {
   "cell_type": "markdown",
   "metadata": {},
   "source": [
    "### 1. 단순 메일 보내기 (첨부파일 없음)"
   ]
  },
  {
   "cell_type": "code",
   "execution_count": 36,
   "metadata": {
    "collapsed": true
   },
   "outputs": [],
   "source": [
    "## MIME (Multipurpose Internet Mail Extensions)\n",
    "# .jpg, .png, .gif -> 웹브라우저의 새 창\n",
    "# .pdf -> 크롬 브라우저의 자체 Viewer (IE)\n",
    "# .css -> 별도의 창이 하나 뜨게\n",
    "# Content-Type, MIMEType : 'text/html', 'application/json'\n",
    "# 가장 기본적인 'text/plain' 'hello world'\n",
    "import os\n",
    "import shutil\n",
    "import smtplib\n",
    "from email.mime.text import MIMEText"
   ]
  },
  {
   "cell_type": "code",
   "execution_count": 37,
   "metadata": {
    "collapsed": true
   },
   "outputs": [],
   "source": [
    "smtp_host = 'smtp.naver.com'\n",
    "smtp_port = 465\n",
    "# smtp_username = 'username'\n",
    "# smtp_password = 'password'\n",
    "smtp_username = 'svei89'\n",
    "smtp_password = '1q2w3e4r!' # 예제를 위하여 임시로 사용한 비번입니다.\n",
    "\n",
    "sender = 'svei89@naver.com'\n",
    "receiver = 'bsk0130@gmail.com'"
   ]
  },
  {
   "cell_type": "code",
   "execution_count": 38,
   "metadata": {
    "collapsed": true
   },
   "outputs": [],
   "source": [
    "msg = MIMEText(\"이메일 테스트 본문\", _charset='euc-kr')\n",
    "\n",
    "msg['Subject'] = \"이메일 테스트 제목\"\n",
    "msg['From'] = sender\n",
    "msg['To'] = receiver"
   ]
  },
  {
   "cell_type": "code",
   "execution_count": 39,
   "metadata": {},
   "outputs": [
    {
     "data": {
      "text/plain": [
       "[('Content-Type', 'text/plain; charset=\"euc-kr\"'),\n",
       " ('MIME-Version', '1.0'),\n",
       " ('Content-Transfer-Encoding', 'base64'),\n",
       " ('Subject', '이메일 테스트 제목'),\n",
       " ('From', 'svei89@naver.com'),\n",
       " ('To', 'bsk0130@gmail.com')]"
      ]
     },
     "execution_count": 39,
     "metadata": {},
     "output_type": "execute_result"
    }
   ],
   "source": [
    "msg.items()"
   ]
  },
  {
   "cell_type": "code",
   "execution_count": 40,
   "metadata": {},
   "outputs": [
    {
     "data": {
      "text/plain": [
       "'Content-Type: text/plain; charset=\"euc-kr\"\\nMIME-Version: 1.0\\nContent-Transfer-Encoding: base64\\nSubject: =?utf-8?b?7J2066mU7J28IO2FjOyKpO2KuCDsoJzrqqk=?=\\nFrom: svei89@naver.com\\nTo: bsk0130@gmail.com\\n\\nwMy43sDPIMXXvbrGriC6u7mu\\n'"
      ]
     },
     "execution_count": 40,
     "metadata": {},
     "output_type": "execute_result"
    }
   ],
   "source": [
    "msg.as_string()"
   ]
  },
  {
   "cell_type": "code",
   "execution_count": 41,
   "metadata": {},
   "outputs": [
    {
     "data": {
      "text/plain": [
       "(221, b'2.0.0 Closing connection Cls2NlxESBK+1ehBVVfGxg - nsmtp')"
      ]
     },
     "execution_count": 41,
     "metadata": {},
     "output_type": "execute_result"
    }
   ],
   "source": [
    "smtp = smtplib.SMTP_SSL(host = smtp_host, port = smtp_port)\n",
    "smtp.login(user = smtp_username, password = smtp_password)\n",
    "smtp.sendmail(\n",
    "    sender,\n",
    "    receiver,\n",
    "    msg.as_string())\n",
    "smtp.quit()"
   ]
  },
  {
   "cell_type": "markdown",
   "metadata": {
    "collapsed": true
   },
   "source": [
    "### 2. 파일 첨부해서 메일보내기\n",
    "#### 파일 한 개 첨부\n",
    "내 directory 내에 있는 fastcampus_logo_345x76.png 파일을 첨부하여 보내는 예제"
   ]
  },
  {
   "cell_type": "code",
   "execution_count": 42,
   "metadata": {},
   "outputs": [
    {
     "data": {
      "text/plain": [
       "['.ipynb_checkpoints',\n",
       " 'Download raw contents and modify Request Headers.ipynb',\n",
       " 'fastcampus_logo_345x76.png',\n",
       " 'os_shutil.ipynb',\n",
       " 'Python_basic1.ipynb',\n",
       " 'Python_basic2.ipynb',\n",
       " 'Python_basic3.ipynb',\n",
       " 'realtime_keywords.csv',\n",
       " 'Scrapping static webpage.ipynb',\n",
       " 'Scrapping text mining papers in arXiv.py',\n",
       " 'Selenium.ipynb',\n",
       " 'Sending an email with SMTP.ipynb',\n",
       " 'Static webpage and Dynamic webpage.ipynb',\n",
       " 'students.csv',\n",
       " '네이버_실시간_급상승.csv',\n",
       " '파이썬']"
      ]
     },
     "execution_count": 42,
     "metadata": {},
     "output_type": "execute_result"
    }
   ],
   "source": [
    "os.listdir()"
   ]
  },
  {
   "cell_type": "code",
   "execution_count": 43,
   "metadata": {
    "collapsed": true
   },
   "outputs": [],
   "source": [
    "from email.mime.multipart import MIMEMultipart\n",
    "from email.mime.application import MIMEApplication\n",
    "msg = MIMEMultipart()\n",
    "msg['Subject'] = \"이메일 테스트 제목\"\n",
    "msg['From'] = sender\n",
    "msg['To'] = receiver\n",
    "msg.attach(MIMEText('이메일 본문', _charset='euc-kr'))"
   ]
  },
  {
   "cell_type": "code",
   "execution_count": 44,
   "metadata": {},
   "outputs": [
    {
     "data": {
      "text/plain": [
       "[('Content-Type', 'application/octet-stream; Name=\"fastcampus.png\"'),\n",
       " ('MIME-Version', '1.0'),\n",
       " ('Content-Transfer-Encoding', 'base64'),\n",
       " ('Content-Disposition', 'attachment; filename=\"fastcampus.png\"')]"
      ]
     },
     "execution_count": 44,
     "metadata": {},
     "output_type": "execute_result"
    }
   ],
   "source": [
    "part = MIMEApplication(\n",
    "                            open('./fastcampus_logo_345x76.png', 'rb').read(),\n",
    "                            Name = 'fastcampus.png'\n",
    "\n",
    ")\n",
    "part['Content-Disposition'] = 'attachment; filename=\"{filename}\"'.format(filename = 'fastcampus.png')\n",
    "part.items()"
   ]
  },
  {
   "cell_type": "code",
   "execution_count": 45,
   "metadata": {
    "collapsed": true
   },
   "outputs": [],
   "source": [
    "msg.attach(part)"
   ]
  },
  {
   "cell_type": "code",
   "execution_count": 46,
   "metadata": {},
   "outputs": [
    {
     "data": {
      "text/plain": [
       "(221, b'2.0.0 Closing connection eD-3yvLlQXm193uAEEOOlA - nsmtp')"
      ]
     },
     "execution_count": 46,
     "metadata": {},
     "output_type": "execute_result"
    }
   ],
   "source": [
    "smtp_host = 'smtp.naver.com'\n",
    "smtp_port = 465\n",
    "# smtp_username = 'username'\n",
    "# smtp_password = 'password'\n",
    "smtp_username = 'svei89'\n",
    "smtp_password = '1q2w3e4r!'\n",
    "\n",
    "sender = 'svei89@naver.com'\n",
    "receiver = 'bsk0130@gmail.com'\n",
    "smtp = smtplib.SMTP_SSL(host = smtp_host, port = smtp_port)\n",
    "smtp.login(user = smtp_username, password = smtp_password)\n",
    "smtp.sendmail(\n",
    "                sender,\n",
    "                receiver,\n",
    "                msg.as_string()\n",
    ")\n",
    "smtp.quit()"
   ]
  },
  {
   "cell_type": "markdown",
   "metadata": {},
   "source": [
    "#### 여러 개의 파일을 첨부\n",
    "현재 directory 내에 있는 fastcampus_logo_345x76.png, students.csv 파일을 첨부하여 메일로 보내는 예제"
   ]
  },
  {
   "cell_type": "code",
   "execution_count": 47,
   "metadata": {},
   "outputs": [
    {
     "data": {
      "text/plain": [
       "['.ipynb_checkpoints',\n",
       " 'Download raw contents and modify Request Headers.ipynb',\n",
       " 'fastcampus_logo_345x76.png',\n",
       " 'os_shutil.ipynb',\n",
       " 'Python_basic1.ipynb',\n",
       " 'Python_basic2.ipynb',\n",
       " 'Python_basic3.ipynb',\n",
       " 'realtime_keywords.csv',\n",
       " 'Scrapping static webpage.ipynb',\n",
       " 'Scrapping text mining papers in arXiv.py',\n",
       " 'Selenium.ipynb',\n",
       " 'Sending an email with SMTP.ipynb',\n",
       " 'Static webpage and Dynamic webpage.ipynb',\n",
       " 'students.csv',\n",
       " '네이버_실시간_급상승.csv',\n",
       " '파이썬']"
      ]
     },
     "execution_count": 47,
     "metadata": {},
     "output_type": "execute_result"
    }
   ],
   "source": [
    "os.listdir()"
   ]
  },
  {
   "cell_type": "code",
   "execution_count": 48,
   "metadata": {},
   "outputs": [
    {
     "data": {
      "text/plain": [
       "(221, b'2.0.0 Closing connection -aRB7RikQVCwCfQBDAVytw - nsmtp')"
      ]
     },
     "execution_count": 48,
     "metadata": {},
     "output_type": "execute_result"
    }
   ],
   "source": [
    "# 현재 directory 내에 있는 fastcampus_logo_345x76.png, students.csv 파일을 첨부하여 메일로 보내는 예제\n",
    "from email.mime.multipart import MIMEMultipart\n",
    "from email.mime.application import MIMEApplication\n",
    "msg = MIMEMultipart()\n",
    "msg['Subject'] = \"이메일 테스트 제목\"\n",
    "msg['From'] = sender\n",
    "msg['To'] = receiver\n",
    "msg.attach(MIMEText('이메일 본문', _charset='euc-kr'))\n",
    "\n",
    "filenames = ['fastcampus_logo_345x76.png', 'students.csv'] # 나중에 해당 부분을 dictionary로 정리하는 게 코드 상으로 깔끔할 듯\n",
    "\n",
    "for filename in filenames:\n",
    "    part = MIMEApplication(\n",
    "                            open(filename, 'rb').read(),\n",
    "                            Name = filename)\n",
    "    part['Content-Disposition'] = 'attachment; filename=\"{filename}\"'.format(filename = filename)\n",
    "    msg.attach(part)\n",
    "\n",
    "\n",
    "# 발신인, 수신인 선정    \n",
    "sender = 'svei89@naver.com'\n",
    "receiver = 'bsk0130@gmail.com'\n",
    "\n",
    "smtp = smtplib.SMTP_SSL(host = smtp_host, port = smtp_port)\n",
    "smtp.login(user = smtp_username, password = smtp_password)\n",
    "smtp.sendmail(\n",
    "                sender,\n",
    "                receiver,\n",
    "                msg.as_string()\n",
    ")\n",
    "smtp.quit()    "
   ]
  },
  {
   "cell_type": "markdown",
   "metadata": {},
   "source": [
    "#### 함수 형태의 코드"
   ]
  },
  {
   "cell_type": "code",
   "execution_count": 49,
   "metadata": {},
   "outputs": [
    {
     "data": {
      "text/plain": [
       "['.ipynb_checkpoints',\n",
       " 'Download raw contents and modify Request Headers.ipynb',\n",
       " 'fastcampus_logo_345x76.png',\n",
       " 'os_shutil.ipynb',\n",
       " 'Python_basic1.ipynb',\n",
       " 'Python_basic2.ipynb',\n",
       " 'Python_basic3.ipynb',\n",
       " 'realtime_keywords.csv',\n",
       " 'Scrapping static webpage.ipynb',\n",
       " 'Scrapping text mining papers in arXiv.py',\n",
       " 'Selenium.ipynb',\n",
       " 'Sending an email with SMTP.ipynb',\n",
       " 'Static webpage and Dynamic webpage.ipynb',\n",
       " 'students.csv',\n",
       " '네이버_실시간_급상승.csv',\n",
       " '파이썬']"
      ]
     },
     "execution_count": 49,
     "metadata": {},
     "output_type": "execute_result"
    }
   ],
   "source": [
    "os.listdir()"
   ]
  },
  {
   "cell_type": "code",
   "execution_count": 50,
   "metadata": {
    "collapsed": true
   },
   "outputs": [],
   "source": [
    "smtp_host = 'smtp.naver.com'\n",
    "smtp_port = 465\n",
    "smtp_username = 'svei89'\n",
    "smtp_password = '1q2w3e4r'\n",
    "\n",
    "def send_email(sender, receiver, title, content, files = []):\n",
    "    smtp = smtplib.SMTP_SSL(host = smtp_host, port = smtp_port)\n",
    "    smtp.login(user = smtp_username, password = smtp_password)\n",
    "    \n",
    "    msg = MIMEMultipart()\n",
    "    msg['Subject'] = title\n",
    "    msg['From'] = sender\n",
    "    msg['To'] = receiver\n",
    "    msg.attach(MIMEText(content, _charset='euc-kr'))\n",
    "    \n",
    "    filenames = files\n",
    "    \n",
    "    for filename in filenames:\n",
    "        part = MIMEApplication(\n",
    "                            open(filename, 'rb').read(), Name = filename)\n",
    "        part['Content-Disposition'] = 'attachment; filename=\"{filename}\"'.format(filename = filename)\n",
    "        msg.attach(part)\n",
    "        \n",
    "    smtp.sendmail(\n",
    "                sender,\n",
    "                receiver,\n",
    "                msg.as_string())\n",
    "    smtp.quit()"
   ]
  }
 ],
 "metadata": {
  "kernelspec": {
   "display_name": "Python 3",
   "language": "python",
   "name": "python3"
  },
  "language_info": {
   "codemirror_mode": {
    "name": "ipython",
    "version": 3
   },
   "file_extension": ".py",
   "mimetype": "text/x-python",
   "name": "python",
   "nbconvert_exporter": "python",
   "pygments_lexer": "ipython3",
   "version": "3.6.1"
  }
 },
 "nbformat": 4,
 "nbformat_minor": 2
}
