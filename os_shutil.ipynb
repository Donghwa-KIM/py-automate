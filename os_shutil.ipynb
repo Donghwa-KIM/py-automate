{
 "cells": [
  {
   "cell_type": "markdown",
   "metadata": {},
   "source": [
    "# 폴더와 파일관리를 위한 os, shutil module\n",
    "_본 자료는 안수찬 강사님의 파이썬을 활용한 업무자동화 Camp (fast campus)의 강의자료를 기반으로 만들어졌습니다._  \n",
    "만든이 : 김보섭  \n",
    "\n",
    "## 패키지, 모듈이란?\n",
    "파이썬 파일, 파이썬 파일들이 모여있는 폴더  \n",
    "* 파이썬 기본 모듈 - os(Operating System) , shutil(High level)  \n",
    "* 파이썬 외장 모듈 (3rd Party) - install!  \n",
    "    * requests(HTTP Request), BeautifulSoup(HTML)  \n",
    "\n",
    "## summary : os, shutil\n",
    "* 파일/폴더 생성하기\n",
    "* 파일/폴더 복사하기 : shutil.copy2, shutil.copytree\n",
    "* 파일/폴더 삭제하기 : os.remove, os.removedirs, shutil.rmtree\n",
    "* 파일/폴더 이동하기 : os.rename, shutil.move\n",
    "* 파일/폴더 압축하기 : shutil.make_archive, shutil.unpack_archive"
   ]
  },
  {
   "cell_type": "markdown",
   "metadata": {},
   "source": [
    "## os  \n",
    "https://docs.python.org/3/library/os.html\n",
    "### os.listdir()  \n",
    "폴더안에 있는 모든 파일을 출력하는 함수"
   ]
  },
  {
   "cell_type": "code",
   "execution_count": 1,
   "metadata": {
    "collapsed": true
   },
   "outputs": [],
   "source": [
    "# from _______________ import ______________\n",
    "# import ______________"
   ]
  },
  {
   "cell_type": "code",
   "execution_count": 2,
   "metadata": {
    "collapsed": true
   },
   "outputs": [],
   "source": [
    "import os\n",
    "from os import listdir"
   ]
  },
  {
   "cell_type": "code",
   "execution_count": 3,
   "metadata": {
    "collapsed": false
   },
   "outputs": [
    {
     "data": {
      "text/plain": [
       "['.ipynb_checkpoints',\n",
       " 'animals.csv',\n",
       " 'animals2.csv',\n",
       " 'fruits.csv',\n",
       " 'os_shutil.ipynb',\n",
       " 'Python_basic1.ipynb',\n",
       " 'Python_basic2.ipynb',\n",
       " 'Python_basic3.ipynb',\n",
       " 'src.txt',\n",
       " 'test.txt']"
      ]
     },
     "execution_count": 3,
     "metadata": {},
     "output_type": "execute_result"
    }
   ],
   "source": [
    "listdir()"
   ]
  },
  {
   "cell_type": "code",
   "execution_count": 4,
   "metadata": {
    "collapsed": false
   },
   "outputs": [
    {
     "data": {
      "text/plain": [
       "['.ipynb_checkpoints',\n",
       " 'animals.csv',\n",
       " 'animals2.csv',\n",
       " 'fruits.csv',\n",
       " 'os_shutil.ipynb',\n",
       " 'Python_basic1.ipynb',\n",
       " 'Python_basic2.ipynb',\n",
       " 'Python_basic3.ipynb',\n",
       " 'src.txt',\n",
       " 'test.txt']"
      ]
     },
     "execution_count": 4,
     "metadata": {},
     "output_type": "execute_result"
    }
   ],
   "source": [
    "os.listdir()"
   ]
  },
  {
   "cell_type": "code",
   "execution_count": 5,
   "metadata": {
    "collapsed": false
   },
   "outputs": [
    {
     "data": {
      "text/plain": [
       "['.ipynb_checkpoints',\n",
       " 'DLEL',\n",
       " 'DLFS',\n",
       " 'ML-Python',\n",
       " 'py-automate',\n",
       " 'Python-Tutorial',\n",
       " 'R-Tutorial',\n",
       " 'sample-code-from-cs231n',\n",
       " 'tmp']"
      ]
     },
     "execution_count": 5,
     "metadata": {},
     "output_type": "execute_result"
    }
   ],
   "source": [
    "# . => Current directory\n",
    "# .. => Parent directory\n",
    "# ../ => 상위폴더\n",
    "# ../../ => 상위폴더의 상위폴더\n",
    "os.listdir('../')"
   ]
  },
  {
   "cell_type": "markdown",
   "metadata": {},
   "source": [
    "### os.path.join()  \n",
    "PATH를 생성하는 함수"
   ]
  },
  {
   "cell_type": "code",
   "execution_count": 6,
   "metadata": {
    "collapsed": false
   },
   "outputs": [
    {
     "data": {
      "text/plain": [
       "'some\\\\path\\\\to\\\\excel.xls'"
      ]
     },
     "execution_count": 6,
     "metadata": {},
     "output_type": "execute_result"
    }
   ],
   "source": [
    "os.path.join('some', 'path', 'to', 'excel.xls')"
   ]
  },
  {
   "cell_type": "code",
   "execution_count": 7,
   "metadata": {
    "collapsed": false
   },
   "outputs": [
    {
     "data": {
      "text/plain": [
       "['.ipynb_checkpoints',\n",
       " 'animals.csv',\n",
       " 'animals2.csv',\n",
       " 'fruits.csv',\n",
       " 'os_shutil.ipynb',\n",
       " 'Python_basic1.ipynb',\n",
       " 'Python_basic2.ipynb',\n",
       " 'Python_basic3.ipynb',\n",
       " 'src.txt',\n",
       " 'test.txt']"
      ]
     },
     "execution_count": 7,
     "metadata": {},
     "output_type": "execute_result"
    }
   ],
   "source": [
    "os.listdir(os.path.join('./'))"
   ]
  },
  {
   "cell_type": "code",
   "execution_count": 8,
   "metadata": {
    "collapsed": false
   },
   "outputs": [
    {
     "data": {
      "text/plain": [
       "['src.txt', 'test.txt']"
      ]
     },
     "execution_count": 8,
     "metadata": {},
     "output_type": "execute_result"
    }
   ],
   "source": [
    "# .txt 파일만의 리스트 생성\n",
    "# 해당 디렉토리 내에 txt 파일 아무거나 만들어놓고 따라해보시면됩니다.\n",
    "# list.comprehension 이용\n",
    "[i for i in os.listdir(os.path.join('./')) if i.endswith('.txt')]"
   ]
  },
  {
   "cell_type": "code",
   "execution_count": 9,
   "metadata": {
    "collapsed": false
   },
   "outputs": [
    {
     "data": {
      "text/plain": [
       "['src.txt', 'test.txt']"
      ]
     },
     "execution_count": 9,
     "metadata": {},
     "output_type": "execute_result"
    }
   ],
   "source": [
    "# Lambda Operator ( Filter)\n",
    "list(filter(lambda x : x.endswith('.txt'),\n",
    "            os.listdir(os.path.join('./'))))"
   ]
  },
  {
   "cell_type": "markdown",
   "metadata": {},
   "source": [
    "### os.makedirs()\n",
    "폴더를 생성하는 함수"
   ]
  },
  {
   "cell_type": "code",
   "execution_count": 10,
   "metadata": {
    "collapsed": false
   },
   "outputs": [
    {
     "data": {
      "text/plain": [
       "['.ipynb_checkpoints',\n",
       " 'animals.csv',\n",
       " 'animals2.csv',\n",
       " 'fruits.csv',\n",
       " 'os_shutil.ipynb',\n",
       " 'Python_basic1.ipynb',\n",
       " 'Python_basic2.ipynb',\n",
       " 'Python_basic3.ipynb',\n",
       " 'src.txt',\n",
       " 'test.txt']"
      ]
     },
     "execution_count": 10,
     "metadata": {},
     "output_type": "execute_result"
    }
   ],
   "source": [
    "os.listdir()"
   ]
  },
  {
   "cell_type": "code",
   "execution_count": 11,
   "metadata": {
    "collapsed": false
   },
   "outputs": [],
   "source": [
    "os.makedirs('./automate') # 폴더생성"
   ]
  },
  {
   "cell_type": "code",
   "execution_count": 12,
   "metadata": {
    "collapsed": false
   },
   "outputs": [
    {
     "data": {
      "text/plain": [
       "['.ipynb_checkpoints',\n",
       " 'animals.csv',\n",
       " 'animals2.csv',\n",
       " 'automate',\n",
       " 'fruits.csv',\n",
       " 'os_shutil.ipynb',\n",
       " 'Python_basic1.ipynb',\n",
       " 'Python_basic2.ipynb',\n",
       " 'Python_basic3.ipynb',\n",
       " 'src.txt',\n",
       " 'test.txt']"
      ]
     },
     "execution_count": 12,
     "metadata": {},
     "output_type": "execute_result"
    }
   ],
   "source": [
    "os.listdir()"
   ]
  },
  {
   "cell_type": "markdown",
   "metadata": {},
   "source": [
    "### example : copy file"
   ]
  },
  {
   "cell_type": "code",
   "execution_count": 13,
   "metadata": {
    "collapsed": true
   },
   "outputs": [],
   "source": [
    "# 파일 복사\n",
    "# with open('', '') as fp\n",
    "# 파일복사 -> 1. 기존 파일 읽기 => data => 2. 새로운 파일에 쓰기\n",
    "# 잘라내기 -> 1. 기존 파일 읽기 => data => 2. 새로운 파일에 쓰기 => 3. 기존파일 삭제하기"
   ]
  },
  {
   "cell_type": "code",
   "execution_count": 14,
   "metadata": {
    "collapsed": true
   },
   "outputs": [],
   "source": [
    "def copy(src_filename, dest_filename):\n",
    "    # 1. src file을 읽어서\n",
    "    #       fp = open('_____', ') fp.close()\n",
    "    #       with open('_______', '') as fp:\n",
    "\n",
    "    with open(src_filename, 'r') as src_fp:\n",
    "        data = src_fp.read()\n",
    "    # 2. dest file에다가 쓴다.\n",
    "    with open(dest_filename, 'w') as dest_fp:\n",
    "        dest_fp.write(data)"
   ]
  },
  {
   "cell_type": "code",
   "execution_count": 15,
   "metadata": {
    "collapsed": false
   },
   "outputs": [],
   "source": [
    "copy(src_filename = './src.txt',\n",
    "     dest_filename = './automate/dest.txt')"
   ]
  },
  {
   "cell_type": "code",
   "execution_count": 16,
   "metadata": {
    "collapsed": false
   },
   "outputs": [
    {
     "data": {
      "text/plain": [
       "['dest.txt']"
      ]
     },
     "execution_count": 16,
     "metadata": {},
     "output_type": "execute_result"
    }
   ],
   "source": [
    "os.listdir('./automate')"
   ]
  },
  {
   "cell_type": "code",
   "execution_count": 17,
   "metadata": {
    "collapsed": false
   },
   "outputs": [],
   "source": [
    "copy(src_filename = os.path.join('src.txt'),\n",
    "     dest_filename = os.path.join('automate', 'dest.txt')\n",
    ")"
   ]
  },
  {
   "cell_type": "code",
   "execution_count": 18,
   "metadata": {
    "collapsed": false
   },
   "outputs": [
    {
     "data": {
      "text/plain": [
       "['dest.txt']"
      ]
     },
     "execution_count": 18,
     "metadata": {},
     "output_type": "execute_result"
    }
   ],
   "source": [
    "os.listdir('./automate/')"
   ]
  },
  {
   "cell_type": "markdown",
   "metadata": {},
   "source": [
    "## shutil\n",
    "복잡한 파일 관리... + os module => shutil  \n",
    "https://docs.python.org/3/library/shutil.html"
   ]
  },
  {
   "cell_type": "markdown",
   "metadata": {},
   "source": [
    "### shutil.copy2(src, dst)\n",
    "파일을 복사하는 함수"
   ]
  },
  {
   "cell_type": "code",
   "execution_count": 19,
   "metadata": {
    "collapsed": false
   },
   "outputs": [
    {
     "data": {
      "text/plain": [
       "'automate\\\\shutil_dest.txt'"
      ]
     },
     "execution_count": 19,
     "metadata": {},
     "output_type": "execute_result"
    }
   ],
   "source": [
    "import shutil\n",
    "shutil.copy2(\n",
    "    os.path.join('src.txt'),\n",
    "    os.path.join('automate', 'shutil_dest.txt')\n",
    ")"
   ]
  },
  {
   "cell_type": "code",
   "execution_count": 20,
   "metadata": {
    "collapsed": false
   },
   "outputs": [
    {
     "data": {
      "text/plain": [
       "['dest.txt', 'shutil_dest.txt']"
      ]
     },
     "execution_count": 20,
     "metadata": {},
     "output_type": "execute_result"
    }
   ],
   "source": [
    "os.listdir('./automate/')"
   ]
  },
  {
   "cell_type": "markdown",
   "metadata": {},
   "source": [
    "### shutil.copytree(src, dst)\n",
    "폴더를 복사하는 함수"
   ]
  },
  {
   "cell_type": "code",
   "execution_count": 21,
   "metadata": {
    "collapsed": false
   },
   "outputs": [
    {
     "data": {
      "text/plain": [
       "'./new_automate/'"
      ]
     },
     "execution_count": 21,
     "metadata": {},
     "output_type": "execute_result"
    }
   ],
   "source": [
    "# automate라고 하는 폴더\n",
    "shutil.copytree(src = './automate/', dst = './new_automate/')"
   ]
  },
  {
   "cell_type": "code",
   "execution_count": 22,
   "metadata": {
    "collapsed": false
   },
   "outputs": [
    {
     "data": {
      "text/plain": [
       "['.ipynb_checkpoints',\n",
       " 'animals.csv',\n",
       " 'animals2.csv',\n",
       " 'automate',\n",
       " 'fruits.csv',\n",
       " 'new_automate',\n",
       " 'os_shutil.ipynb',\n",
       " 'Python_basic1.ipynb',\n",
       " 'Python_basic2.ipynb',\n",
       " 'Python_basic3.ipynb',\n",
       " 'src.txt',\n",
       " 'test.txt']"
      ]
     },
     "execution_count": 22,
     "metadata": {},
     "output_type": "execute_result"
    }
   ],
   "source": [
    "os.listdir()"
   ]
  },
  {
   "cell_type": "code",
   "execution_count": 23,
   "metadata": {
    "collapsed": false
   },
   "outputs": [
    {
     "data": {
      "text/plain": [
       "['dest.txt', 'shutil_dest.txt']"
      ]
     },
     "execution_count": 23,
     "metadata": {},
     "output_type": "execute_result"
    }
   ],
   "source": [
    "os.listdir('./new_automate/')"
   ]
  },
  {
   "cell_type": "code",
   "execution_count": 24,
   "metadata": {
    "collapsed": false
   },
   "outputs": [
    {
     "data": {
      "text/plain": [
       "['dest.txt', 'shutil_dest.txt']"
      ]
     },
     "execution_count": 24,
     "metadata": {},
     "output_type": "execute_result"
    }
   ],
   "source": [
    "os.listdir('./automate/')"
   ]
  },
  {
   "cell_type": "markdown",
   "metadata": {},
   "source": [
    "### 폴더 및 파일 삭제\n",
    "os.remove, os.removedirs, shutil.rmtree"
   ]
  },
  {
   "cell_type": "code",
   "execution_count": 25,
   "metadata": {
    "collapsed": false
   },
   "outputs": [
    {
     "data": {
      "text/plain": [
       "['dest.txt', 'shutil_dest.txt']"
      ]
     },
     "execution_count": 25,
     "metadata": {},
     "output_type": "execute_result"
    }
   ],
   "source": [
    "os.listdir('./automate/')"
   ]
  },
  {
   "cell_type": "code",
   "execution_count": 26,
   "metadata": {
    "collapsed": false
   },
   "outputs": [],
   "source": [
    "os.remove('./automate/dest.txt')"
   ]
  },
  {
   "cell_type": "code",
   "execution_count": 27,
   "metadata": {
    "collapsed": false
   },
   "outputs": [
    {
     "data": {
      "text/plain": [
       "['shutil_dest.txt']"
      ]
     },
     "execution_count": 27,
     "metadata": {},
     "output_type": "execute_result"
    }
   ],
   "source": [
    "os.listdir('./automate/')"
   ]
  },
  {
   "cell_type": "code",
   "execution_count": 28,
   "metadata": {
    "collapsed": false
   },
   "outputs": [
    {
     "ename": "OSError",
     "evalue": "[WinError 145] 디렉터리가 비어 있지 않습니다: './automate/'",
     "output_type": "error",
     "traceback": [
      "\u001b[0;31m---------------------------------------------------------------------------\u001b[0m",
      "\u001b[0;31mOSError\u001b[0m                                   Traceback (most recent call last)",
      "\u001b[0;32m<ipython-input-28-1961dc150a83>\u001b[0m in \u001b[0;36m<module>\u001b[0;34m()\u001b[0m\n\u001b[0;32m----> 1\u001b[0;31m \u001b[0mos\u001b[0m\u001b[1;33m.\u001b[0m\u001b[0mremovedirs\u001b[0m\u001b[1;33m(\u001b[0m\u001b[1;34m'./automate/'\u001b[0m\u001b[1;33m)\u001b[0m \u001b[1;31m# 디렉토리가 비어야 삭제됨\u001b[0m\u001b[1;33m\u001b[0m\u001b[0m\n\u001b[0m",
      "\u001b[0;32mC:\\ProgramData\\Anaconda3\\lib\\os.py\u001b[0m in \u001b[0;36mremovedirs\u001b[0;34m(name)\u001b[0m\n\u001b[1;32m    236\u001b[0m \u001b[1;33m\u001b[0m\u001b[0m\n\u001b[1;32m    237\u001b[0m     \"\"\"\n\u001b[0;32m--> 238\u001b[0;31m     \u001b[0mrmdir\u001b[0m\u001b[1;33m(\u001b[0m\u001b[0mname\u001b[0m\u001b[1;33m)\u001b[0m\u001b[1;33m\u001b[0m\u001b[0m\n\u001b[0m\u001b[1;32m    239\u001b[0m     \u001b[0mhead\u001b[0m\u001b[1;33m,\u001b[0m \u001b[0mtail\u001b[0m \u001b[1;33m=\u001b[0m \u001b[0mpath\u001b[0m\u001b[1;33m.\u001b[0m\u001b[0msplit\u001b[0m\u001b[1;33m(\u001b[0m\u001b[0mname\u001b[0m\u001b[1;33m)\u001b[0m\u001b[1;33m\u001b[0m\u001b[0m\n\u001b[1;32m    240\u001b[0m     \u001b[1;32mif\u001b[0m \u001b[1;32mnot\u001b[0m \u001b[0mtail\u001b[0m\u001b[1;33m:\u001b[0m\u001b[1;33m\u001b[0m\u001b[0m\n",
      "\u001b[0;31mOSError\u001b[0m: [WinError 145] 디렉터리가 비어 있지 않습니다: './automate/'"
     ]
    }
   ],
   "source": [
    "os.removedirs('./automate/') # 디렉토리가 비어야 삭제됨"
   ]
  },
  {
   "cell_type": "code",
   "execution_count": 29,
   "metadata": {
    "collapsed": true
   },
   "outputs": [],
   "source": [
    "# 디렉토리가 비어있지않아도 삭제가능\n",
    "shutil.rmtree('./automate/')"
   ]
  },
  {
   "cell_type": "code",
   "execution_count": 30,
   "metadata": {
    "collapsed": false
   },
   "outputs": [
    {
     "data": {
      "text/plain": [
       "['dest.txt', 'shutil_dest.txt']"
      ]
     },
     "execution_count": 30,
     "metadata": {},
     "output_type": "execute_result"
    }
   ],
   "source": [
    "os.listdir('new_automate/')"
   ]
  },
  {
   "cell_type": "code",
   "execution_count": 31,
   "metadata": {
    "collapsed": false
   },
   "outputs": [
    {
     "data": {
      "text/plain": [
       "['.ipynb_checkpoints',\n",
       " 'animals.csv',\n",
       " 'animals2.csv',\n",
       " 'fruits.csv',\n",
       " 'new_automate',\n",
       " 'os_shutil.ipynb',\n",
       " 'Python_basic1.ipynb',\n",
       " 'Python_basic2.ipynb',\n",
       " 'Python_basic3.ipynb',\n",
       " 'src.txt',\n",
       " 'test.txt']"
      ]
     },
     "execution_count": 31,
     "metadata": {},
     "output_type": "execute_result"
    }
   ],
   "source": [
    "os.listdir()"
   ]
  },
  {
   "cell_type": "markdown",
   "metadata": {},
   "source": [
    "### 파일/폴더 옮기기\n",
    "os.rename, shutil.move"
   ]
  },
  {
   "cell_type": "code",
   "execution_count": 32,
   "metadata": {
    "collapsed": false
   },
   "outputs": [],
   "source": [
    "os.rename(src = './new_automate/dest.txt', dst = './new_automate/copy.txt')"
   ]
  },
  {
   "cell_type": "code",
   "execution_count": 33,
   "metadata": {
    "collapsed": false
   },
   "outputs": [
    {
     "data": {
      "text/plain": [
       "['copy.txt', 'shutil_dest.txt']"
      ]
     },
     "execution_count": 33,
     "metadata": {},
     "output_type": "execute_result"
    }
   ],
   "source": [
    "os.listdir('new_automate/')"
   ]
  },
  {
   "cell_type": "code",
   "execution_count": 34,
   "metadata": {
    "collapsed": false
   },
   "outputs": [
    {
     "data": {
      "text/plain": [
       "'./new_automate/move.txt'"
      ]
     },
     "execution_count": 34,
     "metadata": {},
     "output_type": "execute_result"
    }
   ],
   "source": [
    "shutil.move(src = './new_automate/copy.txt', dst = './new_automate/move.txt')"
   ]
  },
  {
   "cell_type": "code",
   "execution_count": 35,
   "metadata": {
    "collapsed": false
   },
   "outputs": [
    {
     "data": {
      "text/plain": [
       "['move.txt', 'shutil_dest.txt']"
      ]
     },
     "execution_count": 35,
     "metadata": {},
     "output_type": "execute_result"
    }
   ],
   "source": [
    "os.listdir('new_automate/')"
   ]
  },
  {
   "cell_type": "markdown",
   "metadata": {},
   "source": [
    "### example : 사진파일정리\n",
    "연도 별, 월 별 사진 파일 정리"
   ]
  },
  {
   "cell_type": "code",
   "execution_count": 36,
   "metadata": {
    "collapsed": false
   },
   "outputs": [],
   "source": [
    "os.mkdir('./hello/')"
   ]
  },
  {
   "cell_type": "code",
   "execution_count": 37,
   "metadata": {
    "collapsed": true
   },
   "outputs": [],
   "source": [
    "for year in range(2013, 2016):\n",
    "    for month in range(1, 12 + 1):\n",
    "        for day in range(1, 30 + 1):\n",
    "            filename = 'Screenshot-{year}-{month}-{day}.jpg'.format(\n",
    "            year = year,\n",
    "            month = month,\n",
    "            day = day)\n",
    "            \n",
    "            fp = open('./hello/' + filename, 'w')\n",
    "            fp.close()"
   ]
  },
  {
   "cell_type": "code",
   "execution_count": 38,
   "metadata": {
    "collapsed": false
   },
   "outputs": [],
   "source": [
    "# 년/월 기준으로 나누자\n",
    "# 2009/08/________________________\n",
    "#         ________________________\n",
    "# 2009/09/________________________\n",
    "#         ________________________\n",
    "if 'Photos' in os.listdir():\n",
    "    shutil.rmtree('./Photos/')\n",
    "os.mkdir(path = './Photos/')"
   ]
  },
  {
   "cell_type": "code",
   "execution_count": 39,
   "metadata": {
    "collapsed": false
   },
   "outputs": [
    {
     "data": {
      "text/plain": [
       "['Screenshot-2013-1-1.jpg',\n",
       " 'Screenshot-2013-1-10.jpg',\n",
       " 'Screenshot-2013-1-11.jpg',\n",
       " 'Screenshot-2013-1-12.jpg']"
      ]
     },
     "execution_count": 39,
     "metadata": {},
     "output_type": "execute_result"
    }
   ],
   "source": [
    "filenames = os.listdir('./hello/')\n",
    "filenames[0:4]"
   ]
  },
  {
   "cell_type": "code",
   "execution_count": 40,
   "metadata": {
    "collapsed": false
   },
   "outputs": [
    {
     "data": {
      "text/plain": [
       "'Screenshot-2013-1-1.jpg'"
      ]
     },
     "execution_count": 40,
     "metadata": {},
     "output_type": "execute_result"
    }
   ],
   "source": [
    "filename = filenames[0]\n",
    "filename"
   ]
  },
  {
   "cell_type": "code",
   "execution_count": 41,
   "metadata": {
    "collapsed": false
   },
   "outputs": [
    {
     "data": {
      "text/plain": [
       "['Screenshot', '2013', '1', '1']"
      ]
     },
     "execution_count": 41,
     "metadata": {},
     "output_type": "execute_result"
    }
   ],
   "source": [
    "filename.split('.')[0].split('-')"
   ]
  },
  {
   "cell_type": "code",
   "execution_count": 42,
   "metadata": {
    "collapsed": false
   },
   "outputs": [],
   "source": [
    "for filename in filenames:\n",
    "    year = filename.split('.')[0].split('-')[1]\n",
    "    month = filename.split('.')[0].split('-')[2]\n",
    "    # year에 맞는 폴더를 생성해야한다.\n",
    "    if not year in os.listdir('./Photos/'):\n",
    "        os.mkdir('./Photos/{year}/'.format(year = year))\n",
    "    # month에 맞는 폴더를 생성한다.\n",
    "    if not month in os.listdir(os.path.join('Photos', year)):\n",
    "        os.mkdir('./Photos/{year}/{month}/'.format(year = year, month = month))\n",
    "        \n",
    "    \n",
    "    # shutil.copy2(src, dest)\n",
    "    src_filename = os.path.join('.', 'hello', filename)\n",
    "    dest_filename = os.path.join('Photos', year, month, filename)\n",
    "    shutil.copy2(src = src_filename, dst = dest_filename)"
   ]
  },
  {
   "cell_type": "markdown",
   "metadata": {},
   "source": [
    "### example : 압축하기"
   ]
  },
  {
   "cell_type": "code",
   "execution_count": 43,
   "metadata": {
    "collapsed": true
   },
   "outputs": [],
   "source": [
    "?shutil.make_archive"
   ]
  },
  {
   "cell_type": "code",
   "execution_count": 44,
   "metadata": {
    "collapsed": false
   },
   "outputs": [
    {
     "data": {
      "text/plain": [
       "'D:\\\\dev\\\\py-automate\\\\Photos.zip'"
      ]
     },
     "execution_count": 44,
     "metadata": {},
     "output_type": "execute_result"
    }
   ],
   "source": [
    "# shutil - archive\n",
    "shutil.make_archive(\n",
    "        'Photos', # 압축파일 이름 (Photos.zip)\n",
    "        'zip', # 압축파일 형태\n",
    "        './Photos/' # 압축할 폴더지정  \n",
    ")"
   ]
  },
  {
   "cell_type": "markdown",
   "metadata": {},
   "source": [
    "### example : 압축풀기 "
   ]
  },
  {
   "cell_type": "code",
   "execution_count": 45,
   "metadata": {
    "collapsed": false
   },
   "outputs": [
    {
     "data": {
      "text/plain": [
       "['Photos.zip']"
      ]
     },
     "execution_count": 45,
     "metadata": {},
     "output_type": "execute_result"
    }
   ],
   "source": [
    "[filename for filename in os.listdir() if filename.endswith('.zip')]"
   ]
  },
  {
   "cell_type": "code",
   "execution_count": 46,
   "metadata": {
    "collapsed": true
   },
   "outputs": [],
   "source": [
    "shutil.unpack_archive('Photos.zip', './MyPhotos/')"
   ]
  },
  {
   "cell_type": "code",
   "execution_count": 47,
   "metadata": {
    "collapsed": false
   },
   "outputs": [
    {
     "data": {
      "text/plain": [
       "['.ipynb_checkpoints',\n",
       " 'animals.csv',\n",
       " 'animals2.csv',\n",
       " 'fruits.csv',\n",
       " 'hello',\n",
       " 'MyPhotos',\n",
       " 'new_automate',\n",
       " 'os_shutil.ipynb',\n",
       " 'Photos',\n",
       " 'Photos.zip',\n",
       " 'Python_basic1.ipynb',\n",
       " 'Python_basic2.ipynb',\n",
       " 'Python_basic3.ipynb',\n",
       " 'src.txt',\n",
       " 'test.txt']"
      ]
     },
     "execution_count": 47,
     "metadata": {},
     "output_type": "execute_result"
    }
   ],
   "source": [
    "os.listdir()"
   ]
  }
 ],
 "metadata": {
  "kernelspec": {
   "display_name": "Python 3",
   "language": "python",
   "name": "python3"
  },
  "language_info": {
   "codemirror_mode": {
    "name": "ipython",
    "version": 3
   },
   "file_extension": ".py",
   "mimetype": "text/x-python",
   "name": "python",
   "nbconvert_exporter": "python",
   "pygments_lexer": "ipython3",
   "version": "3.6.0"
  }
 },
 "nbformat": 4,
 "nbformat_minor": 2
}
