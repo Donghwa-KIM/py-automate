{
 "cells": [
  {
   "cell_type": "markdown",
   "metadata": {},
   "source": [
    "# 파이썬으로 엑셀다루기 (with Pandas)\n",
    "_본 자료는 안수찬 강사님의 파이썬을 활용한 업무자동화 Camp (fast campus)의 강의자료를 기반으로 만들어졌습니다._  \n",
    "만든이 : 김보섭  "
   ]
  },
  {
   "cell_type": "markdown",
   "metadata": {},
   "source": [
    "### Filtering example 1"
   ]
  },
  {
   "cell_type": "code",
   "execution_count": 1,
   "metadata": {
    "collapsed": true
   },
   "outputs": [],
   "source": [
    "# Filtering\n",
    "# map, filter를 그대로 활용"
   ]
  },
  {
   "cell_type": "code",
   "execution_count": 2,
   "metadata": {
    "collapsed": true
   },
   "outputs": [],
   "source": [
    "numbers = [-100, 100, -200, 200, -300, 300]"
   ]
  },
  {
   "cell_type": "code",
   "execution_count": 3,
   "metadata": {},
   "outputs": [
    {
     "data": {
      "text/plain": [
       "[100, 200, 300]"
      ]
     },
     "execution_count": 3,
     "metadata": {},
     "output_type": "execute_result"
    }
   ],
   "source": [
    "list(filter(lambda x : x >= 0, numbers))\n",
    "\n",
    "# 1. map\n",
    "# 2. map을 한 결과 중에서 True 만을 뽑는 거"
   ]
  },
  {
   "cell_type": "code",
   "execution_count": 4,
   "metadata": {},
   "outputs": [
    {
     "data": {
      "text/plain": [
       "[False, True, False, True, False, True]"
      ]
     },
     "execution_count": 4,
     "metadata": {},
     "output_type": "execute_result"
    }
   ],
   "source": [
    "list(map(lambda x : x >= 0, numbers)) # Filtering Mask, Boolean Mask"
   ]
  },
  {
   "cell_type": "code",
   "execution_count": 5,
   "metadata": {
    "collapsed": true
   },
   "outputs": [],
   "source": [
    "import pandas as pd"
   ]
  },
  {
   "cell_type": "code",
   "execution_count": 6,
   "metadata": {
    "collapsed": true
   },
   "outputs": [],
   "source": [
    "df = pd.DataFrame(columns = ['name', 'price'])"
   ]
  },
  {
   "cell_type": "code",
   "execution_count": 7,
   "metadata": {
    "collapsed": true
   },
   "outputs": [],
   "source": [
    "df.loc[0] = ['apple', 1000]\n",
    "df.loc[1] = ['banana', 1500]\n",
    "df.loc[2] = ['kiwi', 3000]"
   ]
  },
  {
   "cell_type": "code",
   "execution_count": 8,
   "metadata": {},
   "outputs": [
    {
     "data": {
      "text/plain": [
       "0    1000\n",
       "1    1500\n",
       "2    3000\n",
       "Name: price, dtype: object"
      ]
     },
     "execution_count": 8,
     "metadata": {},
     "output_type": "execute_result"
    }
   ],
   "source": [
    "# 2000원 이하의 과일 뽑자. => [True. True, False]\n",
    "df.price # pd.DataFrame의 한 열, 한 행 => Series"
   ]
  },
  {
   "cell_type": "code",
   "execution_count": 9,
   "metadata": {},
   "outputs": [
    {
     "data": {
      "text/plain": [
       "0     True\n",
       "1     True\n",
       "2    False\n",
       "Name: price, dtype: bool"
      ]
     },
     "execution_count": 9,
     "metadata": {},
     "output_type": "execute_result"
    }
   ],
   "source": [
    "df.price <= 2000"
   ]
  },
  {
   "cell_type": "code",
   "execution_count": 10,
   "metadata": {},
   "outputs": [
    {
     "data": {
      "text/html": [
       "<div>\n",
       "<style>\n",
       "    .dataframe thead tr:only-child th {\n",
       "        text-align: right;\n",
       "    }\n",
       "\n",
       "    .dataframe thead th {\n",
       "        text-align: left;\n",
       "    }\n",
       "\n",
       "    .dataframe tbody tr th {\n",
       "        vertical-align: top;\n",
       "    }\n",
       "</style>\n",
       "<table border=\"1\" class=\"dataframe\">\n",
       "  <thead>\n",
       "    <tr style=\"text-align: right;\">\n",
       "      <th></th>\n",
       "      <th>name</th>\n",
       "      <th>price</th>\n",
       "    </tr>\n",
       "  </thead>\n",
       "  <tbody>\n",
       "    <tr>\n",
       "      <th>0</th>\n",
       "      <td>apple</td>\n",
       "      <td>1000</td>\n",
       "    </tr>\n",
       "    <tr>\n",
       "      <th>1</th>\n",
       "      <td>banana</td>\n",
       "      <td>1500</td>\n",
       "    </tr>\n",
       "  </tbody>\n",
       "</table>\n",
       "</div>"
      ],
      "text/plain": [
       "     name price\n",
       "0   apple  1000\n",
       "1  banana  1500"
      ]
     },
     "execution_count": 10,
     "metadata": {},
     "output_type": "execute_result"
    }
   ],
   "source": [
    "df[df.price <= 2000]"
   ]
  },
  {
   "cell_type": "code",
   "execution_count": 11,
   "metadata": {},
   "outputs": [
    {
     "data": {
      "text/html": [
       "<div>\n",
       "<style>\n",
       "    .dataframe thead tr:only-child th {\n",
       "        text-align: right;\n",
       "    }\n",
       "\n",
       "    .dataframe thead th {\n",
       "        text-align: left;\n",
       "    }\n",
       "\n",
       "    .dataframe tbody tr th {\n",
       "        vertical-align: top;\n",
       "    }\n",
       "</style>\n",
       "<table border=\"1\" class=\"dataframe\">\n",
       "  <thead>\n",
       "    <tr style=\"text-align: right;\">\n",
       "      <th></th>\n",
       "      <th>name</th>\n",
       "      <th>price</th>\n",
       "    </tr>\n",
       "  </thead>\n",
       "  <tbody>\n",
       "    <tr>\n",
       "      <th>0</th>\n",
       "      <td>apple</td>\n",
       "      <td>1000</td>\n",
       "    </tr>\n",
       "    <tr>\n",
       "      <th>1</th>\n",
       "      <td>banana</td>\n",
       "      <td>1500</td>\n",
       "    </tr>\n",
       "    <tr>\n",
       "      <th>2</th>\n",
       "      <td>kiwi</td>\n",
       "      <td>3000</td>\n",
       "    </tr>\n",
       "  </tbody>\n",
       "</table>\n",
       "</div>"
      ],
      "text/plain": [
       "     name price\n",
       "0   apple  1000\n",
       "1  banana  1500\n",
       "2    kiwi  3000"
      ]
     },
     "execution_count": 11,
     "metadata": {},
     "output_type": "execute_result"
    }
   ],
   "source": [
    "df"
   ]
  },
  {
   "cell_type": "code",
   "execution_count": 12,
   "metadata": {},
   "outputs": [
    {
     "data": {
      "text/plain": [
       "0     True\n",
       "1     True\n",
       "2    False\n",
       "Name: name, dtype: bool"
      ]
     },
     "execution_count": 12,
     "metadata": {},
     "output_type": "execute_result"
    }
   ],
   "source": [
    "# 만약 name에 'a'가 포함되면/시작하면 필터링\n",
    "# Series에 내장된 기능\n",
    "df.name.str.contains('a')"
   ]
  },
  {
   "cell_type": "code",
   "execution_count": 13,
   "metadata": {},
   "outputs": [
    {
     "data": {
      "text/html": [
       "<div>\n",
       "<style>\n",
       "    .dataframe thead tr:only-child th {\n",
       "        text-align: right;\n",
       "    }\n",
       "\n",
       "    .dataframe thead th {\n",
       "        text-align: left;\n",
       "    }\n",
       "\n",
       "    .dataframe tbody tr th {\n",
       "        vertical-align: top;\n",
       "    }\n",
       "</style>\n",
       "<table border=\"1\" class=\"dataframe\">\n",
       "  <thead>\n",
       "    <tr style=\"text-align: right;\">\n",
       "      <th></th>\n",
       "      <th>name</th>\n",
       "      <th>price</th>\n",
       "    </tr>\n",
       "  </thead>\n",
       "  <tbody>\n",
       "    <tr>\n",
       "      <th>0</th>\n",
       "      <td>apple</td>\n",
       "      <td>1000</td>\n",
       "    </tr>\n",
       "  </tbody>\n",
       "</table>\n",
       "</div>"
      ],
      "text/plain": [
       "    name price\n",
       "0  apple  1000"
      ]
     },
     "execution_count": 13,
     "metadata": {},
     "output_type": "execute_result"
    }
   ],
   "source": [
    "is_startwith_a = df.name.str.startswith('a')\n",
    "df[is_startwith_a]"
   ]
  },
  {
   "cell_type": "markdown",
   "metadata": {},
   "source": [
    "### Filtering example 2"
   ]
  },
  {
   "cell_type": "code",
   "execution_count": 14,
   "metadata": {},
   "outputs": [
    {
     "data": {
      "text/html": [
       "<div>\n",
       "<style>\n",
       "    .dataframe thead tr:only-child th {\n",
       "        text-align: right;\n",
       "    }\n",
       "\n",
       "    .dataframe thead th {\n",
       "        text-align: left;\n",
       "    }\n",
       "\n",
       "    .dataframe tbody tr th {\n",
       "        vertical-align: top;\n",
       "    }\n",
       "</style>\n",
       "<table border=\"1\" class=\"dataframe\">\n",
       "  <thead>\n",
       "    <tr style=\"text-align: right;\">\n",
       "      <th></th>\n",
       "      <th>name</th>\n",
       "      <th>price</th>\n",
       "      <th>count</th>\n",
       "    </tr>\n",
       "  </thead>\n",
       "  <tbody>\n",
       "    <tr>\n",
       "      <th>0</th>\n",
       "      <td>apple</td>\n",
       "      <td>1000</td>\n",
       "      <td>10</td>\n",
       "    </tr>\n",
       "    <tr>\n",
       "      <th>1</th>\n",
       "      <td>banana</td>\n",
       "      <td>1500</td>\n",
       "      <td>20</td>\n",
       "    </tr>\n",
       "    <tr>\n",
       "      <th>2</th>\n",
       "      <td>kiwi</td>\n",
       "      <td>3000</td>\n",
       "      <td>5</td>\n",
       "    </tr>\n",
       "  </tbody>\n",
       "</table>\n",
       "</div>"
      ],
      "text/plain": [
       "     name price count\n",
       "0   apple  1000    10\n",
       "1  banana  1500    20\n",
       "2    kiwi  3000     5"
      ]
     },
     "execution_count": 14,
     "metadata": {},
     "output_type": "execute_result"
    }
   ],
   "source": [
    "df = pd.DataFrame(columns = ['name', 'price', 'count'])\n",
    "df.loc[0] = ['apple', 1000, 10]\n",
    "df.loc[1] = ['banana', 1500, 20]\n",
    "df.loc[2] = ['kiwi', 3000, 5]\n",
    "df"
   ]
  },
  {
   "cell_type": "code",
   "execution_count": 15,
   "metadata": {},
   "outputs": [
    {
     "data": {
      "text/html": [
       "<div>\n",
       "<style>\n",
       "    .dataframe thead tr:only-child th {\n",
       "        text-align: right;\n",
       "    }\n",
       "\n",
       "    .dataframe thead th {\n",
       "        text-align: left;\n",
       "    }\n",
       "\n",
       "    .dataframe tbody tr th {\n",
       "        vertical-align: top;\n",
       "    }\n",
       "</style>\n",
       "<table border=\"1\" class=\"dataframe\">\n",
       "  <thead>\n",
       "    <tr style=\"text-align: right;\">\n",
       "      <th></th>\n",
       "      <th>name</th>\n",
       "      <th>price</th>\n",
       "      <th>count</th>\n",
       "      <th>amount</th>\n",
       "    </tr>\n",
       "  </thead>\n",
       "  <tbody>\n",
       "    <tr>\n",
       "      <th>0</th>\n",
       "      <td>apple</td>\n",
       "      <td>1000</td>\n",
       "      <td>10</td>\n",
       "      <td>10000</td>\n",
       "    </tr>\n",
       "    <tr>\n",
       "      <th>1</th>\n",
       "      <td>banana</td>\n",
       "      <td>1500</td>\n",
       "      <td>20</td>\n",
       "      <td>30000</td>\n",
       "    </tr>\n",
       "    <tr>\n",
       "      <th>2</th>\n",
       "      <td>kiwi</td>\n",
       "      <td>3000</td>\n",
       "      <td>5</td>\n",
       "      <td>15000</td>\n",
       "    </tr>\n",
       "  </tbody>\n",
       "</table>\n",
       "</div>"
      ],
      "text/plain": [
       "     name price count amount\n",
       "0   apple  1000    10  10000\n",
       "1  banana  1500    20  30000\n",
       "2    kiwi  3000     5  15000"
      ]
     },
     "execution_count": 15,
     "metadata": {},
     "output_type": "execute_result"
    }
   ],
   "source": [
    "df['amount'] = df.price * df['count']\n",
    "df"
   ]
  },
  {
   "cell_type": "code",
   "execution_count": 16,
   "metadata": {},
   "outputs": [
    {
     "data": {
      "text/plain": [
       "55000"
      ]
     },
     "execution_count": 16,
     "metadata": {},
     "output_type": "execute_result"
    }
   ],
   "source": [
    "df.amount.sum()"
   ]
  },
  {
   "cell_type": "markdown",
   "metadata": {},
   "source": [
    "### 직방 example\n",
    "직방 API를 활용하여 DataFrame을 구성  \n",
    "scrapping link : https://api.zigbang.com/v3/items?detail=true&item_ids=[8730048,8606664,8585140,8748326,8656700,8692737,8627072,8672664,8753748,8677208,8696184,8684748,8680502,8605456,8748470,8745372,8703797,8632872,8450371,8747438,8731881,8669325,8668688,8677036,8634676,8751376,8673253,8692952,8751407,8750738,8744394,8735229,8719062,8685405,8757159,8719839,8741145,8325448,8707734,8671689,8702652,8751413,8719934,8039087,8697444,8748097,8704583,8726705,8720767,8728499,8649187,8660350,8731727,8734916,8712824,8709501,8744896,8695530,8598979,8481781]"
   ]
  },
  {
   "cell_type": "markdown",
   "metadata": {},
   "source": [
    "#### 보증금 1000만원, 월세 70만원 이하의 매물만 뽑기\n",
    "#### 1. 데이터 생성"
   ]
  },
  {
   "cell_type": "code",
   "execution_count": 17,
   "metadata": {
    "collapsed": true
   },
   "outputs": [],
   "source": [
    "# 1. for loop\n",
    "# 2. preprocess\n",
    "# ---------------\n",
    "import requests, json\n",
    "response = requests.get('https://api.zigbang.com/v3/items?detail=true&item_ids=[8730048,8606664,8585140,8748326,8656700,8692737,8627072,8672664,8753748,8677208,8696184,8684748,8680502,8605456,8748470,8745372,8703797,8632872,8450371,8747438,8731881,8669325,8668688,8677036,8634676,8751376,8673253,8692952,8751407,8750738,8744394,8735229,8719062,8685405,8757159,8719839,8741145,8325448,8707734,8671689,8702652,8751413,8719934,8039087,8697444,8748097,8704583,8726705,8720767,8728499,8649187,8660350,8731727,8734916,8712824,8709501,8744896,8695530,8598979,8481781]')"
   ]
  },
  {
   "cell_type": "code",
   "execution_count": 18,
   "metadata": {},
   "outputs": [],
   "source": [
    "data = response.json() # 파이썬 Dict"
   ]
  },
  {
   "cell_type": "code",
   "execution_count": 19,
   "metadata": {},
   "outputs": [],
   "source": [
    "df1 = pd.DataFrame(columns = ['deposit', 'rent'])\n",
    "# 1. for loop\n",
    "for item in data.get('items'):\n",
    "    deposit = item.get('item').get('deposit')\n",
    "    rent = item.get('item').get('rent')\n",
    "    #print(deposit, rent)\n",
    "    \n",
    "    # df.loc[len(df)] - append new row\n",
    "    df1.loc[len(df1)] = [deposit, rent]"
   ]
  },
  {
   "cell_type": "code",
   "execution_count": 20,
   "metadata": {},
   "outputs": [],
   "source": [
    "# 2. list comprehension (dictionary의 list)\n",
    "df2 = [{'deposit' : item.get('item').get('deposit'), 'rent' : item.get('item').get('rent')} for item in data.get('items')]    "
   ]
  },
  {
   "cell_type": "code",
   "execution_count": 21,
   "metadata": {},
   "outputs": [
    {
     "data": {
      "text/plain": [
       "0    75\n",
       "1     0\n",
       "2    45\n",
       "3    60\n",
       "4     0\n",
       "Name: rent, dtype: int64"
      ]
     },
     "execution_count": 21,
     "metadata": {},
     "output_type": "execute_result"
    }
   ],
   "source": [
    "# 3. list comprehension + select column\n",
    "df3 = pd.DataFrame([item.get('item') for item in data.get('items')])\n",
    "df3['rent'].head() # Series"
   ]
  },
  {
   "cell_type": "code",
   "execution_count": 22,
   "metadata": {},
   "outputs": [
    {
     "data": {
      "text/html": [
       "<div>\n",
       "<style>\n",
       "    .dataframe thead tr:only-child th {\n",
       "        text-align: right;\n",
       "    }\n",
       "\n",
       "    .dataframe thead th {\n",
       "        text-align: left;\n",
       "    }\n",
       "\n",
       "    .dataframe tbody tr th {\n",
       "        vertical-align: top;\n",
       "    }\n",
       "</style>\n",
       "<table border=\"1\" class=\"dataframe\">\n",
       "  <thead>\n",
       "    <tr style=\"text-align: right;\">\n",
       "      <th></th>\n",
       "      <th>rent</th>\n",
       "    </tr>\n",
       "  </thead>\n",
       "  <tbody>\n",
       "    <tr>\n",
       "      <th>0</th>\n",
       "      <td>75</td>\n",
       "    </tr>\n",
       "    <tr>\n",
       "      <th>1</th>\n",
       "      <td>0</td>\n",
       "    </tr>\n",
       "    <tr>\n",
       "      <th>2</th>\n",
       "      <td>45</td>\n",
       "    </tr>\n",
       "    <tr>\n",
       "      <th>3</th>\n",
       "      <td>60</td>\n",
       "    </tr>\n",
       "    <tr>\n",
       "      <th>4</th>\n",
       "      <td>0</td>\n",
       "    </tr>\n",
       "  </tbody>\n",
       "</table>\n",
       "</div>"
      ],
      "text/plain": [
       "   rent\n",
       "0    75\n",
       "1     0\n",
       "2    45\n",
       "3    60\n",
       "4     0"
      ]
     },
     "execution_count": 22,
     "metadata": {},
     "output_type": "execute_result"
    }
   ],
   "source": [
    "df3[['rent']].head() # DataFrame (1Column)"
   ]
  },
  {
   "cell_type": "code",
   "execution_count": 23,
   "metadata": {},
   "outputs": [
    {
     "data": {
      "text/html": [
       "<div>\n",
       "<style>\n",
       "    .dataframe thead tr:only-child th {\n",
       "        text-align: right;\n",
       "    }\n",
       "\n",
       "    .dataframe thead th {\n",
       "        text-align: left;\n",
       "    }\n",
       "\n",
       "    .dataframe tbody tr th {\n",
       "        vertical-align: top;\n",
       "    }\n",
       "</style>\n",
       "<table border=\"1\" class=\"dataframe\">\n",
       "  <thead>\n",
       "    <tr style=\"text-align: right;\">\n",
       "      <th></th>\n",
       "      <th>deposit</th>\n",
       "      <th>rent</th>\n",
       "    </tr>\n",
       "  </thead>\n",
       "  <tbody>\n",
       "    <tr>\n",
       "      <th>0</th>\n",
       "      <td>2000</td>\n",
       "      <td>75</td>\n",
       "    </tr>\n",
       "    <tr>\n",
       "      <th>1</th>\n",
       "      <td>15000</td>\n",
       "      <td>0</td>\n",
       "    </tr>\n",
       "    <tr>\n",
       "      <th>2</th>\n",
       "      <td>1000</td>\n",
       "      <td>45</td>\n",
       "    </tr>\n",
       "    <tr>\n",
       "      <th>3</th>\n",
       "      <td>4000</td>\n",
       "      <td>60</td>\n",
       "    </tr>\n",
       "    <tr>\n",
       "      <th>4</th>\n",
       "      <td>24000</td>\n",
       "      <td>0</td>\n",
       "    </tr>\n",
       "  </tbody>\n",
       "</table>\n",
       "</div>"
      ],
      "text/plain": [
       "   deposit  rent\n",
       "0     2000    75\n",
       "1    15000     0\n",
       "2     1000    45\n",
       "3     4000    60\n",
       "4    24000     0"
      ]
     },
     "execution_count": 23,
     "metadata": {},
     "output_type": "execute_result"
    }
   ],
   "source": [
    "df3[['deposit', 'rent']].head() # DataFrame (2Column)"
   ]
  },
  {
   "cell_type": "code",
   "execution_count": 24,
   "metadata": {},
   "outputs": [
    {
     "data": {
      "text/html": [
       "<div>\n",
       "<style>\n",
       "    .dataframe thead tr:only-child th {\n",
       "        text-align: right;\n",
       "    }\n",
       "\n",
       "    .dataframe thead th {\n",
       "        text-align: left;\n",
       "    }\n",
       "\n",
       "    .dataframe tbody tr th {\n",
       "        vertical-align: top;\n",
       "    }\n",
       "</style>\n",
       "<table border=\"1\" class=\"dataframe\">\n",
       "  <thead>\n",
       "    <tr style=\"text-align: right;\">\n",
       "      <th></th>\n",
       "      <th>rent</th>\n",
       "      <th>deposit</th>\n",
       "      <th>id</th>\n",
       "      <th>agent_address1</th>\n",
       "    </tr>\n",
       "  </thead>\n",
       "  <tbody>\n",
       "    <tr>\n",
       "      <th>0</th>\n",
       "      <td>75</td>\n",
       "      <td>2000</td>\n",
       "      <td>8730048</td>\n",
       "      <td>서울특별시 송파구 삼전동 121-3 101호</td>\n",
       "    </tr>\n",
       "    <tr>\n",
       "      <th>1</th>\n",
       "      <td>0</td>\n",
       "      <td>15000</td>\n",
       "      <td>8606664</td>\n",
       "      <td>서울특별시 중랑구 중화동 283-11</td>\n",
       "    </tr>\n",
       "    <tr>\n",
       "      <th>2</th>\n",
       "      <td>45</td>\n",
       "      <td>1000</td>\n",
       "      <td>8585140</td>\n",
       "      <td>서울특별시 광진구 화양동 92-3</td>\n",
       "    </tr>\n",
       "    <tr>\n",
       "      <th>3</th>\n",
       "      <td>60</td>\n",
       "      <td>4000</td>\n",
       "      <td>8748326</td>\n",
       "      <td>서울특별시 강남구 봉은사로34길 9 1층(역삼동)</td>\n",
       "    </tr>\n",
       "    <tr>\n",
       "      <th>4</th>\n",
       "      <td>0</td>\n",
       "      <td>24000</td>\n",
       "      <td>8656700</td>\n",
       "      <td>서울특별시 광진구 구의동 243-31</td>\n",
       "    </tr>\n",
       "  </tbody>\n",
       "</table>\n",
       "</div>"
      ],
      "text/plain": [
       "   rent  deposit       id               agent_address1\n",
       "0    75     2000  8730048     서울특별시 송파구 삼전동 121-3 101호\n",
       "1     0    15000  8606664         서울특별시 중랑구 중화동 283-11\n",
       "2    45     1000  8585140           서울특별시 광진구 화양동 92-3\n",
       "3    60     4000  8748326  서울특별시 강남구 봉은사로34길 9 1층(역삼동)\n",
       "4     0    24000  8656700         서울특별시 광진구 구의동 243-31"
      ]
     },
     "execution_count": 24,
     "metadata": {},
     "output_type": "execute_result"
    }
   ],
   "source": [
    "rooms_df = df3[['rent', 'deposit', 'id', 'agent_address1']]\n",
    "rooms_df.head()"
   ]
  },
  {
   "cell_type": "markdown",
   "metadata": {},
   "source": [
    "#### 2. 보증금 1000만원이하에 월세가 70만원이하인 집만 filtering"
   ]
  },
  {
   "cell_type": "code",
   "execution_count": 25,
   "metadata": {
    "collapsed": true
   },
   "outputs": [],
   "source": [
    "# 보증금 1000만원이하에 월세가 70만원이하인 집만 filtering\n",
    "# Filtering Mask 생성이 관건\n",
    "is_low_deposit = rooms_df.deposit <= 1000\n",
    "is_low_rent = rooms_df.rent <= 70"
   ]
  },
  {
   "cell_type": "code",
   "execution_count": 26,
   "metadata": {},
   "outputs": [
    {
     "data": {
      "text/html": [
       "<div>\n",
       "<style>\n",
       "    .dataframe thead tr:only-child th {\n",
       "        text-align: right;\n",
       "    }\n",
       "\n",
       "    .dataframe thead th {\n",
       "        text-align: left;\n",
       "    }\n",
       "\n",
       "    .dataframe tbody tr th {\n",
       "        vertical-align: top;\n",
       "    }\n",
       "</style>\n",
       "<table border=\"1\" class=\"dataframe\">\n",
       "  <thead>\n",
       "    <tr style=\"text-align: right;\">\n",
       "      <th></th>\n",
       "      <th>rent</th>\n",
       "      <th>deposit</th>\n",
       "      <th>id</th>\n",
       "      <th>agent_address1</th>\n",
       "    </tr>\n",
       "  </thead>\n",
       "  <tbody>\n",
       "    <tr>\n",
       "      <th>2</th>\n",
       "      <td>45</td>\n",
       "      <td>1000</td>\n",
       "      <td>8585140</td>\n",
       "      <td>서울특별시 광진구 화양동 92-3</td>\n",
       "    </tr>\n",
       "    <tr>\n",
       "      <th>6</th>\n",
       "      <td>55</td>\n",
       "      <td>500</td>\n",
       "      <td>8627072</td>\n",
       "      <td>서울특별시 광진구 화양동 8-57 1층</td>\n",
       "    </tr>\n",
       "    <tr>\n",
       "      <th>8</th>\n",
       "      <td>60</td>\n",
       "      <td>500</td>\n",
       "      <td>8753748</td>\n",
       "      <td>서울특별시 중랑구 면목동 616-35</td>\n",
       "    </tr>\n",
       "    <tr>\n",
       "      <th>9</th>\n",
       "      <td>60</td>\n",
       "      <td>1000</td>\n",
       "      <td>8677208</td>\n",
       "      <td>서울특별시 강남구 논현로67길 48 1층(역삼동)</td>\n",
       "    </tr>\n",
       "    <tr>\n",
       "      <th>13</th>\n",
       "      <td>60</td>\n",
       "      <td>1000</td>\n",
       "      <td>8605456</td>\n",
       "      <td>서울특별시 송파구 백제고분로36가길 9</td>\n",
       "    </tr>\n",
       "  </tbody>\n",
       "</table>\n",
       "</div>"
      ],
      "text/plain": [
       "    rent  deposit       id               agent_address1\n",
       "2     45     1000  8585140           서울특별시 광진구 화양동 92-3\n",
       "6     55      500  8627072        서울특별시 광진구 화양동 8-57 1층\n",
       "8     60      500  8753748         서울특별시 중랑구 면목동 616-35\n",
       "9     60     1000  8677208  서울특별시 강남구 논현로67길 48 1층(역삼동)\n",
       "13    60     1000  8605456        서울특별시 송파구 백제고분로36가길 9"
      ]
     },
     "execution_count": 26,
     "metadata": {},
     "output_type": "execute_result"
    }
   ],
   "source": [
    "rooms_df[is_low_deposit & is_low_rent].head()"
   ]
  },
  {
   "cell_type": "code",
   "execution_count": 27,
   "metadata": {},
   "outputs": [
    {
     "name": "stderr",
     "output_type": "stream",
     "text": [
      "C:\\ProgramData\\Anaconda3\\lib\\site-packages\\ipykernel_launcher.py:1: UserWarning: Boolean Series key will be reindexed to match DataFrame index.\n",
      "  \"\"\"Entry point for launching an IPython kernel.\n"
     ]
    },
    {
     "data": {
      "text/html": [
       "<div>\n",
       "<style>\n",
       "    .dataframe thead tr:only-child th {\n",
       "        text-align: right;\n",
       "    }\n",
       "\n",
       "    .dataframe thead th {\n",
       "        text-align: left;\n",
       "    }\n",
       "\n",
       "    .dataframe tbody tr th {\n",
       "        vertical-align: top;\n",
       "    }\n",
       "</style>\n",
       "<table border=\"1\" class=\"dataframe\">\n",
       "  <thead>\n",
       "    <tr style=\"text-align: right;\">\n",
       "      <th></th>\n",
       "      <th>rent</th>\n",
       "      <th>deposit</th>\n",
       "      <th>id</th>\n",
       "      <th>agent_address1</th>\n",
       "    </tr>\n",
       "  </thead>\n",
       "  <tbody>\n",
       "    <tr>\n",
       "      <th>2</th>\n",
       "      <td>45</td>\n",
       "      <td>1000</td>\n",
       "      <td>8585140</td>\n",
       "      <td>서울특별시 광진구 화양동 92-3</td>\n",
       "    </tr>\n",
       "    <tr>\n",
       "      <th>6</th>\n",
       "      <td>55</td>\n",
       "      <td>500</td>\n",
       "      <td>8627072</td>\n",
       "      <td>서울특별시 광진구 화양동 8-57 1층</td>\n",
       "    </tr>\n",
       "    <tr>\n",
       "      <th>8</th>\n",
       "      <td>60</td>\n",
       "      <td>500</td>\n",
       "      <td>8753748</td>\n",
       "      <td>서울특별시 중랑구 면목동 616-35</td>\n",
       "    </tr>\n",
       "    <tr>\n",
       "      <th>9</th>\n",
       "      <td>60</td>\n",
       "      <td>1000</td>\n",
       "      <td>8677208</td>\n",
       "      <td>서울특별시 강남구 논현로67길 48 1층(역삼동)</td>\n",
       "    </tr>\n",
       "    <tr>\n",
       "      <th>13</th>\n",
       "      <td>60</td>\n",
       "      <td>1000</td>\n",
       "      <td>8605456</td>\n",
       "      <td>서울특별시 송파구 백제고분로36가길 9</td>\n",
       "    </tr>\n",
       "  </tbody>\n",
       "</table>\n",
       "</div>"
      ],
      "text/plain": [
       "    rent  deposit       id               agent_address1\n",
       "2     45     1000  8585140           서울특별시 광진구 화양동 92-3\n",
       "6     55      500  8627072        서울특별시 광진구 화양동 8-57 1층\n",
       "8     60      500  8753748         서울특별시 중랑구 면목동 616-35\n",
       "9     60     1000  8677208  서울특별시 강남구 논현로67길 48 1층(역삼동)\n",
       "13    60     1000  8605456        서울특별시 송파구 백제고분로36가길 9"
      ]
     },
     "execution_count": 27,
     "metadata": {},
     "output_type": "execute_result"
    }
   ],
   "source": [
    "rooms_df[is_low_deposit][is_low_rent].head()"
   ]
  },
  {
   "cell_type": "code",
   "execution_count": 28,
   "metadata": {},
   "outputs": [
    {
     "name": "stderr",
     "output_type": "stream",
     "text": [
      "C:\\ProgramData\\Anaconda3\\lib\\site-packages\\ipykernel_launcher.py:1: UserWarning: Boolean Series key will be reindexed to match DataFrame index.\n",
      "  \"\"\"Entry point for launching an IPython kernel.\n"
     ]
    },
    {
     "data": {
      "text/html": [
       "<div>\n",
       "<style>\n",
       "    .dataframe thead tr:only-child th {\n",
       "        text-align: right;\n",
       "    }\n",
       "\n",
       "    .dataframe thead th {\n",
       "        text-align: left;\n",
       "    }\n",
       "\n",
       "    .dataframe tbody tr th {\n",
       "        vertical-align: top;\n",
       "    }\n",
       "</style>\n",
       "<table border=\"1\" class=\"dataframe\">\n",
       "  <thead>\n",
       "    <tr style=\"text-align: right;\">\n",
       "      <th></th>\n",
       "      <th>rent</th>\n",
       "      <th>deposit</th>\n",
       "      <th>id</th>\n",
       "      <th>agent_address1</th>\n",
       "    </tr>\n",
       "  </thead>\n",
       "  <tbody>\n",
       "    <tr>\n",
       "      <th>1</th>\n",
       "      <td>0</td>\n",
       "      <td>15000</td>\n",
       "      <td>8606664</td>\n",
       "      <td>서울특별시 중랑구 중화동 283-11</td>\n",
       "    </tr>\n",
       "    <tr>\n",
       "      <th>2</th>\n",
       "      <td>45</td>\n",
       "      <td>1000</td>\n",
       "      <td>8585140</td>\n",
       "      <td>서울특별시 광진구 화양동 92-3</td>\n",
       "    </tr>\n",
       "    <tr>\n",
       "      <th>5</th>\n",
       "      <td>30</td>\n",
       "      <td>3000</td>\n",
       "      <td>8692737</td>\n",
       "      <td>서울특별시 광진구 화양동 36-39</td>\n",
       "    </tr>\n",
       "    <tr>\n",
       "      <th>11</th>\n",
       "      <td>40</td>\n",
       "      <td>3000</td>\n",
       "      <td>8684748</td>\n",
       "      <td>서울특별시 성동구 마조로 52 (마장동)</td>\n",
       "    </tr>\n",
       "    <tr>\n",
       "      <th>12</th>\n",
       "      <td>0</td>\n",
       "      <td>9000</td>\n",
       "      <td>8680502</td>\n",
       "      <td>서울특별시 동대문구 휘경1동 회기로 184</td>\n",
       "    </tr>\n",
       "  </tbody>\n",
       "</table>\n",
       "</div>"
      ],
      "text/plain": [
       "    rent  deposit       id           agent_address1\n",
       "1      0    15000  8606664     서울특별시 중랑구 중화동 283-11\n",
       "2     45     1000  8585140       서울특별시 광진구 화양동 92-3\n",
       "5     30     3000  8692737      서울특별시 광진구 화양동 36-39\n",
       "11    40     3000  8684748   서울특별시 성동구 마조로 52 (마장동)\n",
       "12     0     9000  8680502  서울특별시 동대문구 휘경1동 회기로 184"
      ]
     },
     "execution_count": 28,
     "metadata": {},
     "output_type": "execute_result"
    }
   ],
   "source": [
    "rooms_df[rooms_df.rent <= 50][rooms_df.deposit <= 15000].head()"
   ]
  },
  {
   "cell_type": "markdown",
   "metadata": {},
   "source": [
    "#### 3. agent_addres1에서 '1층'이라는 텍스트가 포함된 매물 뽑기\n",
    "1. agent_address1 => '주소'\n",
    "2. '주소'에서 '1층'이라는 텍스트가 포함된 Row"
   ]
  },
  {
   "cell_type": "code",
   "execution_count": 29,
   "metadata": {},
   "outputs": [
    {
     "name": "stderr",
     "output_type": "stream",
     "text": [
      "C:\\ProgramData\\Anaconda3\\lib\\site-packages\\pandas\\core\\frame.py:2844: SettingWithCopyWarning: \n",
      "A value is trying to be set on a copy of a slice from a DataFrame\n",
      "\n",
      "See the caveats in the documentation: http://pandas.pydata.org/pandas-docs/stable/indexing.html#indexing-view-versus-copy\n",
      "  **kwargs)\n"
     ]
    },
    {
     "data": {
      "text/html": [
       "<div>\n",
       "<style>\n",
       "    .dataframe thead tr:only-child th {\n",
       "        text-align: right;\n",
       "    }\n",
       "\n",
       "    .dataframe thead th {\n",
       "        text-align: left;\n",
       "    }\n",
       "\n",
       "    .dataframe tbody tr th {\n",
       "        vertical-align: top;\n",
       "    }\n",
       "</style>\n",
       "<table border=\"1\" class=\"dataframe\">\n",
       "  <thead>\n",
       "    <tr style=\"text-align: right;\">\n",
       "      <th></th>\n",
       "      <th>rent</th>\n",
       "      <th>deposit</th>\n",
       "      <th>id</th>\n",
       "      <th>주소</th>\n",
       "    </tr>\n",
       "  </thead>\n",
       "  <tbody>\n",
       "    <tr>\n",
       "      <th>0</th>\n",
       "      <td>75</td>\n",
       "      <td>2000</td>\n",
       "      <td>8730048</td>\n",
       "      <td>서울특별시 송파구 삼전동 121-3 101호</td>\n",
       "    </tr>\n",
       "    <tr>\n",
       "      <th>1</th>\n",
       "      <td>0</td>\n",
       "      <td>15000</td>\n",
       "      <td>8606664</td>\n",
       "      <td>서울특별시 중랑구 중화동 283-11</td>\n",
       "    </tr>\n",
       "    <tr>\n",
       "      <th>2</th>\n",
       "      <td>45</td>\n",
       "      <td>1000</td>\n",
       "      <td>8585140</td>\n",
       "      <td>서울특별시 광진구 화양동 92-3</td>\n",
       "    </tr>\n",
       "    <tr>\n",
       "      <th>3</th>\n",
       "      <td>60</td>\n",
       "      <td>4000</td>\n",
       "      <td>8748326</td>\n",
       "      <td>서울특별시 강남구 봉은사로34길 9 1층(역삼동)</td>\n",
       "    </tr>\n",
       "    <tr>\n",
       "      <th>4</th>\n",
       "      <td>0</td>\n",
       "      <td>24000</td>\n",
       "      <td>8656700</td>\n",
       "      <td>서울특별시 광진구 구의동 243-31</td>\n",
       "    </tr>\n",
       "  </tbody>\n",
       "</table>\n",
       "</div>"
      ],
      "text/plain": [
       "   rent  deposit       id                           주소\n",
       "0    75     2000  8730048     서울특별시 송파구 삼전동 121-3 101호\n",
       "1     0    15000  8606664         서울특별시 중랑구 중화동 283-11\n",
       "2    45     1000  8585140           서울특별시 광진구 화양동 92-3\n",
       "3    60     4000  8748326  서울특별시 강남구 봉은사로34길 9 1층(역삼동)\n",
       "4     0    24000  8656700         서울특별시 광진구 구의동 243-31"
      ]
     },
     "execution_count": 29,
     "metadata": {},
     "output_type": "execute_result"
    }
   ],
   "source": [
    "# 원본 DF를 바꾸는 방법\n",
    "# 1. 새로운 변수에 할당\n",
    "# 2. 원본 DF를 가리키던 변수에 다시 할당\n",
    "# 3. DataFrame 관련 함수들은 옵션으로 'inplace=True'라고 해주면 원본이 변경됨 <- pandas의 경우 대부분 3번\n",
    "\n",
    "# agent_address1 => '주소'\n",
    "rooms_df.rename(columns={'agent_address1' : '주소'}, inplace = True)\n",
    "rooms_df.head()"
   ]
  },
  {
   "cell_type": "code",
   "execution_count": 30,
   "metadata": {},
   "outputs": [
    {
     "data": {
      "text/html": [
       "<div>\n",
       "<style>\n",
       "    .dataframe thead tr:only-child th {\n",
       "        text-align: right;\n",
       "    }\n",
       "\n",
       "    .dataframe thead th {\n",
       "        text-align: left;\n",
       "    }\n",
       "\n",
       "    .dataframe tbody tr th {\n",
       "        vertical-align: top;\n",
       "    }\n",
       "</style>\n",
       "<table border=\"1\" class=\"dataframe\">\n",
       "  <thead>\n",
       "    <tr style=\"text-align: right;\">\n",
       "      <th></th>\n",
       "      <th>rent</th>\n",
       "      <th>deposit</th>\n",
       "      <th>id</th>\n",
       "      <th>주소</th>\n",
       "    </tr>\n",
       "  </thead>\n",
       "  <tbody>\n",
       "    <tr>\n",
       "      <th>3</th>\n",
       "      <td>60</td>\n",
       "      <td>4000</td>\n",
       "      <td>8748326</td>\n",
       "      <td>서울특별시 강남구 봉은사로34길 9 1층(역삼동)</td>\n",
       "    </tr>\n",
       "    <tr>\n",
       "      <th>6</th>\n",
       "      <td>55</td>\n",
       "      <td>500</td>\n",
       "      <td>8627072</td>\n",
       "      <td>서울특별시 광진구 화양동 8-57 1층</td>\n",
       "    </tr>\n",
       "    <tr>\n",
       "      <th>9</th>\n",
       "      <td>60</td>\n",
       "      <td>1000</td>\n",
       "      <td>8677208</td>\n",
       "      <td>서울특별시 강남구 논현로67길 48 1층(역삼동)</td>\n",
       "    </tr>\n",
       "    <tr>\n",
       "      <th>10</th>\n",
       "      <td>80</td>\n",
       "      <td>80</td>\n",
       "      <td>8696184</td>\n",
       "      <td>서울특별시 강남구 역삼동 696-11  1층</td>\n",
       "    </tr>\n",
       "    <tr>\n",
       "      <th>16</th>\n",
       "      <td>45</td>\n",
       "      <td>500</td>\n",
       "      <td>8703797</td>\n",
       "      <td>서울특별시 성동구 마조로9길 15, 1층(행당동)</td>\n",
       "    </tr>\n",
       "    <tr>\n",
       "      <th>23</th>\n",
       "      <td>270</td>\n",
       "      <td>270</td>\n",
       "      <td>8677036</td>\n",
       "      <td>서울특별시 강남구 봉은사로30길 42 1층</td>\n",
       "    </tr>\n",
       "    <tr>\n",
       "      <th>25</th>\n",
       "      <td>85</td>\n",
       "      <td>85</td>\n",
       "      <td>8751376</td>\n",
       "      <td>서울특별시 강남구 역삼동 696-11번지 지하 1층</td>\n",
       "    </tr>\n",
       "    <tr>\n",
       "      <th>32</th>\n",
       "      <td>35</td>\n",
       "      <td>2500</td>\n",
       "      <td>8719062</td>\n",
       "      <td>서울특별시 광진구 화양동 37-17.1층</td>\n",
       "    </tr>\n",
       "    <tr>\n",
       "      <th>34</th>\n",
       "      <td>0</td>\n",
       "      <td>23000</td>\n",
       "      <td>8757159</td>\n",
       "      <td>서울특별시 강남구 봉은사로 47길 12, 1층</td>\n",
       "    </tr>\n",
       "    <tr>\n",
       "      <th>36</th>\n",
       "      <td>0</td>\n",
       "      <td>33000</td>\n",
       "      <td>8741145</td>\n",
       "      <td>서울특별시 강남구 선릉로72길 35 1층(대치동)</td>\n",
       "    </tr>\n",
       "    <tr>\n",
       "      <th>39</th>\n",
       "      <td>210</td>\n",
       "      <td>5000</td>\n",
       "      <td>8671689</td>\n",
       "      <td>서울특별시 강남구 역삼동 750-8번지 동진빌딩1층</td>\n",
       "    </tr>\n",
       "    <tr>\n",
       "      <th>40</th>\n",
       "      <td>70</td>\n",
       "      <td>70</td>\n",
       "      <td>8702652</td>\n",
       "      <td>서울특별시 강남구 역삼동 639-14 1층</td>\n",
       "    </tr>\n",
       "    <tr>\n",
       "      <th>47</th>\n",
       "      <td>230</td>\n",
       "      <td>230</td>\n",
       "      <td>8726705</td>\n",
       "      <td>서울특별시 강남구 봉은사로30길 42 1층</td>\n",
       "    </tr>\n",
       "    <tr>\n",
       "      <th>50</th>\n",
       "      <td>70</td>\n",
       "      <td>1000</td>\n",
       "      <td>8649187</td>\n",
       "      <td>서울특별시 광진구 구의동 246-14번지 크레신타워 1층 상가 102호</td>\n",
       "    </tr>\n",
       "    <tr>\n",
       "      <th>51</th>\n",
       "      <td>45</td>\n",
       "      <td>500</td>\n",
       "      <td>8660350</td>\n",
       "      <td>서울특별시 광진구 화양동 8-57 1층</td>\n",
       "    </tr>\n",
       "    <tr>\n",
       "      <th>52</th>\n",
       "      <td>0</td>\n",
       "      <td>32000</td>\n",
       "      <td>8731727</td>\n",
       "      <td>서울특별시 강남구 선릉로72길 35 1층(대치동)</td>\n",
       "    </tr>\n",
       "    <tr>\n",
       "      <th>55</th>\n",
       "      <td>0</td>\n",
       "      <td>17000</td>\n",
       "      <td>8709501</td>\n",
       "      <td>서울특별시 강남구 봉은사로 47길 12, 1층</td>\n",
       "    </tr>\n",
       "    <tr>\n",
       "      <th>56</th>\n",
       "      <td>0</td>\n",
       "      <td>12000</td>\n",
       "      <td>8744896</td>\n",
       "      <td>서울특별시 광진구 자양로18길 92 1층(구의동)</td>\n",
       "    </tr>\n",
       "  </tbody>\n",
       "</table>\n",
       "</div>"
      ],
      "text/plain": [
       "    rent  deposit       id                                       주소\n",
       "3     60     4000  8748326              서울특별시 강남구 봉은사로34길 9 1층(역삼동)\n",
       "6     55      500  8627072                    서울특별시 광진구 화양동 8-57 1층\n",
       "9     60     1000  8677208              서울특별시 강남구 논현로67길 48 1층(역삼동)\n",
       "10    80       80  8696184                 서울특별시 강남구 역삼동 696-11  1층\n",
       "16    45      500  8703797              서울특별시 성동구 마조로9길 15, 1층(행당동)\n",
       "23   270      270  8677036                  서울특별시 강남구 봉은사로30길 42 1층\n",
       "25    85       85  8751376             서울특별시 강남구 역삼동 696-11번지 지하 1층\n",
       "32    35     2500  8719062                   서울특별시 광진구 화양동 37-17.1층\n",
       "34     0    23000  8757159                서울특별시 강남구 봉은사로 47길 12, 1층\n",
       "36     0    33000  8741145              서울특별시 강남구 선릉로72길 35 1층(대치동)\n",
       "39   210     5000  8671689             서울특별시 강남구 역삼동 750-8번지 동진빌딩1층\n",
       "40    70       70  8702652                  서울특별시 강남구 역삼동 639-14 1층\n",
       "47   230      230  8726705                  서울특별시 강남구 봉은사로30길 42 1층\n",
       "50    70     1000  8649187  서울특별시 광진구 구의동 246-14번지 크레신타워 1층 상가 102호\n",
       "51    45      500  8660350                    서울특별시 광진구 화양동 8-57 1층\n",
       "52     0    32000  8731727              서울특별시 강남구 선릉로72길 35 1층(대치동)\n",
       "55     0    17000  8709501                서울특별시 강남구 봉은사로 47길 12, 1층\n",
       "56     0    12000  8744896              서울특별시 광진구 자양로18길 92 1층(구의동)"
      ]
     },
     "execution_count": 30,
     "metadata": {},
     "output_type": "execute_result"
    }
   ],
   "source": [
    "# '주소'에서 '1층'이라는 텍스트가 포함된 Row 추출\n",
    "rooms_df[(rooms_df.id.apply(lambda x : str(x)) + ' '+rooms_df.주소).str.contains('1층')]"
   ]
  },
  {
   "cell_type": "markdown",
   "metadata": {},
   "source": [
    "#### 4. 전세가격 변수 ('standard_price')를 만들고 내림차순으로 정렬"
   ]
  },
  {
   "cell_type": "code",
   "execution_count": 31,
   "metadata": {},
   "outputs": [
    {
     "name": "stderr",
     "output_type": "stream",
     "text": [
      "C:\\ProgramData\\Anaconda3\\lib\\site-packages\\ipykernel_launcher.py:1: SettingWithCopyWarning: \n",
      "A value is trying to be set on a copy of a slice from a DataFrame.\n",
      "Try using .loc[row_indexer,col_indexer] = value instead\n",
      "\n",
      "See the caveats in the documentation: http://pandas.pydata.org/pandas-docs/stable/indexing.html#indexing-view-versus-copy\n",
      "  \"\"\"Entry point for launching an IPython kernel.\n"
     ]
    },
    {
     "data": {
      "text/html": [
       "<div>\n",
       "<style>\n",
       "    .dataframe thead tr:only-child th {\n",
       "        text-align: right;\n",
       "    }\n",
       "\n",
       "    .dataframe thead th {\n",
       "        text-align: left;\n",
       "    }\n",
       "\n",
       "    .dataframe tbody tr th {\n",
       "        vertical-align: top;\n",
       "    }\n",
       "</style>\n",
       "<table border=\"1\" class=\"dataframe\">\n",
       "  <thead>\n",
       "    <tr style=\"text-align: right;\">\n",
       "      <th></th>\n",
       "      <th>rent</th>\n",
       "      <th>deposit</th>\n",
       "      <th>id</th>\n",
       "      <th>주소</th>\n",
       "      <th>standard_price</th>\n",
       "    </tr>\n",
       "  </thead>\n",
       "  <tbody>\n",
       "    <tr>\n",
       "      <th>0</th>\n",
       "      <td>75</td>\n",
       "      <td>2000</td>\n",
       "      <td>8730048</td>\n",
       "      <td>서울특별시 송파구 삼전동 121-3 101호</td>\n",
       "      <td>9500</td>\n",
       "    </tr>\n",
       "    <tr>\n",
       "      <th>1</th>\n",
       "      <td>0</td>\n",
       "      <td>15000</td>\n",
       "      <td>8606664</td>\n",
       "      <td>서울특별시 중랑구 중화동 283-11</td>\n",
       "      <td>15000</td>\n",
       "    </tr>\n",
       "    <tr>\n",
       "      <th>2</th>\n",
       "      <td>45</td>\n",
       "      <td>1000</td>\n",
       "      <td>8585140</td>\n",
       "      <td>서울특별시 광진구 화양동 92-3</td>\n",
       "      <td>5500</td>\n",
       "    </tr>\n",
       "    <tr>\n",
       "      <th>3</th>\n",
       "      <td>60</td>\n",
       "      <td>4000</td>\n",
       "      <td>8748326</td>\n",
       "      <td>서울특별시 강남구 봉은사로34길 9 1층(역삼동)</td>\n",
       "      <td>10000</td>\n",
       "    </tr>\n",
       "    <tr>\n",
       "      <th>4</th>\n",
       "      <td>0</td>\n",
       "      <td>24000</td>\n",
       "      <td>8656700</td>\n",
       "      <td>서울특별시 광진구 구의동 243-31</td>\n",
       "      <td>24000</td>\n",
       "    </tr>\n",
       "  </tbody>\n",
       "</table>\n",
       "</div>"
      ],
      "text/plain": [
       "   rent  deposit       id                           주소  standard_price\n",
       "0    75     2000  8730048     서울특별시 송파구 삼전동 121-3 101호            9500\n",
       "1     0    15000  8606664         서울특별시 중랑구 중화동 283-11           15000\n",
       "2    45     1000  8585140           서울특별시 광진구 화양동 92-3            5500\n",
       "3    60     4000  8748326  서울특별시 강남구 봉은사로34길 9 1층(역삼동)           10000\n",
       "4     0    24000  8656700         서울특별시 광진구 구의동 243-31           24000"
      ]
     },
     "execution_count": 31,
     "metadata": {},
     "output_type": "execute_result"
    }
   ],
   "source": [
    "rooms_df['standard_price'] = rooms_df.deposit + rooms_df.rent * 100\n",
    "rooms_df.head()"
   ]
  },
  {
   "cell_type": "code",
   "execution_count": 32,
   "metadata": {},
   "outputs": [
    {
     "data": {
      "text/html": [
       "<div>\n",
       "<style>\n",
       "    .dataframe thead tr:only-child th {\n",
       "        text-align: right;\n",
       "    }\n",
       "\n",
       "    .dataframe thead th {\n",
       "        text-align: left;\n",
       "    }\n",
       "\n",
       "    .dataframe tbody tr th {\n",
       "        vertical-align: top;\n",
       "    }\n",
       "</style>\n",
       "<table border=\"1\" class=\"dataframe\">\n",
       "  <thead>\n",
       "    <tr style=\"text-align: right;\">\n",
       "      <th></th>\n",
       "      <th>rent</th>\n",
       "      <th>deposit</th>\n",
       "      <th>id</th>\n",
       "      <th>주소</th>\n",
       "      <th>standard_price</th>\n",
       "    </tr>\n",
       "  </thead>\n",
       "  <tbody>\n",
       "    <tr>\n",
       "      <th>36</th>\n",
       "      <td>0</td>\n",
       "      <td>33000</td>\n",
       "      <td>8741145</td>\n",
       "      <td>서울특별시 강남구 선릉로72길 35 1층(대치동)</td>\n",
       "      <td>33000</td>\n",
       "    </tr>\n",
       "    <tr>\n",
       "      <th>52</th>\n",
       "      <td>0</td>\n",
       "      <td>32000</td>\n",
       "      <td>8731727</td>\n",
       "      <td>서울특별시 강남구 선릉로72길 35 1층(대치동)</td>\n",
       "      <td>32000</td>\n",
       "    </tr>\n",
       "    <tr>\n",
       "      <th>45</th>\n",
       "      <td>0</td>\n",
       "      <td>32000</td>\n",
       "      <td>8748097</td>\n",
       "      <td>서울특별시 광진구 자양동 609-5</td>\n",
       "      <td>32000</td>\n",
       "    </tr>\n",
       "    <tr>\n",
       "      <th>23</th>\n",
       "      <td>270</td>\n",
       "      <td>270</td>\n",
       "      <td>8677036</td>\n",
       "      <td>서울특별시 강남구 봉은사로30길 42 1층</td>\n",
       "      <td>27270</td>\n",
       "    </tr>\n",
       "    <tr>\n",
       "      <th>39</th>\n",
       "      <td>210</td>\n",
       "      <td>5000</td>\n",
       "      <td>8671689</td>\n",
       "      <td>서울특별시 강남구 역삼동 750-8번지 동진빌딩1층</td>\n",
       "      <td>26000</td>\n",
       "    </tr>\n",
       "    <tr>\n",
       "      <th>7</th>\n",
       "      <td>0</td>\n",
       "      <td>25000</td>\n",
       "      <td>8672664</td>\n",
       "      <td>서울특별시 동대문구 이문로 58</td>\n",
       "      <td>25000</td>\n",
       "    </tr>\n",
       "    <tr>\n",
       "      <th>4</th>\n",
       "      <td>0</td>\n",
       "      <td>24000</td>\n",
       "      <td>8656700</td>\n",
       "      <td>서울특별시 광진구 구의동 243-31</td>\n",
       "      <td>24000</td>\n",
       "    </tr>\n",
       "    <tr>\n",
       "      <th>47</th>\n",
       "      <td>230</td>\n",
       "      <td>230</td>\n",
       "      <td>8726705</td>\n",
       "      <td>서울특별시 강남구 봉은사로30길 42 1층</td>\n",
       "      <td>23230</td>\n",
       "    </tr>\n",
       "    <tr>\n",
       "      <th>34</th>\n",
       "      <td>0</td>\n",
       "      <td>23000</td>\n",
       "      <td>8757159</td>\n",
       "      <td>서울특별시 강남구 봉은사로 47길 12, 1층</td>\n",
       "      <td>23000</td>\n",
       "    </tr>\n",
       "    <tr>\n",
       "      <th>31</th>\n",
       "      <td>0</td>\n",
       "      <td>23000</td>\n",
       "      <td>8735229</td>\n",
       "      <td>서울특별시 광진구 구의강변로 52</td>\n",
       "      <td>23000</td>\n",
       "    </tr>\n",
       "  </tbody>\n",
       "</table>\n",
       "</div>"
      ],
      "text/plain": [
       "    rent  deposit       id                            주소  standard_price\n",
       "36     0    33000  8741145   서울특별시 강남구 선릉로72길 35 1층(대치동)           33000\n",
       "52     0    32000  8731727   서울특별시 강남구 선릉로72길 35 1층(대치동)           32000\n",
       "45     0    32000  8748097           서울특별시 광진구 자양동 609-5           32000\n",
       "23   270      270  8677036       서울특별시 강남구 봉은사로30길 42 1층           27270\n",
       "39   210     5000  8671689  서울특별시 강남구 역삼동 750-8번지 동진빌딩1층           26000\n",
       "7      0    25000  8672664             서울특별시 동대문구 이문로 58           25000\n",
       "4      0    24000  8656700          서울특별시 광진구 구의동 243-31           24000\n",
       "47   230      230  8726705       서울특별시 강남구 봉은사로30길 42 1층           23230\n",
       "34     0    23000  8757159     서울특별시 강남구 봉은사로 47길 12, 1층           23000\n",
       "31     0    23000  8735229            서울특별시 광진구 구의강변로 52           23000"
      ]
     },
     "execution_count": 32,
     "metadata": {},
     "output_type": "execute_result"
    }
   ],
   "source": [
    "rooms_df.sort_values(by = 'standard_price', ascending = False).head(10)"
   ]
  },
  {
   "cell_type": "code",
   "execution_count": 33,
   "metadata": {},
   "outputs": [
    {
     "data": {
      "text/html": [
       "<div>\n",
       "<style>\n",
       "    .dataframe thead tr:only-child th {\n",
       "        text-align: right;\n",
       "    }\n",
       "\n",
       "    .dataframe thead th {\n",
       "        text-align: left;\n",
       "    }\n",
       "\n",
       "    .dataframe tbody tr th {\n",
       "        vertical-align: top;\n",
       "    }\n",
       "</style>\n",
       "<table border=\"1\" class=\"dataframe\">\n",
       "  <thead>\n",
       "    <tr style=\"text-align: right;\">\n",
       "      <th></th>\n",
       "      <th>rent</th>\n",
       "      <th>deposit</th>\n",
       "      <th>id</th>\n",
       "      <th>주소</th>\n",
       "      <th>standard_price</th>\n",
       "    </tr>\n",
       "  </thead>\n",
       "  <tbody>\n",
       "    <tr>\n",
       "      <th>0</th>\n",
       "      <td>75</td>\n",
       "      <td>2000</td>\n",
       "      <td>8730048</td>\n",
       "      <td>서울특별시 송파구 삼전동 121-3 101호</td>\n",
       "      <td>9500</td>\n",
       "    </tr>\n",
       "    <tr>\n",
       "      <th>1</th>\n",
       "      <td>0</td>\n",
       "      <td>15000</td>\n",
       "      <td>8606664</td>\n",
       "      <td>서울특별시 중랑구 중화동 283-11</td>\n",
       "      <td>15000</td>\n",
       "    </tr>\n",
       "    <tr>\n",
       "      <th>2</th>\n",
       "      <td>45</td>\n",
       "      <td>1000</td>\n",
       "      <td>8585140</td>\n",
       "      <td>서울특별시 광진구 화양동 92-3</td>\n",
       "      <td>5500</td>\n",
       "    </tr>\n",
       "    <tr>\n",
       "      <th>3</th>\n",
       "      <td>60</td>\n",
       "      <td>4000</td>\n",
       "      <td>8748326</td>\n",
       "      <td>서울특별시 강남구 봉은사로34길 9 1층(역삼동)</td>\n",
       "      <td>10000</td>\n",
       "    </tr>\n",
       "    <tr>\n",
       "      <th>4</th>\n",
       "      <td>0</td>\n",
       "      <td>24000</td>\n",
       "      <td>8656700</td>\n",
       "      <td>서울특별시 광진구 구의동 243-31</td>\n",
       "      <td>24000</td>\n",
       "    </tr>\n",
       "  </tbody>\n",
       "</table>\n",
       "</div>"
      ],
      "text/plain": [
       "   rent  deposit       id                           주소  standard_price\n",
       "0    75     2000  8730048     서울특별시 송파구 삼전동 121-3 101호            9500\n",
       "1     0    15000  8606664         서울특별시 중랑구 중화동 283-11           15000\n",
       "2    45     1000  8585140           서울특별시 광진구 화양동 92-3            5500\n",
       "3    60     4000  8748326  서울특별시 강남구 봉은사로34길 9 1층(역삼동)           10000\n",
       "4     0    24000  8656700         서울특별시 광진구 구의동 243-31           24000"
      ]
     },
     "execution_count": 33,
     "metadata": {},
     "output_type": "execute_result"
    }
   ],
   "source": [
    "rooms_df.head()"
   ]
  }
 ],
 "metadata": {
  "kernelspec": {
   "display_name": "Python 3",
   "language": "python",
   "name": "python3"
  },
  "language_info": {
   "codemirror_mode": {
    "name": "ipython",
    "version": 3
   },
   "file_extension": ".py",
   "mimetype": "text/x-python",
   "name": "python",
   "nbconvert_exporter": "python",
   "pygments_lexer": "ipython3",
   "version": "3.6.1"
  }
 },
 "nbformat": 4,
 "nbformat_minor": 2
}
