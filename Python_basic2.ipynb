{
 "cells": [
  {
   "cell_type": "markdown",
   "metadata": {},
   "source": [
    "# Python basic 2\n",
    "_본 자료는 안수찬 강사님의 파이썬을 활용한 업무자동화 Camp (fast campus)의 강의자료를 기반으로 만들어졌습니다._  \n",
    "만든이 : 김보섭\n",
    "\n",
    "## Summary\n",
    "* 파일의 입력과 출력(1. open, 2. 'with')\n",
    "    * read(), readline(), readlines(),...\n",
    "    * Column을 모른다고 가정하고 csv 파일을 읽는 함수\n",
    "    * Column이 없을 때 임의의 칼럼이름을 만들어서 읽는 함수\n",
    "* Lambda (익명 함수)\n",
    "    * 함수형 프로그래밍   \n",
    "      (익명함수 Lambda + Lambda Operator - map, reduce, filter)\n",
    "        * map : 모든 element에 동일한 함수 적용\n",
    "        * filter 모든 element에 동일한 함수 적용, 결과가 참인 element => List\n",
    "        * reduce 모든 element... 줄여나가다가 => 값!!\n",
    "* List Comprehension\n",
    "    * [i\\_______ for i in elements if \\_________]"
   ]
  },
  {
   "cell_type": "markdown",
   "metadata": {},
   "source": [
    "## 파일의 입력과 출력(1. open, 2. with) \n",
    "read(), readline(), readlines()"
   ]
  },
  {
   "cell_type": "code",
   "execution_count": 1,
   "metadata": {
    "collapsed": false
   },
   "outputs": [
    {
     "name": "stdout",
     "output_type": "stream",
     "text": [
      "D:\\dev\\py-automate\n",
      "['.ipynb_checkpoints', 'animals.csv', 'animals2.csv', 'fruits.csv', 'hello', 'MyPhotos', 'new_automate', 'os, shutil.ipynb', 'Photos', 'Photos.zip', 'Python_basic1.ipynb', 'Python_basic2.ipynb', 'Python_basic3.ipynb', 'src.txt', 'test.txt']\n"
     ]
    }
   ],
   "source": [
    "import os, sys\n",
    "print(os.getcwd())\n",
    "print(os.listdir())"
   ]
  },
  {
   "cell_type": "markdown",
   "metadata": {},
   "source": [
    "### read() "
   ]
  },
  {
   "cell_type": "code",
   "execution_count": 2,
   "metadata": {
    "collapsed": false
   },
   "outputs": [
    {
     "data": {
      "text/plain": [
       "'강아지,dog\\n고양이,cat\\n물고기,fish\\n원숭이,monkey'"
      ]
     },
     "execution_count": 2,
     "metadata": {},
     "output_type": "execute_result"
    }
   ],
   "source": [
    "# animals.csv 데이터형태\n",
    "'''\n",
    "    강아지,dog\n",
    "    고양이,cat\n",
    "    물고기,fish\n",
    "    원숭이,monkey\n",
    "'''\n",
    "# file pointer\n",
    "# r => read\n",
    "# . => current dir (현재 폴더 경로)\n",
    "# .. => parent dir (부모/상위 폴더 경로)\n",
    "# / => 그 폴더 내부\n",
    "fp = open('./animals.csv', mode = 'r', encoding = 'utf-8')\n",
    "data = fp.read()\n",
    "fp.close()\n",
    "data"
   ]
  },
  {
   "cell_type": "code",
   "execution_count": 3,
   "metadata": {
    "collapsed": false
   },
   "outputs": [
    {
     "data": {
      "text/plain": [
       "'강아지,dog\\n고양이,cat\\n물고기,fish\\n원숭이,monkey'"
      ]
     },
     "execution_count": 3,
     "metadata": {},
     "output_type": "execute_result"
    }
   ],
   "source": [
    "with open('./animals.csv', 'r', encoding = 'utf-8') as fp:\n",
    "    # with block 내에서만 존재, 이게 끝나면 자동으로 닫히는 역할!\n",
    "    data = fp.read()\n",
    "data"
   ]
  },
  {
   "cell_type": "code",
   "execution_count": 4,
   "metadata": {
    "collapsed": false
   },
   "outputs": [
    {
     "data": {
      "text/plain": [
       "['강아지,dog', '고양이,cat', '물고기,fish', '원숭이,monkey']"
      ]
     },
     "execution_count": 4,
     "metadata": {},
     "output_type": "execute_result"
    }
   ],
   "source": [
    "data.split('\\n')\n",
    "# split(seperator) => seperator를 기준으로 String을 나누고 => List 반환"
   ]
  },
  {
   "cell_type": "code",
   "execution_count": 5,
   "metadata": {
    "collapsed": false
   },
   "outputs": [
    {
     "data": {
      "text/plain": [
       "'강아지,dog\\n고양이,cat\\n물고기,fish\\n원숭이,monkey'"
      ]
     },
     "execution_count": 5,
     "metadata": {},
     "output_type": "execute_result"
    }
   ],
   "source": [
    "# 1. fp.read()\n",
    "# 2. fp.readline()\n",
    "# 3. fp.readlines()\n",
    "'''\n",
    "    강아지,dog\n",
    "    고양이,cat\n",
    "    물고기,fish\n",
    "    원숭이,monkey\n",
    "'''\n",
    "with open('./animals.csv', 'r', encoding = 'utf-8') as fp:\n",
    "    # fp.read() => 문서 전체가 String 형태로 return\n",
    "    data = fp.read() \n",
    "data"
   ]
  },
  {
   "cell_type": "markdown",
   "metadata": {},
   "source": [
    "### readline() "
   ]
  },
  {
   "cell_type": "code",
   "execution_count": 6,
   "metadata": {
    "collapsed": false
   },
   "outputs": [
    {
     "name": "stdout",
     "output_type": "stream",
     "text": [
      "강아지,dog\n",
      " 고양이,cat\n",
      "\n"
     ]
    }
   ],
   "source": [
    "with open('./animals.csv', 'r', encoding = 'utf-8') as fp:\n",
    "    # fp.readline() => 한줄 (newline character를 기준으로 끊어서 가져오는 기능)\n",
    "    data = fp.readline()\n",
    "    data2 = fp.readline()\n",
    "print(data, data2)"
   ]
  },
  {
   "cell_type": "markdown",
   "metadata": {},
   "source": [
    "### readlines() "
   ]
  },
  {
   "cell_type": "code",
   "execution_count": 7,
   "metadata": {
    "collapsed": false
   },
   "outputs": [
    {
     "data": {
      "text/plain": [
       "['강아지,dog\\n', '고양이,cat\\n', '물고기,fish\\n', '원숭이,monkey']"
      ]
     },
     "execution_count": 7,
     "metadata": {},
     "output_type": "execute_result"
    }
   ],
   "source": [
    "with open('./animals.csv', 'r', encoding = 'utf-8') as fp:\n",
    "    # fp.readlines() => 전체를 newline character 기준으로 나눠서 List return\n",
    "    data = fp.readlines() # 나중에 불필요한 \\n을 제거해야함\n",
    "data"
   ]
  },
  {
   "cell_type": "code",
   "execution_count": 8,
   "metadata": {
    "collapsed": false
   },
   "outputs": [
    {
     "data": {
      "text/plain": [
       "\"\\n    {'Korean' : '강아지', 'English' : 'dog} # Dict!\\n\""
      ]
     },
     "execution_count": 8,
     "metadata": {},
     "output_type": "execute_result"
    }
   ],
   "source": [
    "# 아래와 같은 형태로 만들자\n",
    "# List of Dict... (딕셔너리의 리스트!)\n",
    "'''\n",
    "    {'Korean' : '강아지', 'English' : 'dog} # Dict!\n",
    "'''"
   ]
  },
  {
   "cell_type": "code",
   "execution_count": 9,
   "metadata": {
    "collapsed": false
   },
   "outputs": [
    {
     "data": {
      "text/plain": [
       "[{'English name': 'dog', 'Korean name': '강아지'},\n",
       " {'English name': 'cat', 'Korean name': '고양이'},\n",
       " {'English name': 'fish', 'Korean name': '물고기'},\n",
       " {'English name': 'monkey', 'Korean name': '원숭이'}]"
      ]
     },
     "execution_count": 9,
     "metadata": {},
     "output_type": "execute_result"
    }
   ],
   "source": [
    "with open('./animals.csv', 'r', encoding = 'utf-8') as fp:\n",
    "    data = fp.read()\n",
    "    rows = data.split('\\n')\n",
    "    tmp = []\n",
    "    for row in rows:\n",
    "        tmp.append({'Korean name' : row.split(',')[0],\n",
    "                    'English name' : row.split(',')[1]})\n",
    "tmp"
   ]
  },
  {
   "cell_type": "code",
   "execution_count": 10,
   "metadata": {
    "collapsed": false
   },
   "outputs": [
    {
     "data": {
      "text/html": [
       "<div>\n",
       "<table border=\"1\" class=\"dataframe\">\n",
       "  <thead>\n",
       "    <tr style=\"text-align: right;\">\n",
       "      <th></th>\n",
       "      <th>English name</th>\n",
       "      <th>Korean name</th>\n",
       "    </tr>\n",
       "  </thead>\n",
       "  <tbody>\n",
       "    <tr>\n",
       "      <th>0</th>\n",
       "      <td>dog</td>\n",
       "      <td>강아지</td>\n",
       "    </tr>\n",
       "    <tr>\n",
       "      <th>1</th>\n",
       "      <td>cat</td>\n",
       "      <td>고양이</td>\n",
       "    </tr>\n",
       "    <tr>\n",
       "      <th>2</th>\n",
       "      <td>fish</td>\n",
       "      <td>물고기</td>\n",
       "    </tr>\n",
       "    <tr>\n",
       "      <th>3</th>\n",
       "      <td>monkey</td>\n",
       "      <td>원숭이</td>\n",
       "    </tr>\n",
       "  </tbody>\n",
       "</table>\n",
       "</div>"
      ],
      "text/plain": [
       "  English name Korean name\n",
       "0          dog         강아지\n",
       "1          cat         고양이\n",
       "2         fish         물고기\n",
       "3       monkey         원숭이"
      ]
     },
     "execution_count": 10,
     "metadata": {},
     "output_type": "execute_result"
    }
   ],
   "source": [
    "import pandas as pd\n",
    "pd.DataFrame(tmp)"
   ]
  },
  {
   "cell_type": "markdown",
   "metadata": {},
   "source": [
    "### Column을 모른다고 가정하고 csv 파일을 읽는 함수"
   ]
  },
  {
   "cell_type": "code",
   "execution_count": 11,
   "metadata": {
    "collapsed": false
   },
   "outputs": [
    {
     "data": {
      "text/plain": [
       "[{'English Name': 'dog', 'Korean Name': '강아지', 'Size': '중형'},\n",
       " {'English Name': 'cat', 'Korean Name': '고양이', 'Size': '소형'},\n",
       " {'English Name': 'fish', 'Korean Name': '물고기', 'Size': '소형'},\n",
       " {'English Name': 'monkey', 'Korean Name': '원숭이', 'Size': '대형'}]"
      ]
     },
     "execution_count": 11,
     "metadata": {},
     "output_type": "execute_result"
    }
   ],
   "source": [
    "# 스크립트 => 함수\n",
    "# English name, korean name => cloumn을 미리 알고 x => 어떤 경우에도 읽을 수 있도록! => 함수 !\n",
    "# animals2.csv 데이터 형태\n",
    "'''\n",
    "    English Name,Korean Name,Size\n",
    "    dog,강아지,중형\n",
    "    cat,고양이,소형\n",
    "    fish,물고기,소형\n",
    "    monkey,원숭이,대형\n",
    "'''\n",
    "\n",
    "with open('./animals2.csv', 'r', encoding = 'utf-8') as fp:\n",
    "    data = fp.read()\n",
    "    rows = data.split('\\n')\n",
    "    result = []\n",
    "    \n",
    "    # 1. Column을 다루는 코드\n",
    "    columns = rows[0].split(',')\n",
    "    \n",
    "    # 2. 실제데이터를 다루는 코드\n",
    "    tmp = rows[1:]\n",
    "    for row in tmp:\n",
    "        row_datas = row.split(',')\n",
    "        row_dict = {}\n",
    "        \n",
    "        # column을 for문 돌리면서\n",
    "        # column에 적절한 데이터를 추가한다.\n",
    "        \n",
    "        for column_index in range(len(columns)): # 칼럼의 개수가 몇 개가 되든지 간에\n",
    "            column = columns[column_index]       # 알아서 적절한 횟수만큼 for문을 돌리자\n",
    "            row_dict[column] = row_datas[column_index]\n",
    "            \n",
    "        result.append(row_dict)\n",
    "result"
   ]
  },
  {
   "cell_type": "code",
   "execution_count": 12,
   "metadata": {
    "collapsed": false
   },
   "outputs": [],
   "source": [
    "# 함수화\n",
    "# 1. Input => '파일경로'\n",
    "# 2. Output => 'result' (dict의 list)\n",
    "def read_csv(filepath, encoding = 'utf-8'):\n",
    "    with open(filepath, 'r', encoding = encoding) as fp:\n",
    "        data = fp.read()\n",
    "        rows = data.split('\\n')\n",
    "        result = []\n",
    "\n",
    "        # 1. Column을 다루는 코드\n",
    "        columns = rows[0].split(',')\n",
    "\n",
    "        # 2. 실제데이터를 다루는 코드\n",
    "        tmp = rows[1:]\n",
    "        for row in tmp:\n",
    "            row_datas = row.split(',')\n",
    "            row_dict = {}\n",
    "\n",
    "            # column을 for문 돌리면서\n",
    "            # column에 적절한 데이터를 추가한다.\n",
    "\n",
    "            for column_index in range(len(columns)): # 칼럼의 개수가 몇 개가 되든지 간에\n",
    "                column = columns[column_index]       # 알아서 적절한 횟수만큼 for문을 돌리자\n",
    "                row_dict[column] = row_datas[column_index]\n",
    "\n",
    "            result.append(row_dict)\n",
    "    return result"
   ]
  },
  {
   "cell_type": "code",
   "execution_count": 13,
   "metadata": {
    "collapsed": false
   },
   "outputs": [
    {
     "data": {
      "text/plain": [
       "[{'English Name': 'dog', 'Korean Name': '강아지', 'Size': '중형'},\n",
       " {'English Name': 'cat', 'Korean Name': '고양이', 'Size': '소형'},\n",
       " {'English Name': 'fish', 'Korean Name': '물고기', 'Size': '소형'},\n",
       " {'English Name': 'monkey', 'Korean Name': '원숭이', 'Size': '대형'}]"
      ]
     },
     "execution_count": 13,
     "metadata": {},
     "output_type": "execute_result"
    }
   ],
   "source": [
    "read_csv('./animals2.csv')"
   ]
  },
  {
   "cell_type": "code",
   "execution_count": 14,
   "metadata": {
    "collapsed": false
   },
   "outputs": [
    {
     "data": {
      "text/plain": [
       "[{'dog': 'cat', '강아지': '고양이'},\n",
       " {'dog': 'fish', '강아지': '물고기'},\n",
       " {'dog': 'monkey', '강아지': '원숭이'}]"
      ]
     },
     "execution_count": 14,
     "metadata": {},
     "output_type": "execute_result"
    }
   ],
   "source": [
    "read_csv('./animals.csv')"
   ]
  },
  {
   "cell_type": "markdown",
   "metadata": {},
   "source": [
    "### Column이 없을 때 임의의 칼럼이름을 만들어서 읽는 함수"
   ]
  },
  {
   "cell_type": "code",
   "execution_count": 15,
   "metadata": {
    "collapsed": false
   },
   "outputs": [],
   "source": [
    "# 범용적으로 함수화\n",
    "# 1. Input => '파일경로'\n",
    "# 2. Output => 'result' (dict의 list)\n",
    "def read_txt(filepath, separator = ',', header = True, encoding = 'utf-8'): # header 관련 옵션추가\n",
    "    if header:\n",
    "        with open(filepath, 'r', encoding = encoding) as fp:\n",
    "            data = fp.read()\n",
    "            rows = data.split('\\n')\n",
    "            result = []\n",
    "\n",
    "            # 1. Column을 다루는 코드\n",
    "            columns = rows[0].split(separator)\n",
    "\n",
    "            # 2. 실제데이터를 다루는 코드\n",
    "            tmp = rows[1:]\n",
    "            for row in tmp:\n",
    "                row_datas = row.split(separator)\n",
    "                row_dict = {}\n",
    "\n",
    "                # column을 for문 돌리면서\n",
    "                # column에 적절한 데이터를 추가한다.\n",
    "\n",
    "                for column_index in range(len(columns)): # 칼럼의 개수가 몇 개가 되든지 간에\n",
    "                    column = columns[column_index]       # 알아서 적절한 횟수만큼 for문을 돌리자\n",
    "                    row_dict[column] = row_datas[column_index]\n",
    "\n",
    "                result.append(row_dict)\n",
    "        return result\n",
    "    else:\n",
    "        with open(filepath, 'r', encoding = encoding) as fp:\n",
    "            data = fp.read()\n",
    "            rows = data.split('\\n')\n",
    "            result = []\n",
    "\n",
    "            # 1. Column을 다루는 코드\n",
    "            \n",
    "            columns = [('V' + str(i + 1)) for i in range(len(rows[0].split(separator)))]\n",
    "\n",
    "            # 2. 실제데이터를 다루는 코드\n",
    "            tmp = rows[1:]\n",
    "            for row in tmp:\n",
    "                row_datas = row.split(separator)\n",
    "                row_dict = {}\n",
    "\n",
    "                # column을 for문 돌리면서\n",
    "                # column에 적절한 데이터를 추가한다.\n",
    "\n",
    "                for column_index in range(len(columns)): # 칼럼의 개수가 몇 개가 되든지 간에\n",
    "                    column = columns[column_index]       # 알아서 적절한 횟수만큼 for문을 돌리자\n",
    "                    row_dict[column] = row_datas[column_index]\n",
    "\n",
    "                result.append(row_dict)\n",
    "        return result"
   ]
  },
  {
   "cell_type": "code",
   "execution_count": 16,
   "metadata": {
    "collapsed": false
   },
   "outputs": [
    {
     "data": {
      "text/plain": [
       "[{'V1': '고양이', 'V2': 'cat'},\n",
       " {'V1': '물고기', 'V2': 'fish'},\n",
       " {'V1': '원숭이', 'V2': 'monkey'}]"
      ]
     },
     "execution_count": 16,
     "metadata": {},
     "output_type": "execute_result"
    }
   ],
   "source": [
    "# animals.csv 파일형태\n",
    "'''\n",
    "    고양이,cat\n",
    "    물고기,fish\n",
    "    원숭이,monkey\n",
    "'''\n",
    "read_txt('./animals.csv', header = False)"
   ]
  },
  {
   "cell_type": "code",
   "execution_count": 17,
   "metadata": {
    "collapsed": false
   },
   "outputs": [
    {
     "data": {
      "text/plain": [
       "[{'Name': '사과', 'Size': '중형'}, {'Name': '수박', 'Size': '대형'}]"
      ]
     },
     "execution_count": 17,
     "metadata": {},
     "output_type": "execute_result"
    }
   ],
   "source": [
    "# fruits.csv 파일형태\n",
    "'''\n",
    "    Name|Size\n",
    "    사과|중형\n",
    "    수박|대형\n",
    "'''\n",
    "read_txt('./fruits.csv', separator ='|')"
   ]
  },
  {
   "cell_type": "markdown",
   "metadata": {},
   "source": [
    "## Lambda\n",
    "* Lambda (이름이 있는 함수..., 익명함수) + Lambda Operator (map, filter, reduce)"
   ]
  },
  {
   "cell_type": "code",
   "execution_count": 18,
   "metadata": {
    "collapsed": false
   },
   "outputs": [
    {
     "data": {
      "text/plain": [
       "<function __main__.double>"
      ]
     },
     "execution_count": 18,
     "metadata": {},
     "output_type": "execute_result"
    }
   ],
   "source": [
    "# Double\n",
    "def double(x):\n",
    "    return 2 * x\n",
    "double"
   ]
  },
  {
   "cell_type": "code",
   "execution_count": 19,
   "metadata": {
    "collapsed": false
   },
   "outputs": [
    {
     "data": {
      "text/plain": [
       "<function __main__.<lambda>>"
      ]
     },
     "execution_count": 19,
     "metadata": {},
     "output_type": "execute_result"
    }
   ],
   "source": [
    "lambda x : 2 * x"
   ]
  },
  {
   "cell_type": "code",
   "execution_count": 20,
   "metadata": {
    "collapsed": false
   },
   "outputs": [
    {
     "data": {
      "text/plain": [
       "200"
      ]
     },
     "execution_count": 20,
     "metadata": {},
     "output_type": "execute_result"
    }
   ],
   "source": [
    "(lambda x : 2 * x)(100)"
   ]
  },
  {
   "cell_type": "code",
   "execution_count": 21,
   "metadata": {
    "collapsed": false
   },
   "outputs": [
    {
     "data": {
      "text/plain": [
       "[2, 4, 6, 8, 10]"
      ]
     },
     "execution_count": 21,
     "metadata": {},
     "output_type": "execute_result"
    }
   ],
   "source": [
    "# [1, 2, 3, 4, 5] List => [2, 4, 6, 8, 10]\n",
    "# 1. for 문을 돌리고,\n",
    "# 2. 각각의 element 들에 대해서 '동일한 함수'를 적용\n",
    "my_list = [1, 2, 3, 4, 5]\n",
    "result = []\n",
    "for element in my_list:\n",
    "    result.append(double(element))\n",
    "result"
   ]
  },
  {
   "cell_type": "markdown",
   "metadata": {},
   "source": [
    "### map(function, list)  => list\n",
    "list의 각각의 element에 동일한 function을 적용해서 새로운 list를 반환"
   ]
  },
  {
   "cell_type": "code",
   "execution_count": 22,
   "metadata": {
    "collapsed": false
   },
   "outputs": [
    {
     "data": {
      "text/plain": [
       "[2, 4, 6, 8, 10]"
      ]
     },
     "execution_count": 22,
     "metadata": {},
     "output_type": "execute_result"
    }
   ],
   "source": [
    "# map(Lambda Operator)\n",
    "# \"동일한 함수\"를 적용! (Lambda)\n",
    "list(map(double,[1,2,3,4,5])) # double이 되게 간단한 함수니까 익명함수써서 정의하자"
   ]
  },
  {
   "cell_type": "code",
   "execution_count": 23,
   "metadata": {
    "collapsed": false
   },
   "outputs": [
    {
     "data": {
      "text/plain": [
       "[2, 4, 6, 8, 10]"
      ]
     },
     "execution_count": 23,
     "metadata": {},
     "output_type": "execute_result"
    }
   ],
   "source": [
    "list(map(lambda x: 2*x,[1,2,3,4,5]))"
   ]
  },
  {
   "cell_type": "code",
   "execution_count": 24,
   "metadata": {
    "collapsed": false
   },
   "outputs": [
    {
     "data": {
      "text/plain": [
       "[{'Name': '사과', 'Size': '중형'}, {'Name': '수박', 'Size': '대형'}]"
      ]
     },
     "execution_count": 24,
     "metadata": {},
     "output_type": "execute_result"
    }
   ],
   "source": [
    "read_lsv = lambda filepath : read_txt(filepath, separator = '|')\n",
    "read_lsv('./fruits.csv')"
   ]
  },
  {
   "cell_type": "code",
   "execution_count": 25,
   "metadata": {
    "collapsed": false
   },
   "outputs": [
    {
     "data": {
      "text/plain": [
       "[0, 2, 4, 6, 8, 10, 12, 14, 16, 18]"
      ]
     },
     "execution_count": 25,
     "metadata": {},
     "output_type": "execute_result"
    }
   ],
   "source": [
    "list(map(lambda x: x * 2,\n",
    "         range(10) # iterable한 애들이면 넣을 수 있음\n",
    "        ))"
   ]
  },
  {
   "cell_type": "markdown",
   "metadata": {},
   "source": [
    "### filter(function, list) => list\n",
    "list의 각각의 element에 대해서 동일한 function을 적용한 다음에, 함수의 결과가 True인 Element만 남겨서 새로운 list 반환\n"
   ]
  },
  {
   "cell_type": "code",
   "execution_count": 26,
   "metadata": {
    "collapsed": false
   },
   "outputs": [
    {
     "data": {
      "text/plain": [
       "[100, 101, 105, 106]"
      ]
     },
     "execution_count": 26,
     "metadata": {},
     "output_type": "execute_result"
    }
   ],
   "source": [
    "# 가지고 있는 list에서 100이상의 수만 뽑는 경우\n",
    "list(filter( lambda x : x>=100,\n",
    "       [1,100,101,3,4,105,106]\n",
    "      ))"
   ]
  },
  {
   "cell_type": "code",
   "execution_count": 27,
   "metadata": {
    "collapsed": false
   },
   "outputs": [
    {
     "data": {
      "text/plain": [
       "[64, 81, 100]"
      ]
     },
     "execution_count": 27,
     "metadata": {},
     "output_type": "execute_result"
    }
   ],
   "source": [
    "# 1-10까지의 자연수 리스트 => 제곱한 결과중에서 50이상의 수만 리스트\n",
    "# for문 활용\n",
    "tmp = []\n",
    "for number in range(1,11):\n",
    "    if number ** 2 >= 50:\n",
    "        tmp.append((number) ** 2)\n",
    "tmp   "
   ]
  },
  {
   "cell_type": "code",
   "execution_count": 28,
   "metadata": {
    "collapsed": false
   },
   "outputs": [
    {
     "data": {
      "text/plain": [
       "[64, 81, 100]"
      ]
     },
     "execution_count": 28,
     "metadata": {},
     "output_type": "execute_result"
    }
   ],
   "source": [
    "# map, filter\n",
    "tmp = list(filter(lambda x : x>=50,\n",
    "             map(lambda x : x ** 2, range(1, 11))))\n",
    "tmp"
   ]
  },
  {
   "cell_type": "markdown",
   "metadata": {},
   "source": [
    "### reduce(function, list) => value"
   ]
  },
  {
   "cell_type": "code",
   "execution_count": 29,
   "metadata": {
    "collapsed": false
   },
   "outputs": [
    {
     "data": {
      "text/plain": [
       "15"
      ]
     },
     "execution_count": 29,
     "metadata": {},
     "output_type": "execute_result"
    }
   ],
   "source": [
    "# example 1~5까지의함\n",
    "result = 0\n",
    "for i in range(1,6):\n",
    "    result = result + i\n",
    "result"
   ]
  },
  {
   "cell_type": "code",
   "execution_count": 30,
   "metadata": {
    "collapsed": false
   },
   "outputs": [
    {
     "data": {
      "text/plain": [
       "15"
      ]
     },
     "execution_count": 30,
     "metadata": {},
     "output_type": "execute_result"
    }
   ],
   "source": [
    "# 1, 2, 3, 4, 5\n",
    "# 1, 2, 3, 4, 5\n",
    "#    3, 3, 4, 5\n",
    "#       6, 4, 5\n",
    "#         10, 5\n",
    "#            15\n",
    "from functools import reduce\n",
    "reduce(\n",
    "    lambda a, b: a+b,\n",
    "    range(1,6)\n",
    ")"
   ]
  },
  {
   "cell_type": "code",
   "execution_count": 31,
   "metadata": {
    "collapsed": false
   },
   "outputs": [
    {
     "data": {
      "text/plain": [
       "105"
      ]
     },
     "execution_count": 31,
     "metadata": {},
     "output_type": "execute_result"
    }
   ],
   "source": [
    "# input : 리스트\n",
    "# output : 리스트의 element 중에서 가장 큰 수\n",
    "# get_max() => filter...\n",
    "def get_max(elements):\n",
    "    tmp = elements[0]\n",
    "    \n",
    "    for element in elements:\n",
    "        if element >= tmp:\n",
    "            tmp = element\n",
    "    return tmp\n",
    "get_max([1, 100, 2,3, 4, 105, 6])"
   ]
  },
  {
   "cell_type": "code",
   "execution_count": 32,
   "metadata": {
    "collapsed": false
   },
   "outputs": [
    {
     "data": {
      "text/plain": [
       "105"
      ]
     },
     "execution_count": 32,
     "metadata": {},
     "output_type": "execute_result"
    }
   ],
   "source": [
    "# 1, 100, 2, 3, 4, 105, 6\n",
    "# 100, 2, 3, 4, 105, 6\n",
    "# 100, 3, 4, 105, 6\n",
    "# 100, 4, 105, 6\n",
    "# 100, 105, 6\n",
    "# 105, 6\n",
    "# 105\n",
    "reduce(\n",
    "    lambda a, b: a if a > b else b,\n",
    "    [1, 100, 2,3, 4, 105, 6]\n",
    ")"
   ]
  },
  {
   "cell_type": "code",
   "execution_count": 33,
   "metadata": {
    "collapsed": false
   },
   "outputs": [
    {
     "data": {
      "text/plain": [
       "105"
      ]
     },
     "execution_count": 33,
     "metadata": {},
     "output_type": "execute_result"
    }
   ],
   "source": [
    "get_max = lambda elements: reduce(\n",
    "    lambda a, b: a if a > b else b,\n",
    "    elements\n",
    ")\n",
    "get_max([1, 100, 2,3, 4, 105, 6])"
   ]
  },
  {
   "cell_type": "markdown",
   "metadata": {},
   "source": [
    "## List Comprehension \n",
    "list를 정의하는 것처럼 쓰지만. 실제로 내부적으로는 Lambda Operator  \n",
    "\n",
    "[i--- for i in elements if ----]"
   ]
  },
  {
   "cell_type": "code",
   "execution_count": 34,
   "metadata": {
    "collapsed": false
   },
   "outputs": [
    {
     "data": {
      "text/plain": [
       "[1, 4, 9, 16, 25]"
      ]
     },
     "execution_count": 34,
     "metadata": {},
     "output_type": "execute_result"
    }
   ],
   "source": [
    "list(map(\n",
    "    lambda x: x**2, # 1. lambda function\n",
    "    range(1,6)      # 2. list\n",
    "))"
   ]
  },
  {
   "cell_type": "code",
   "execution_count": 35,
   "metadata": {
    "collapsed": false
   },
   "outputs": [
    {
     "data": {
      "text/plain": [
       "[1, 4, 9, 16, 25]"
      ]
     },
     "execution_count": 35,
     "metadata": {},
     "output_type": "execute_result"
    }
   ],
   "source": [
    "# [i___ for i in elements if ________]\n",
    "[  \n",
    "   i**2 # 1. lambda function  \n",
    "   for i\n",
    "   in range(1,6) # 2. list\n",
    "]"
   ]
  },
  {
   "cell_type": "code",
   "execution_count": 36,
   "metadata": {
    "collapsed": false
   },
   "outputs": [
    {
     "data": {
      "text/plain": [
       "[101, 104, 105]"
      ]
     },
     "execution_count": 36,
     "metadata": {},
     "output_type": "execute_result"
    }
   ],
   "source": [
    "[\n",
    "    i                               # 1. map lambda\n",
    "    for i\n",
    "    in [101, 2, 3, 104, 105]        # 2. list\n",
    "    if i >= 100                     # 3, filter lambda\n",
    "    \n",
    "]"
   ]
  },
  {
   "cell_type": "code",
   "execution_count": 37,
   "metadata": {
    "collapsed": false
   },
   "outputs": [
    {
     "data": {
      "text/plain": [
       "[64, 81, 100]"
      ]
     },
     "execution_count": 37,
     "metadata": {},
     "output_type": "execute_result"
    }
   ],
   "source": [
    "# 1-10까지의 자연수 리스트 => 제곱한 결과중에서 50이상의 수만 리스트\n",
    "[\n",
    "    i ** 2\n",
    "    for i \n",
    "    in range(1,11)\n",
    "    if i**2 >= 50   \n",
    "]"
   ]
  },
  {
   "cell_type": "code",
   "execution_count": 38,
   "metadata": {
    "collapsed": false
   },
   "outputs": [
    {
     "data": {
      "text/plain": [
       "[{'English name': 'dog', 'Korean name': '강아지'},\n",
       " {'English name': 'cat', 'Korean name': '고양이'},\n",
       " {'English name': 'fish', 'Korean name': '물고기'},\n",
       " {'English name': 'monkey', 'Korean name': '원숭이'}]"
      ]
     },
     "execution_count": 38,
     "metadata": {},
     "output_type": "execute_result"
    }
   ],
   "source": [
    "# list comprehension으로 dictionary의 list만들기\n",
    "'''\n",
    "    강아지,dog\n",
    "    고양이,cat\n",
    "    물고기,fish\n",
    "    원숭이,monkey\n",
    "'''\n",
    "\n",
    "[\n",
    "    {\n",
    "        'Korean name' : row.split(',')[0],\n",
    "        'English name' : row.split(',')[1]\n",
    "    }\n",
    "    \n",
    "    for row\n",
    "    in open('./animals.csv', encoding = 'utf-8').read().split('\\n')\n",
    "]"
   ]
  }
 ],
 "metadata": {
  "kernelspec": {
   "display_name": "Python 3",
   "language": "python",
   "name": "python3"
  },
  "language_info": {
   "codemirror_mode": {
    "name": "ipython",
    "version": 3
   },
   "file_extension": ".py",
   "mimetype": "text/x-python",
   "name": "python",
   "nbconvert_exporter": "python",
   "pygments_lexer": "ipython3",
   "version": "3.6.0"
  }
 },
 "nbformat": 4,
 "nbformat_minor": 2
}
