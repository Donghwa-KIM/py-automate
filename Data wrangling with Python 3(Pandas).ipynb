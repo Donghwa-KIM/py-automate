{
 "cells": [
  {
   "cell_type": "markdown",
   "metadata": {},
   "source": [
    "# 파이썬으로 엑셀다루기 3 (with Pandas)\n",
    "_본 자료는 안수찬 강사님의 파이썬을 활용한 업무자동화 Camp (fast campus)의 강의자료를 기반으로 만들어졌습니다._  \n",
    "만든이 : 김보섭  "
   ]
  },
  {
   "cell_type": "markdown",
   "metadata": {
    "collapsed": true
   },
   "source": [
    "_**전국 대학교의 리스트, 전국 대학교에 포함된 학과의 리스트, 각각의 대학에 대한 지역에 관한 실제 데이터로 아래의 두 예제를 직접 풀어봅니다.**_  \n",
    "\n",
    "_(boolean mask를 이용해서 filtering 하는 방법, groupby를 활용하는 방법을 이용해봅니다.)_  \n",
    "\n",
    "  \n",
    "* Example 1. 대학교별로 나눠보고 싶다. eg) '경북대학교.xlsx' * 1500  \n",
    "* Example 2. 지역별로 나누고, 폴더로 구분하기 '경북/경북대학교.xlsx'"
   ]
  },
  {
   "cell_type": "markdown",
   "metadata": {
    "collapsed": true
   },
   "source": [
    "### Example 1. 대학교라는 폴더안에 각각의 학교 별 excel 파일을 저장하기"
   ]
  },
  {
   "cell_type": "code",
   "execution_count": 1,
   "metadata": {
    "collapsed": true
   },
   "outputs": [],
   "source": [
    "import os, sys, re\n",
    "import shutil\n",
    "import pandas as pd"
   ]
  },
  {
   "cell_type": "code",
   "execution_count": 2,
   "metadata": {
    "collapsed": true
   },
   "outputs": [],
   "source": [
    "df = pd.read_excel('./데이터/univs_2014.xlsx')"
   ]
  },
  {
   "cell_type": "code",
   "execution_count": 3,
   "metadata": {
    "scrolled": true
   },
   "outputs": [
    {
     "data": {
      "text/html": [
       "<div>\n",
       "<style>\n",
       "    .dataframe thead tr:only-child th {\n",
       "        text-align: right;\n",
       "    }\n",
       "\n",
       "    .dataframe thead th {\n",
       "        text-align: left;\n",
       "    }\n",
       "\n",
       "    .dataframe tbody tr th {\n",
       "        vertical-align: top;\n",
       "    }\n",
       "</style>\n",
       "<table border=\"1\" class=\"dataframe\">\n",
       "  <thead>\n",
       "    <tr style=\"text-align: right;\">\n",
       "      <th></th>\n",
       "      <th>연도</th>\n",
       "      <th>학제</th>\n",
       "      <th>시도</th>\n",
       "      <th>학교명</th>\n",
       "      <th>본분교</th>\n",
       "      <th>학교상태</th>\n",
       "      <th>설립</th>\n",
       "      <th>우편번호</th>\n",
       "      <th>주소</th>\n",
       "      <th>전화번호</th>\n",
       "      <th>팩스번호</th>\n",
       "      <th>홈페이지</th>\n",
       "      <th>학과 계열</th>\n",
       "      <th>Unnamed: 13</th>\n",
       "      <th>Unnamed: 14</th>\n",
       "      <th>학과상태</th>\n",
       "      <th>학과명</th>\n",
       "    </tr>\n",
       "  </thead>\n",
       "  <tbody>\n",
       "    <tr>\n",
       "      <th>0</th>\n",
       "      <td>2014</td>\n",
       "      <td>전문대학(3년제)</td>\n",
       "      <td>충남</td>\n",
       "      <td>충남도립청양대학</td>\n",
       "      <td>본교</td>\n",
       "      <td>기존</td>\n",
       "      <td>공립</td>\n",
       "      <td>345702</td>\n",
       "      <td>충청남도 청양군 학사길 55 (청양읍, 청양대학)</td>\n",
       "      <td>041-635-6600</td>\n",
       "      <td>041-635-6633</td>\n",
       "      <td>www.cyc.ac.kr</td>\n",
       "      <td>사회계열</td>\n",
       "      <td>경영ㆍ경제</td>\n",
       "      <td>경영ㆍ경제</td>\n",
       "      <td>기존</td>\n",
       "      <td>토지행정과</td>\n",
       "    </tr>\n",
       "    <tr>\n",
       "      <th>1</th>\n",
       "      <td>2014</td>\n",
       "      <td>전문대학(3년제)</td>\n",
       "      <td>충남</td>\n",
       "      <td>충남도립청양대학</td>\n",
       "      <td>본교</td>\n",
       "      <td>기존</td>\n",
       "      <td>공립</td>\n",
       "      <td>345702</td>\n",
       "      <td>충청남도 청양군 학사길 55 (청양읍, 청양대학)</td>\n",
       "      <td>041-635-6600</td>\n",
       "      <td>041-635-6633</td>\n",
       "      <td>www.cyc.ac.kr</td>\n",
       "      <td>사회계열</td>\n",
       "      <td>사회과학</td>\n",
       "      <td>행정</td>\n",
       "      <td>기존</td>\n",
       "      <td>경찰행정과</td>\n",
       "    </tr>\n",
       "    <tr>\n",
       "      <th>2</th>\n",
       "      <td>2014</td>\n",
       "      <td>전문대학(3년제)</td>\n",
       "      <td>충남</td>\n",
       "      <td>충남도립청양대학</td>\n",
       "      <td>본교</td>\n",
       "      <td>기존</td>\n",
       "      <td>공립</td>\n",
       "      <td>345702</td>\n",
       "      <td>충청남도 청양군 학사길 55 (청양읍, 청양대학)</td>\n",
       "      <td>041-635-6600</td>\n",
       "      <td>041-635-6633</td>\n",
       "      <td>www.cyc.ac.kr</td>\n",
       "      <td>사회계열</td>\n",
       "      <td>사회과학</td>\n",
       "      <td>행정</td>\n",
       "      <td>기존</td>\n",
       "      <td>자치행정과</td>\n",
       "    </tr>\n",
       "    <tr>\n",
       "      <th>3</th>\n",
       "      <td>2014</td>\n",
       "      <td>전문대학(3년제)</td>\n",
       "      <td>충남</td>\n",
       "      <td>충남도립청양대학</td>\n",
       "      <td>본교</td>\n",
       "      <td>기존</td>\n",
       "      <td>공립</td>\n",
       "      <td>345702</td>\n",
       "      <td>충청남도 청양군 학사길 55 (청양읍, 청양대학)</td>\n",
       "      <td>041-635-6600</td>\n",
       "      <td>041-635-6633</td>\n",
       "      <td>www.cyc.ac.kr</td>\n",
       "      <td>사회계열</td>\n",
       "      <td>사회과학</td>\n",
       "      <td>행정</td>\n",
       "      <td>기존</td>\n",
       "      <td>자치행정학과</td>\n",
       "    </tr>\n",
       "    <tr>\n",
       "      <th>4</th>\n",
       "      <td>2014</td>\n",
       "      <td>전문대학(3년제)</td>\n",
       "      <td>충남</td>\n",
       "      <td>충남도립청양대학</td>\n",
       "      <td>본교</td>\n",
       "      <td>기존</td>\n",
       "      <td>공립</td>\n",
       "      <td>345702</td>\n",
       "      <td>충청남도 청양군 학사길 55 (청양읍, 청양대학)</td>\n",
       "      <td>041-635-6600</td>\n",
       "      <td>041-635-6633</td>\n",
       "      <td>www.cyc.ac.kr</td>\n",
       "      <td>공학계열</td>\n",
       "      <td>전기ㆍ전자</td>\n",
       "      <td>전자</td>\n",
       "      <td>기존</td>\n",
       "      <td>전기전자과</td>\n",
       "    </tr>\n",
       "  </tbody>\n",
       "</table>\n",
       "</div>"
      ],
      "text/plain": [
       "     연도         학제  시도       학교명 본분교 학교상태  설립    우편번호  \\\n",
       "0  2014  전문대학(3년제)  충남  충남도립청양대학  본교   기존  공립  345702   \n",
       "1  2014  전문대학(3년제)  충남  충남도립청양대학  본교   기존  공립  345702   \n",
       "2  2014  전문대학(3년제)  충남  충남도립청양대학  본교   기존  공립  345702   \n",
       "3  2014  전문대학(3년제)  충남  충남도립청양대학  본교   기존  공립  345702   \n",
       "4  2014  전문대학(3년제)  충남  충남도립청양대학  본교   기존  공립  345702   \n",
       "\n",
       "                            주소                  전화번호                  팩스번호  \\\n",
       "0  충청남도 청양군 학사길 55 (청양읍, 청양대학)  041-635-6600          041-635-6633           \n",
       "1  충청남도 청양군 학사길 55 (청양읍, 청양대학)  041-635-6600          041-635-6633           \n",
       "2  충청남도 청양군 학사길 55 (청양읍, 청양대학)  041-635-6600          041-635-6633           \n",
       "3  충청남도 청양군 학사길 55 (청양읍, 청양대학)  041-635-6600          041-635-6633           \n",
       "4  충청남도 청양군 학사길 55 (청양읍, 청양대학)  041-635-6600          041-635-6633           \n",
       "\n",
       "            홈페이지 학과 계열 Unnamed: 13 Unnamed: 14 학과상태     학과명  \n",
       "0  www.cyc.ac.kr  사회계열       경영ㆍ경제       경영ㆍ경제   기존   토지행정과  \n",
       "1  www.cyc.ac.kr  사회계열        사회과학          행정   기존   경찰행정과  \n",
       "2  www.cyc.ac.kr  사회계열        사회과학          행정   기존   자치행정과  \n",
       "3  www.cyc.ac.kr  사회계열        사회과학          행정   기존  자치행정학과  \n",
       "4  www.cyc.ac.kr  공학계열       전기ㆍ전자          전자   기존   전기전자과  "
      ]
     },
     "execution_count": 3,
     "metadata": {},
     "output_type": "execute_result"
    }
   ],
   "source": [
    "df.head()"
   ]
  },
  {
   "cell_type": "code",
   "execution_count": 4,
   "metadata": {},
   "outputs": [
    {
     "data": {
      "text/plain": [
       "(20017, 17)"
      ]
     },
     "execution_count": 4,
     "metadata": {},
     "output_type": "execute_result"
    }
   ],
   "source": [
    "df.shape"
   ]
  },
  {
   "cell_type": "code",
   "execution_count": 5,
   "metadata": {},
   "outputs": [
    {
     "data": {
      "text/plain": [
       "1592"
      ]
     },
     "execution_count": 5,
     "metadata": {},
     "output_type": "execute_result"
    }
   ],
   "source": [
    "# unique_univ 대학교 수?\n",
    "unique_univs = list(set(df['학교명']))\n",
    "len(unique_univs)"
   ]
  },
  {
   "cell_type": "code",
   "execution_count": 6,
   "metadata": {},
   "outputs": [
    {
     "name": "stdout",
     "output_type": "stream",
     "text": [
      "홍익대학교 세종캠퍼스 산업대학원\n"
     ]
    },
    {
     "data": {
      "text/plain": [
       "19222    광고홍보커뮤니케이션전공\n",
       "19223          건축설계전공\n",
       "19224     커뮤니케이션디자인전공\n",
       "19225        게임프로듀싱전공\n",
       "19226            색채전공\n",
       "Name: 학과명, dtype: object"
      ]
     },
     "execution_count": 6,
     "metadata": {},
     "output_type": "execute_result"
    }
   ],
   "source": [
    "# boolean Mask를 이용하여 필터링 하는 법\n",
    "is_univ = df['학교명'] == unique_univs[1]\n",
    "print(unique_univs[1])\n",
    "df[is_univ]['학과명']"
   ]
  },
  {
   "cell_type": "markdown",
   "metadata": {},
   "source": [
    "#### 대학교/ 대학교별 엑셀"
   ]
  },
  {
   "cell_type": "code",
   "execution_count": 7,
   "metadata": {
    "collapsed": true
   },
   "outputs": [],
   "source": [
    "# 대학교/ 대학교별 엑셀\n",
    "if '대학교' in os.listdir():\n",
    "    shutil.rmtree('대학교')\n",
    "os.makedirs('대학교')\n",
    "\n",
    "unique_univs = list(set(df['학교명']))\n",
    "for univ_name in unique_univs:\n",
    "    is_univ = df['학교명'] == univ_name\n",
    "    univ_df = df[is_univ]\n",
    "    univ_df.to_excel('./대학교/' + univ_name + '.xlsx')"
   ]
  },
  {
   "cell_type": "code",
   "execution_count": 8,
   "metadata": {
    "collapsed": true
   },
   "outputs": [],
   "source": [
    "# 더 효율적으로 해보자\n",
    "# list(set(df['학교명'])) 부분을 refactoring 하자!\n",
    "# boolean mask를 이용한 필터링을 하지말고 groupby를 활용하자.\n",
    "import os, sys\n",
    "if '대학교' in os.listdir():\n",
    "    shutil.rmtree('대학교')\n",
    "os.makedirs('대학교')\n",
    "\n",
    "for univ_name in df['학교명'].unique():\n",
    "    univ_df = df.groupby('학교명').get_group(univ_name)\n",
    "    univ_df.to_excel('./대학교/' + univ_name + '.xlsx')"
   ]
  },
  {
   "cell_type": "markdown",
   "metadata": {},
   "source": [
    "#### 성균관대학교 경영대학원 같은 case가 존재하므로 위의 case 들도 고려해야한다. 그래서 다음과 같은 코드를 사용\n",
    " "
   ]
  },
  {
   "cell_type": "code",
   "execution_count": 9,
   "metadata": {},
   "outputs": [
    {
     "data": {
      "text/plain": [
       "1592"
      ]
     },
     "execution_count": 9,
     "metadata": {},
     "output_type": "execute_result"
    }
   ],
   "source": [
    "univ_names = df['학교명'].unique()\n",
    "len(univ_names)"
   ]
  },
  {
   "cell_type": "code",
   "execution_count": 10,
   "metadata": {
    "collapsed": true
   },
   "outputs": [],
   "source": [
    "univ_total_text = ' '.join(univ_names)"
   ]
  },
  {
   "cell_type": "code",
   "execution_count": 11,
   "metadata": {
    "collapsed": true
   },
   "outputs": [],
   "source": [
    "univ_pattern = re.compile('\\w+대학교')\n",
    "real_univ_names = list(set(univ_pattern.findall(univ_total_text)))"
   ]
  },
  {
   "cell_type": "code",
   "execution_count": 12,
   "metadata": {
    "collapsed": true
   },
   "outputs": [],
   "source": [
    "if '대학교' in os.listdir():\n",
    "    shutil.rmtree('대학교')\n",
    "os.makedirs('대학교')\n",
    "\n",
    "for univ_name in real_univ_names:\n",
    "    is_univ = df['학교명'].str.startswith(univ_name)\n",
    "    univ_df = df[is_univ]\n",
    "    univ_df.to_excel('./대학교/' + univ_name + '.xlsx')    "
   ]
  },
  {
   "cell_type": "code",
   "execution_count": 13,
   "metadata": {},
   "outputs": [
    {
     "data": {
      "text/plain": [
       "384"
      ]
     },
     "execution_count": 13,
     "metadata": {},
     "output_type": "execute_result"
    }
   ],
   "source": [
    "len(os.listdir('./대학교/'))"
   ]
  },
  {
   "cell_type": "markdown",
   "metadata": {},
   "source": [
    "### Example 2. 대학교 폴더안에 지역 별 폴더로 나누고, 해당 폴더안에 지역별 대학교 excel sheet 저장"
   ]
  },
  {
   "cell_type": "code",
   "execution_count": 14,
   "metadata": {
    "collapsed": true
   },
   "outputs": [],
   "source": [
    "# os.path.join을 이용하자.\n",
    "if '대학교' in os.listdir():\n",
    "    shutil.rmtree('대학교')\n",
    "os.makedirs('대학교')\n",
    "\n",
    "city_groups = df.groupby('시도')\n",
    "for city_name in df['시도'].unique():\n",
    "    city_df = city_groups.get_group(city_name)\n",
    "    \n",
    "    if not city_name in os.listdir('대학교'):\n",
    "        os.makedirs(os.path.join('대학교', city_name))\n",
    "        \n",
    "    univ_in_city_groups = city_df.groupby('학교명')\n",
    "    \n",
    "    for univ_name in city_df['학교명'].unique():\n",
    "        univ_in_city_df = univ_in_city_groups.get_group(univ_name)\n",
    "        univ_in_city_df.to_excel(os.path.join('대학교', city_name, univ_name + '.xlsx'))"
   ]
  }
 ],
 "metadata": {
  "kernelspec": {
   "display_name": "Python 3",
   "language": "python",
   "name": "python3"
  },
  "language_info": {
   "codemirror_mode": {
    "name": "ipython",
    "version": 3
   },
   "file_extension": ".py",
   "mimetype": "text/x-python",
   "name": "python",
   "nbconvert_exporter": "python",
   "pygments_lexer": "ipython3",
   "version": "3.6.2"
  },
  "varInspector": {
   "cols": {
    "lenName": 16,
    "lenType": 16,
    "lenVar": 40
   },
   "kernels_config": {
    "python": {
     "delete_cmd_postfix": "",
     "delete_cmd_prefix": "del ",
     "library": "var_list.py",
     "varRefreshCmd": "print(var_dic_list())"
    },
    "r": {
     "delete_cmd_postfix": ") ",
     "delete_cmd_prefix": "rm(",
     "library": "var_list.r",
     "varRefreshCmd": "cat(var_dic_list()) "
    }
   },
   "types_to_exclude": [
    "module",
    "function",
    "builtin_function_or_method",
    "instance",
    "_Feature"
   ],
   "window_display": false
  }
 },
 "nbformat": 4,
 "nbformat_minor": 2
}
