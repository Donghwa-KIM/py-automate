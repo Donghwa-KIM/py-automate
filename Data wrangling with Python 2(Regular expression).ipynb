{
 "cells": [
  {
   "cell_type": "markdown",
   "metadata": {},
   "source": [
    "# 정규표현식 (Regular Expression, regex)\n",
    "_본 자료는 안수찬 강사님의 파이썬을 활용한 업무자동화 Camp (fast campus)의 강의자료를 기반으로 만들어졌습니다._  \n",
    "만든이 : 김보섭  "
   ]
  },
  {
   "cell_type": "markdown",
   "metadata": {},
   "source": [
    "* 정규표현식 (Regular Expression, regex)\n",
    "    - 특정 텍스트 (구문) 패턴을 찾는것 \n",
    "    - 더 알고 싶다면 다음의 링크를 참고 : https://wikidocs.net/1669 (점프 투 파이썬, 정규표현식 chapter)"
   ]
  },
  {
   "cell_type": "markdown",
   "metadata": {},
   "source": [
    "### Basic"
   ]
  },
  {
   "cell_type": "code",
   "execution_count": 1,
   "metadata": {
    "collapsed": true
   },
   "outputs": [],
   "source": [
    "text = '''저는 4형제가 있습니다.\\\n",
    " 안수찬, 안성찬, 안서찬, 안순찬 4명의 형제가 사이좋게 지내고 있습니다. 첫째는 안수찬입니다.'''"
   ]
  },
  {
   "cell_type": "code",
   "execution_count": 2,
   "metadata": {},
   "outputs": [
    {
     "name": "stdout",
     "output_type": "stream",
     "text": [
      "저는 4형제가 있습니다. 안수찬, 안성찬, 안서찬, 안순찬 4명의 형제가 사이좋게 지내고 있습니다. 첫째는 안수찬입니다.\n"
     ]
    }
   ],
   "source": [
    "print(text)"
   ]
  },
  {
   "cell_type": "code",
   "execution_count": 3,
   "metadata": {},
   "outputs": [
    {
     "data": {
      "text/plain": [
       "'안\\\\w찬'"
      ]
     },
     "execution_count": 3,
     "metadata": {},
     "output_type": "execute_result"
    }
   ],
   "source": [
    "# 안*찬\n",
    "# ['안수찬', '안성찬', '안서찬', '안순찬']\n",
    "'안\\w찬' # \\w => word (character 1개)\n",
    "         # \\d => 숫자 1개\n",
    "         # \\s => whitespace"
   ]
  },
  {
   "cell_type": "code",
   "execution_count": 4,
   "metadata": {
    "collapsed": true
   },
   "outputs": [],
   "source": [
    "import re\n",
    "brother_pattern = re.compile('안\\w찬')"
   ]
  },
  {
   "cell_type": "code",
   "execution_count": 5,
   "metadata": {},
   "outputs": [
    {
     "data": {
      "text/plain": [
       "re.compile(r'안\\w찬', re.UNICODE)"
      ]
     },
     "execution_count": 5,
     "metadata": {},
     "output_type": "execute_result"
    }
   ],
   "source": [
    "brother_pattern"
   ]
  },
  {
   "cell_type": "code",
   "execution_count": 6,
   "metadata": {},
   "outputs": [
    {
     "data": {
      "text/plain": [
       "['안수찬', '안성찬', '안서찬', '안순찬', '안수찬']"
      ]
     },
     "execution_count": 6,
     "metadata": {},
     "output_type": "execute_result"
    }
   ],
   "source": [
    "brothers = brother_pattern.findall(text)\n",
    "brothers"
   ]
  },
  {
   "cell_type": "code",
   "execution_count": 7,
   "metadata": {},
   "outputs": [
    {
     "data": {
      "text/plain": [
       "['안성찬', '안순찬', '안수찬', '안서찬']"
      ]
     },
     "execution_count": 7,
     "metadata": {},
     "output_type": "execute_result"
    }
   ],
   "source": [
    "list(set(brothers))"
   ]
  },
  {
   "cell_type": "code",
   "execution_count": 8,
   "metadata": {},
   "outputs": [
    {
     "data": {
      "text/plain": [
       "['123', '100']"
      ]
     },
     "execution_count": 8,
     "metadata": {},
     "output_type": "execute_result"
    }
   ],
   "source": [
    "# 3자리숫자 뽑아보기\n",
    "text = '123 에서 100 을 빼면 23 이다.'\n",
    "numbers_pattern = re.compile('\\d\\d\\d')\n",
    "numbers_pattern.findall(text)"
   ]
  },
  {
   "cell_type": "code",
   "execution_count": 9,
   "metadata": {},
   "outputs": [
    {
     "data": {
      "text/plain": [
       "['123', '100']"
      ]
     },
     "execution_count": 9,
     "metadata": {},
     "output_type": "execute_result"
    }
   ],
   "source": [
    "numbers_pattern = re.compile('\\d{3}') # 기본적으로 1개를 의미하지만 {n} (n개의 표현을)\n",
    "numbers_pattern.findall(text)"
   ]
  },
  {
   "cell_type": "code",
   "execution_count": 10,
   "metadata": {},
   "outputs": [
    {
     "data": {
      "text/plain": [
       "['123', '100', '23']"
      ]
     },
     "execution_count": 10,
     "metadata": {},
     "output_type": "execute_result"
    }
   ],
   "source": [
    "# 2자리, 3자리숫자 뽑기\n",
    "numbers_pattern = re.compile('\\d{2,3}') #{m, n } -> n ~ m\n",
    "numbers_pattern.findall(text)"
   ]
  },
  {
   "cell_type": "markdown",
   "metadata": {},
   "source": [
    "### Special character \n",
    "* \"*\" : 0~n 개\n",
    "* \"+\" : 1~n 개\n",
    "* \"?\" : 0, 1개"
   ]
  },
  {
   "cell_type": "code",
   "execution_count": 11,
   "metadata": {
    "collapsed": true
   },
   "outputs": [],
   "source": [
    "# abc, abbc, abbbc, abbbbc, ac\n",
    "text = 'this is abc family : abc, dbe, abbc, abbbc, fdsa, abbbbc, ac'"
   ]
  },
  {
   "cell_type": "code",
   "execution_count": 12,
   "metadata": {},
   "outputs": [
    {
     "data": {
      "text/plain": [
       "['abc', 'abc', 'abbc', 'abbbc', 'abbbbc', 'ac']"
      ]
     },
     "execution_count": 12,
     "metadata": {},
     "output_type": "execute_result"
    }
   ],
   "source": [
    "abc_pattern = re.compile('ab*c')\n",
    "abc_pattern.findall(text)"
   ]
  },
  {
   "cell_type": "code",
   "execution_count": 13,
   "metadata": {},
   "outputs": [
    {
     "data": {
      "text/plain": [
       "['happly', 'butterfly', 'soundly']"
      ]
     },
     "execution_count": 13,
     "metadata": {},
     "output_type": "execute_result"
    }
   ],
   "source": [
    "# ly로 끝나는 모든 텍스트를 뽑는 정규표현식\n",
    "# butterfly, dragonfly, soundly, happly...\n",
    "text = 'I am happly butterfly, on soundly something'\n",
    "ly_pattern = re.compile('\\w+ly')\n",
    "ly_pattern.findall(text)"
   ]
  },
  {
   "cell_type": "code",
   "execution_count": 14,
   "metadata": {},
   "outputs": [
    {
     "data": {
      "text/plain": [
       "['happly', 'butterfly', 'soundly']"
      ]
     },
     "execution_count": 14,
     "metadata": {},
     "output_type": "execute_result"
    }
   ],
   "source": [
    "re.findall('\\w+ly', text)"
   ]
  },
  {
   "cell_type": "markdown",
   "metadata": {},
   "source": [
    "### Example : 전화번호 추출 "
   ]
  },
  {
   "cell_type": "code",
   "execution_count": 15,
   "metadata": {
    "collapsed": true
   },
   "outputs": [],
   "source": [
    "# **-****-****\n",
    "# ***-****\n",
    "# ***-****-****"
   ]
  },
  {
   "cell_type": "code",
   "execution_count": 16,
   "metadata": {},
   "outputs": [],
   "source": [
    "with open('./phonenumbers.txt', 'r', encoding = 'utf8') as io:\n",
    "    data = io.read()"
   ]
  },
  {
   "cell_type": "code",
   "execution_count": 17,
   "metadata": {},
   "outputs": [
    {
     "data": {
      "text/plain": [
       "'01022205736\\n한글\\n010-2220-5736\\n이건 뽑으면 안되는 값\\n02-2220-5736\\n12345\\n02.2220.5736\\n01434239'"
      ]
     },
     "execution_count": 17,
     "metadata": {},
     "output_type": "execute_result"
    }
   ],
   "source": [
    "data"
   ]
  },
  {
   "cell_type": "code",
   "execution_count": 18,
   "metadata": {
    "collapsed": true
   },
   "outputs": [],
   "source": [
    "io = open('./phonenumbers.txt', 'r')\n"
   ]
  },
  {
   "cell_type": "code",
   "execution_count": 19,
   "metadata": {
    "collapsed": true
   },
   "outputs": [],
   "source": [
    "phonenumber_pattern = '\\d{2,3}[-.]?\\d{4}[-.]?\\d{4}'\n",
    "phonenumber_pattern = re.compile(phonenumber_pattern)"
   ]
  },
  {
   "cell_type": "code",
   "execution_count": 20,
   "metadata": {},
   "outputs": [
    {
     "name": "stdout",
     "output_type": "stream",
     "text": [
      "re.compile('\\\\d{2,3}[-.]?\\\\d{4}[-.]?\\\\d{4}')\n"
     ]
    },
    {
     "data": {
      "text/plain": [
       "['01022205736', '010-2220-5736', '02-2220-5736', '02.2220.5736']"
      ]
     },
     "execution_count": 20,
     "metadata": {},
     "output_type": "execute_result"
    }
   ],
   "source": [
    "print(phonenumber_pattern)\n",
    "result = phonenumber_pattern.findall(data) # list형태의 output\n",
    "result"
   ]
  },
  {
   "cell_type": "code",
   "execution_count": 21,
   "metadata": {},
   "outputs": [
    {
     "data": {
      "text/plain": [
       "['01022205736', '01022205736', '0222205736', '0222205736']"
      ]
     },
     "execution_count": 21,
     "metadata": {},
     "output_type": "execute_result"
    }
   ],
   "source": [
    "# 여기에서 불필요한 값들은 replace\n",
    "list(map(lambda x : re.sub('[-.]', '', x), result))"
   ]
  },
  {
   "cell_type": "markdown",
   "metadata": {},
   "source": [
    "###  Grouping\n",
    "ABC라는 문자열이 계속해서 반복되는지 조사하는 정규식을 작성하고 싶다고 하자. 어떻게 해야 할까?"
   ]
  },
  {
   "cell_type": "markdown",
   "metadata": {},
   "source": [
    "### Example : 문자열의 특정부분만 치환하기\n",
    "예제상황은 이벤트 당첨자들의 번호를 공개 할 수없는 상황이라 뒤의 네자리만 공개하는 상황을 가정한 예제, 간략하게는 아래와 같다.  \n",
    " * 010-2220-5736 -> 010-****-5736\n",
    " * 010.2220.5736 -> 010-****-5736\n",
    " * 01022205736 -> 010-****-5736"
   ]
  },
  {
   "cell_type": "code",
   "execution_count": 22,
   "metadata": {
    "collapsed": true
   },
   "outputs": [],
   "source": [
    "# example1 : \n",
    "phonenumbers = '''\n",
    "12숫자\n",
    "123숫자\n",
    "234숫자\n",
    "김보섭\n",
    "'''\n",
    "\n",
    "phonenumber_pattern = '(?P<first>\\d{2,3})(?P<second>숫자)' # 특정 정규표현식을 grouping하고 이름을 할당\n",
    "phonenumber_pattern = re.compile(phonenumber_pattern)"
   ]
  },
  {
   "cell_type": "code",
   "execution_count": 23,
   "metadata": {},
   "outputs": [
    {
     "data": {
      "text/plain": [
       "[('12', '숫자'), ('123', '숫자'), ('234', '숫자')]"
      ]
     },
     "execution_count": 23,
     "metadata": {},
     "output_type": "execute_result"
    }
   ],
   "source": [
    "phonenumber_pattern.findall(phonenumbers)"
   ]
  },
  {
   "cell_type": "code",
   "execution_count": 24,
   "metadata": {},
   "outputs": [
    {
     "data": {
      "text/plain": [
       "[('010', '-', '2220', '-', '5736'),\n",
       " ('010', '', '2220', '', '5736'),\n",
       " ('010', '.', '2220', '.', '5736')]"
      ]
     },
     "execution_count": 24,
     "metadata": {},
     "output_type": "execute_result"
    }
   ],
   "source": [
    "# example2\n",
    "# 정규표현식에서 '()' group을 만드나 group의 이름을 할당하지않는 예제\n",
    "phonenumbers = '''\n",
    "010-2220-5736\n",
    "01022205736\n",
    "010.2220.5736\n",
    "'''\n",
    "\n",
    "phonenumber_pattern = '(\\d{2,3})([.-]?)(\\d{3,4})([.-]?)(\\d{4})'\n",
    "phonenumber_pattern = re.compile(phonenumber_pattern)\n",
    "phonenumber_pattern.findall(phonenumbers)"
   ]
  },
  {
   "cell_type": "code",
   "execution_count": 25,
   "metadata": {},
   "outputs": [
    {
     "data": {
      "text/plain": [
       "[('010', '-', '2220', '-', '5736'),\n",
       " ('010', '', '2220', '', '5736'),\n",
       " ('010', '.', '2220', '.', '5736')]"
      ]
     },
     "execution_count": 25,
     "metadata": {},
     "output_type": "execute_result"
    }
   ],
   "source": [
    "# example3\n",
    "# 정규표현식에서 '()' group의 이름을 할당하는 예제\n",
    "phonenumbers = '''\n",
    "010-2220-5736\n",
    "01022205736\n",
    "010.2220.5736\n",
    "'''\n",
    "\n",
    "# 아래의 코드에서 '()' grouping 안에 ?P<문자열>은 group의 이름을 주는 것으로 줘도되고 안줘도된다.\n",
    "# group에 이름을 할당함으로써 얻는 이점은 문자열의 group에 이름으로 접근하여 어떤 처리를 한번에 할 수 있다는 것\n",
    "phonenumber_pattern = '(?P<first>\\d{2,3})(?P<second>[.-]?)(?P<third>\\d{3,4})(?P<fourth>[.-]?)(?P<fifth>\\d{4})'\n",
    "phonenumber_pattern = re.compile(phonenumber_pattern)\n",
    "phonenumber_pattern.findall(phonenumbers)"
   ]
  },
  {
   "cell_type": "code",
   "execution_count": 26,
   "metadata": {},
   "outputs": [
    {
     "data": {
      "text/plain": [
       "'\\n010-****-5736\\n010-****-5736\\n010-****-5736\\n'"
      ]
     },
     "execution_count": 26,
     "metadata": {},
     "output_type": "execute_result"
    }
   ],
   "source": [
    "# \\g<first> : 처음 compile 할 때, (?P<first>~~)로 이름을 준 정규표현식의 group과 matching\n",
    "# \\g<second> : 처음 compile 할 때, (?P<second>~~)로 이름을 준 정규표현식의 group과 matching\n",
    "phonenumber_pattern.sub('\\g<first>-****-\\g<fifth>', phonenumbers)"
   ]
  },
  {
   "cell_type": "code",
   "execution_count": 27,
   "metadata": {},
   "outputs": [
    {
     "name": "stdout",
     "output_type": "stream",
     "text": [
      "\n",
      "010-****-5736\n",
      "010-****-5736\n",
      "010-****-5736\n",
      "\n"
     ]
    }
   ],
   "source": [
    "print(phonenumber_pattern.sub('\\g<first>-****-\\g<fifth>', phonenumbers))"
   ]
  },
  {
   "cell_type": "code",
   "execution_count": 28,
   "metadata": {
    "collapsed": true
   },
   "outputs": [],
   "source": [
    "# example4\n",
    "text = '''\n",
    "안수찬 900223-1234567\n",
    "안성찬 910223-1234789\n",
    "안서찬 910224-1234098\n",
    "'''"
   ]
  },
  {
   "cell_type": "code",
   "execution_count": 29,
   "metadata": {
    "collapsed": true
   },
   "outputs": [],
   "source": [
    "pattern = re.compile('(?P<name>\\w+) (?P<birth>\\d{6})-(?P<secret>\\d{7})')"
   ]
  },
  {
   "cell_type": "code",
   "execution_count": 30,
   "metadata": {},
   "outputs": [
    {
     "data": {
      "text/plain": [
       "'\\n안수찬(900223-*******)\\n안성찬(910223-*******)\\n안서찬(910224-*******)\\n'"
      ]
     },
     "execution_count": 30,
     "metadata": {},
     "output_type": "execute_result"
    }
   ],
   "source": [
    "pattern.sub('\\g<name>(\\g<birth>-*******)', text)"
   ]
  },
  {
   "cell_type": "code",
   "execution_count": 31,
   "metadata": {},
   "outputs": [
    {
     "name": "stdout",
     "output_type": "stream",
     "text": [
      "\n",
      "안수찬(900223-*******)\n",
      "안성찬(910223-*******)\n",
      "안서찬(910224-*******)\n",
      "\n"
     ]
    }
   ],
   "source": [
    "print(pattern.sub('\\g<name>(\\g<birth>-*******)', text))"
   ]
  }
 ],
 "metadata": {
  "kernelspec": {
   "display_name": "Python 3",
   "language": "python",
   "name": "python3"
  },
  "language_info": {
   "codemirror_mode": {
    "name": "ipython",
    "version": 3
   },
   "file_extension": ".py",
   "mimetype": "text/x-python",
   "name": "python",
   "nbconvert_exporter": "python",
   "pygments_lexer": "ipython3",
   "version": "3.6.1"
  }
 },
 "nbformat": 4,
 "nbformat_minor": 2
}
