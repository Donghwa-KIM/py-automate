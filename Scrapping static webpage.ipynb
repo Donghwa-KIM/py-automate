{
 "cells": [
  {
   "cell_type": "markdown",
   "metadata": {},
   "source": [
    "# 정적인 웹사이트 크롤링\n",
    "_본 자료는 안수찬 강사님의 파이썬을 활용한 업무자동화 Camp (fast campus)의 강의자료를 기반으로 만들어졌습니다._  \n",
    "만든이 : 김보섭  \n",
    "\n",
    "## Preliminary\n",
    "* 웹 사이트 (웹 클라이언트) : HTML, CSS, Javascript\n",
    "* HTML : 사이트의 구조\n",
    "* CSS : 사이트의 스타일\n",
    "* Javascript : 사이트의 동적인 기능들 (애니메이션, 데이터를 서버에서 불러오는 기능)\n",
    "* 데이터를 우리에게 뿌려주는 주체\n",
    "    * 웹 서버 => HTML (Server rendering)\n",
    "    * 웹 클라이언트 (Javascript) => HTML (Client Rendering)\n",
    "\n",
    "## Summary\n",
    "* 정적인 웹사이트\n",
    "    * HTML 파일을 다운로드 (Crawling, Scraping)\n",
    "    * 우리가 원하는 데이터의 위치를 찾아서 추출! (Parsing)"
   ]
  },
  {
   "cell_type": "markdown",
   "metadata": {},
   "source": [
    "### 네이버 실시간 검색어 데이터\n",
    "'realrank'라는 id를 가진 ol이라고 하는 태그 내에 10개의 li 태그가 있고, 그 li 태그안에 있는 텍스트를 뽑아내자.  \n",
    "\n",
    "* CSS Selector (CSS 선택자)\n",
    "    * ol#realrank li\n",
    "    * id = '#', class ='.'"
   ]
  },
  {
   "cell_type": "markdown",
   "metadata": {},
   "source": [
    "#### GET으로 요청 "
   ]
  },
  {
   "cell_type": "code",
   "execution_count": 1,
   "metadata": {
    "collapsed": false
   },
   "outputs": [
    {
     "data": {
      "text/plain": [
       "str"
      ]
     },
     "execution_count": 1,
     "metadata": {},
     "output_type": "execute_result"
    }
   ],
   "source": [
    "# 1. html\n",
    "import requests\n",
    "response = requests.get('http://www.naver.com/')\n",
    "type(response.text)\n",
    "# response.text (string)"
   ]
  },
  {
   "cell_type": "markdown",
   "metadata": {},
   "source": [
    "#### BeautifulSoup으로 parsing"
   ]
  },
  {
   "cell_type": "code",
   "execution_count": 2,
   "metadata": {
    "collapsed": false
   },
   "outputs": [
    {
     "data": {
      "text/plain": [
       "bs4.BeautifulSoup"
      ]
     },
     "execution_count": 2,
     "metadata": {},
     "output_type": "execute_result"
    }
   ],
   "source": [
    "#### 2. parsing\n",
    "from bs4 import BeautifulSoup\n",
    "bs = BeautifulSoup(response.text, 'html.parser')\n",
    "type(bs)\n",
    "# bs.. 우리가 쉽게 파싱할 수 있도록 HTML을 구조화해둔 객체"
   ]
  },
  {
   "cell_type": "markdown",
   "metadata": {},
   "source": [
    "#### 실시간 검색어 키워드"
   ]
  },
  {
   "cell_type": "code",
   "execution_count": 3,
   "metadata": {
    "collapsed": false
   },
   "outputs": [],
   "source": [
    "elements = bs.select('ol#realrank li')"
   ]
  },
  {
   "cell_type": "code",
   "execution_count": 4,
   "metadata": {
    "collapsed": false
   },
   "outputs": [],
   "source": [
    "element = elements[0]"
   ]
  },
  {
   "cell_type": "code",
   "execution_count": 5,
   "metadata": {
    "collapsed": false
   },
   "outputs": [
    {
     "data": {
      "text/plain": [
       "bs4.element.Tag"
      ]
     },
     "execution_count": 5,
     "metadata": {},
     "output_type": "execute_result"
    }
   ],
   "source": [
    "type(element)"
   ]
  },
  {
   "cell_type": "code",
   "execution_count": 6,
   "metadata": {
    "collapsed": false
   },
   "outputs": [
    {
     "data": {
      "text/plain": [
       "<li class=\"up\" value=\"1\"><a href=\"http://search.naver.com/search.naver?where=nexearch&amp;query=%EA%B3%B5%EA%B0%81+%EA%B8%B0%EB%8F%99%EB%8C%80&amp;sm=top_lve&amp;ie=utf8\" title=\"\"><span class=\"ell\">공각 기동대</span><span class=\"tx\">상승</span><span class=\"ic\"></span><span class=\"rk\">93</span></a></li>"
      ]
     },
     "execution_count": 6,
     "metadata": {},
     "output_type": "execute_result"
    }
   ],
   "source": [
    "element"
   ]
  },
  {
   "cell_type": "code",
   "execution_count": 7,
   "metadata": {
    "collapsed": false
   },
   "outputs": [
    {
     "data": {
      "text/plain": [
       "'공각 기동대'"
      ]
     },
     "execution_count": 7,
     "metadata": {},
     "output_type": "execute_result"
    }
   ],
   "source": [
    "element.select_one('span.ell').text"
   ]
  },
  {
   "cell_type": "code",
   "execution_count": 8,
   "metadata": {
    "collapsed": false
   },
   "outputs": [
    {
     "name": "stdout",
     "output_type": "stream",
     "text": [
      "<span class=\"ell\">공각 기동대</span> [<span class=\"ell\">공각 기동대</span>]\n"
     ]
    }
   ],
   "source": [
    "# 주의할점 select_one으로 찾으면 그 자체로 bs4.element.Tag 이지만\n",
    "# select는 해당 CSS에 걸리는 여러 개를 찾는 것이므로 결과물이 bs4.element.Tag가 List의 하나하나의 값으로 들어가있음\n",
    "print(element.select_one('span.ell'), element.select('span.ell'))"
   ]
  },
  {
   "cell_type": "markdown",
   "metadata": {},
   "source": [
    "#### 실시간 검색어 링크"
   ]
  },
  {
   "cell_type": "code",
   "execution_count": 9,
   "metadata": {
    "collapsed": false
   },
   "outputs": [
    {
     "data": {
      "text/plain": [
       "<li class=\"up\" value=\"1\"><a href=\"http://search.naver.com/search.naver?where=nexearch&amp;query=%EA%B3%B5%EA%B0%81+%EA%B8%B0%EB%8F%99%EB%8C%80&amp;sm=top_lve&amp;ie=utf8\" title=\"\"><span class=\"ell\">공각 기동대</span><span class=\"tx\">상승</span><span class=\"ic\"></span><span class=\"rk\">93</span></a></li>"
      ]
     },
     "execution_count": 9,
     "metadata": {},
     "output_type": "execute_result"
    }
   ],
   "source": [
    "element"
   ]
  },
  {
   "cell_type": "code",
   "execution_count": 10,
   "metadata": {
    "collapsed": false
   },
   "outputs": [
    {
     "data": {
      "text/plain": [
       "<a href=\"http://search.naver.com/search.naver?where=nexearch&amp;query=%EA%B3%B5%EA%B0%81+%EA%B8%B0%EB%8F%99%EB%8C%80&amp;sm=top_lve&amp;ie=utf8\" title=\"\"><span class=\"ell\">공각 기동대</span><span class=\"tx\">상승</span><span class=\"ic\"></span><span class=\"rk\">93</span></a>"
      ]
     },
     "execution_count": 10,
     "metadata": {},
     "output_type": "execute_result"
    }
   ],
   "source": [
    "element.select_one('a')"
   ]
  },
  {
   "cell_type": "code",
   "execution_count": 11,
   "metadata": {
    "collapsed": false
   },
   "outputs": [
    {
     "name": "stdout",
     "output_type": "stream",
     "text": [
      "{'href': 'http://search.naver.com/search.naver?where=nexearch&query=%EA%B3%B5%EA%B0%81+%EA%B8%B0%EB%8F%99%EB%8C%80&sm=top_lve&ie=utf8', 'title': ''}\n",
      "<class 'dict'>\n"
     ]
    }
   ],
   "source": [
    "print(element.select_one('a').attrs)\n",
    "print(type(element.select_one('a').attrs)) # dictionary의 형태"
   ]
  },
  {
   "cell_type": "code",
   "execution_count": 12,
   "metadata": {
    "collapsed": false
   },
   "outputs": [
    {
     "data": {
      "text/plain": [
       "'http://search.naver.com/search.naver?where=nexearch&query=%EA%B3%B5%EA%B0%81+%EA%B8%B0%EB%8F%99%EB%8C%80&sm=top_lve&ie=utf8'"
      ]
     },
     "execution_count": 12,
     "metadata": {},
     "output_type": "execute_result"
    }
   ],
   "source": [
    "element.select_one('a').attrs.get('href')"
   ]
  },
  {
   "cell_type": "code",
   "execution_count": 13,
   "metadata": {
    "collapsed": false
   },
   "outputs": [
    {
     "name": "stdout",
     "output_type": "stream",
     "text": [
      "<a href=\"http://search.naver.com/search.naver?where=nexearch&amp;query=%EA%B3%B5%EA%B0%81+%EA%B8%B0%EB%8F%99%EB%8C%80&amp;sm=top_lve&amp;ie=utf8\" title=\"\"><span class=\"ell\">공각 기동대</span><span class=\"tx\">상승</span><span class=\"ic\"></span><span class=\"rk\">93</span></a>\n",
      "[<a href=\"http://search.naver.com/search.naver?where=nexearch&amp;query=%EA%B3%B5%EA%B0%81+%EA%B8%B0%EB%8F%99%EB%8C%80&amp;sm=top_lve&amp;ie=utf8\" title=\"\"><span class=\"ell\">공각 기동대</span><span class=\"tx\">상승</span><span class=\"ic\"></span><span class=\"rk\">93</span></a>]\n"
     ]
    }
   ],
   "source": [
    "# 주의할점 select_one으로 찾으면 그 자체로 bs4.element.Tag 이지만\n",
    "# select는 해당 CSS에 걸리는 여러 개를 찾는 것이므로 결과물이 bs4.element.Tag가 List의 하나하나의 값으로 들어가있음\n",
    "print(element.select_one('a'))\n",
    "print(element.select('a'))"
   ]
  },
  {
   "cell_type": "markdown",
   "metadata": {},
   "source": [
    "#### 실시간 검색어, 해당 검색어의 링크를 parsing"
   ]
  },
  {
   "cell_type": "code",
   "execution_count": 14,
   "metadata": {
    "collapsed": false
   },
   "outputs": [],
   "source": [
    "# List of dictionary의 형태로\n",
    "data = [{'keyword' : tmp.select_one('span.ell').text,\n",
    "  'address' : tmp.select_one('a').attrs.get('href')} for tmp in bs.select('ol#realrank li')]"
   ]
  },
  {
   "cell_type": "code",
   "execution_count": 15,
   "metadata": {
    "collapsed": false
   },
   "outputs": [
    {
     "name": "stdout",
     "output_type": "stream",
     "text": [
      "[{'keyword': '공각 기동대', 'address': 'http://search.naver.com/search.naver?where=nexearch&query=%EA%B3%B5%EA%B0%81+%EA%B8%B0%EB%8F%99%EB%8C%80&sm=top_lve&ie=utf8'}, {'keyword': '엄석대', 'address': 'http://search.naver.com/search.naver?where=nexearch&query=%EC%97%84%EC%84%9D%EB%8C%80&sm=top_lve&ie=utf8'}, {'keyword': '스칼렛요한슨', 'address': 'http://search.naver.com/search.naver?where=nexearch&query=%EC%8A%A4%EC%B9%BC%EB%A0%9B%EC%9A%94%ED%95%9C%EC%8A%A8&sm=top_lve&ie=utf8'}, {'keyword': '설민석', 'address': 'http://search.naver.com/search.naver?where=nexearch&query=%EC%84%A4%EB%AF%BC%EC%84%9D&sm=top_lve&ie=utf8'}]\n"
     ]
    }
   ],
   "source": [
    "print(data[0:4])"
   ]
  },
  {
   "cell_type": "code",
   "execution_count": 16,
   "metadata": {
    "collapsed": false
   },
   "outputs": [
    {
     "data": {
      "text/html": [
       "<div>\n",
       "<table border=\"1\" class=\"dataframe\">\n",
       "  <thead>\n",
       "    <tr style=\"text-align: right;\">\n",
       "      <th></th>\n",
       "      <th>address</th>\n",
       "      <th>keyword</th>\n",
       "    </tr>\n",
       "  </thead>\n",
       "  <tbody>\n",
       "    <tr>\n",
       "      <th>0</th>\n",
       "      <td>http://search.naver.com/search.naver?where=nex...</td>\n",
       "      <td>공각 기동대</td>\n",
       "    </tr>\n",
       "    <tr>\n",
       "      <th>1</th>\n",
       "      <td>http://search.naver.com/search.naver?where=nex...</td>\n",
       "      <td>엄석대</td>\n",
       "    </tr>\n",
       "    <tr>\n",
       "      <th>2</th>\n",
       "      <td>http://search.naver.com/search.naver?where=nex...</td>\n",
       "      <td>스칼렛요한슨</td>\n",
       "    </tr>\n",
       "    <tr>\n",
       "      <th>3</th>\n",
       "      <td>http://search.naver.com/search.naver?where=nex...</td>\n",
       "      <td>설민석</td>\n",
       "    </tr>\n",
       "    <tr>\n",
       "      <th>4</th>\n",
       "      <td>http://search.naver.com/search.naver?where=nex...</td>\n",
       "      <td>고등래퍼</td>\n",
       "    </tr>\n",
       "    <tr>\n",
       "      <th>5</th>\n",
       "      <td>http://search.naver.com/search.naver?where=nex...</td>\n",
       "      <td>인터파크티켓</td>\n",
       "    </tr>\n",
       "    <tr>\n",
       "      <th>6</th>\n",
       "      <td>http://search.naver.com/search.naver?where=nex...</td>\n",
       "      <td>영화순위</td>\n",
       "    </tr>\n",
       "    <tr>\n",
       "      <th>7</th>\n",
       "      <td>http://search.naver.com/search.naver?where=nex...</td>\n",
       "      <td>bgf리테일 채용</td>\n",
       "    </tr>\n",
       "    <tr>\n",
       "      <th>8</th>\n",
       "      <td>http://search.naver.com/search.naver?where=nex...</td>\n",
       "      <td>나혼자산다</td>\n",
       "    </tr>\n",
       "    <tr>\n",
       "      <th>9</th>\n",
       "      <td>http://search.naver.com/search.naver?where=nex...</td>\n",
       "      <td>양홍원</td>\n",
       "    </tr>\n",
       "    <tr>\n",
       "      <th>10</th>\n",
       "      <td>http://search.naver.com/search.naver?where=nex...</td>\n",
       "      <td>김어준의 파파이스</td>\n",
       "    </tr>\n",
       "    <tr>\n",
       "      <th>11</th>\n",
       "      <td>http://search.naver.com/search.naver?where=nex...</td>\n",
       "      <td>언니들의 슬램덩크 시즌2</td>\n",
       "    </tr>\n",
       "    <tr>\n",
       "      <th>12</th>\n",
       "      <td>http://search.naver.com/search.naver?where=nex...</td>\n",
       "      <td>미운우리새끼</td>\n",
       "    </tr>\n",
       "    <tr>\n",
       "      <th>13</th>\n",
       "      <td>http://search.naver.com/search.naver?where=nex...</td>\n",
       "      <td>트위치tv</td>\n",
       "    </tr>\n",
       "    <tr>\n",
       "      <th>14</th>\n",
       "      <td>http://search.naver.com/search.naver?where=nex...</td>\n",
       "      <td>미녀와 야수</td>\n",
       "    </tr>\n",
       "    <tr>\n",
       "      <th>15</th>\n",
       "      <td>http://search.naver.com/search.naver?where=nex...</td>\n",
       "      <td>엠넷</td>\n",
       "    </tr>\n",
       "    <tr>\n",
       "      <th>16</th>\n",
       "      <td>http://search.naver.com/search.naver?where=nex...</td>\n",
       "      <td>도봉순</td>\n",
       "    </tr>\n",
       "    <tr>\n",
       "      <th>17</th>\n",
       "      <td>http://search.naver.com/search.naver?where=nex...</td>\n",
       "      <td>영화</td>\n",
       "    </tr>\n",
       "    <tr>\n",
       "      <th>18</th>\n",
       "      <td>http://search.naver.com/search.naver?where=nex...</td>\n",
       "      <td>문재인</td>\n",
       "    </tr>\n",
       "    <tr>\n",
       "      <th>19</th>\n",
       "      <td>http://search.naver.com/search.naver?where=nex...</td>\n",
       "      <td>미세먼지</td>\n",
       "    </tr>\n",
       "  </tbody>\n",
       "</table>\n",
       "</div>"
      ],
      "text/plain": [
       "                                              address        keyword\n",
       "0   http://search.naver.com/search.naver?where=nex...         공각 기동대\n",
       "1   http://search.naver.com/search.naver?where=nex...            엄석대\n",
       "2   http://search.naver.com/search.naver?where=nex...         스칼렛요한슨\n",
       "3   http://search.naver.com/search.naver?where=nex...            설민석\n",
       "4   http://search.naver.com/search.naver?where=nex...           고등래퍼\n",
       "5   http://search.naver.com/search.naver?where=nex...         인터파크티켓\n",
       "6   http://search.naver.com/search.naver?where=nex...           영화순위\n",
       "7   http://search.naver.com/search.naver?where=nex...      bgf리테일 채용\n",
       "8   http://search.naver.com/search.naver?where=nex...          나혼자산다\n",
       "9   http://search.naver.com/search.naver?where=nex...            양홍원\n",
       "10  http://search.naver.com/search.naver?where=nex...      김어준의 파파이스\n",
       "11  http://search.naver.com/search.naver?where=nex...  언니들의 슬램덩크 시즌2\n",
       "12  http://search.naver.com/search.naver?where=nex...         미운우리새끼\n",
       "13  http://search.naver.com/search.naver?where=nex...          트위치tv\n",
       "14  http://search.naver.com/search.naver?where=nex...         미녀와 야수\n",
       "15  http://search.naver.com/search.naver?where=nex...             엠넷\n",
       "16  http://search.naver.com/search.naver?where=nex...            도봉순\n",
       "17  http://search.naver.com/search.naver?where=nex...             영화\n",
       "18  http://search.naver.com/search.naver?where=nex...            문재인\n",
       "19  http://search.naver.com/search.naver?where=nex...           미세먼지"
      ]
     },
     "execution_count": 16,
     "metadata": {},
     "output_type": "execute_result"
    }
   ],
   "source": [
    "import pandas as pd\n",
    "pd.DataFrame(data)"
   ]
  },
  {
   "cell_type": "markdown",
   "metadata": {},
   "source": [
    "### 네이버 블로그 포스트 가져오기"
   ]
  },
  {
   "cell_type": "code",
   "execution_count": 17,
   "metadata": {
    "collapsed": true
   },
   "outputs": [],
   "source": [
    "response = requests.get('https://search.naver.com/search.naver?where=post&sm=tab_pge&query=%ED%8C%8C%EC%9D%B4%EC%8D%AC&st=sim&date_option=0&date_from=&date_to=&dup_remove=1&post_blogurl=&post_blogurl_without=&srchby=all&nso=&ie=utf8&start=1')\n",
    "bs = BeautifulSoup(response.text, 'html.parser')"
   ]
  },
  {
   "cell_type": "code",
   "execution_count": 18,
   "metadata": {
    "collapsed": false
   },
   "outputs": [],
   "source": [
    "contents = bs.select('ul#elThumbnailResultArea li.sh_blog_top dt')"
   ]
  },
  {
   "cell_type": "markdown",
   "metadata": {},
   "source": [
    "#### 블로그 포스트 제목"
   ]
  },
  {
   "cell_type": "code",
   "execution_count": 19,
   "metadata": {
    "collapsed": false
   },
   "outputs": [
    {
     "data": {
      "text/plain": [
       "[<dt><a class=\"sh_blog_title _sp_each_url _sp_each_title\" href=\"http://rmsep39.tistory.com/1905\" onclick=\"return goOtherCR(this, 'a=blg*t.tit&amp;r=2&amp;i=a00000fa_24235b281218b73aca74f1c5&amp;u='+urlencode(this.href))\" target=\"_blank\" title=\"파이썬프로그래밍 기업에서 선호하는 이유\"><strong class=\"hl\">파이썬</strong>프로그래밍 기업에서 선호하는 이유</a></dt>,\n",
       " <dt><a class=\"sh_blog_title _sp_each_url _sp_each_title\" href=\"http://blog.naver.com/infopub?Redirect=Log&amp;logNo=220945501558\" onclick=\"return goOtherCR(this, 'a=blg*i.tit&amp;r=2&amp;i=90000003_00000000000000337160CD76&amp;u='+urlencode(this.href))\" target=\"_blank\" title=\"초보자를 위한 파이썬 200제\">초보자를 위한 <strong class=\"hl\">파이썬</strong> 200제</a></dt>,\n",
       " <dt><a class=\"sh_blog_title _sp_each_url _sp_each_title\" href=\"http://1984.tistory.com/448\" onclick=\"return goOtherCR(this, 'a=blg*t.tit&amp;r=2&amp;i=a00000fa_127472e44f8c39b566a8fa88&amp;u='+urlencode(this.href))\" target=\"_blank\" title=\"파이썬 프로그래밍 배워야하는 3가지이유!\"><strong class=\"hl\">파이썬</strong> 프로그래밍 배워야하는 3가지이유!</a></dt>]"
      ]
     },
     "execution_count": 19,
     "metadata": {},
     "output_type": "execute_result"
    }
   ],
   "source": [
    "contents[0:3]"
   ]
  },
  {
   "cell_type": "code",
   "execution_count": 20,
   "metadata": {
    "collapsed": false
   },
   "outputs": [
    {
     "data": {
      "text/plain": [
       "<dt><a class=\"sh_blog_title _sp_each_url _sp_each_title\" href=\"http://rmsep39.tistory.com/1905\" onclick=\"return goOtherCR(this, 'a=blg*t.tit&amp;r=2&amp;i=a00000fa_24235b281218b73aca74f1c5&amp;u='+urlencode(this.href))\" target=\"_blank\" title=\"파이썬프로그래밍 기업에서 선호하는 이유\"><strong class=\"hl\">파이썬</strong>프로그래밍 기업에서 선호하는 이유</a></dt>"
      ]
     },
     "execution_count": 20,
     "metadata": {},
     "output_type": "execute_result"
    }
   ],
   "source": [
    "contents[0]"
   ]
  },
  {
   "cell_type": "code",
   "execution_count": 21,
   "metadata": {
    "collapsed": false
   },
   "outputs": [
    {
     "data": {
      "text/plain": [
       "'파이썬프로그래밍 기업에서 선호하는 이유'"
      ]
     },
     "execution_count": 21,
     "metadata": {},
     "output_type": "execute_result"
    }
   ],
   "source": [
    "contents[0].select_one('a').attrs.get('title')"
   ]
  },
  {
   "cell_type": "markdown",
   "metadata": {},
   "source": [
    "#### 블로그 포스트 주소 "
   ]
  },
  {
   "cell_type": "code",
   "execution_count": 22,
   "metadata": {
    "collapsed": false
   },
   "outputs": [
    {
     "data": {
      "text/plain": [
       "[<dt><a class=\"sh_blog_title _sp_each_url _sp_each_title\" href=\"http://rmsep39.tistory.com/1905\" onclick=\"return goOtherCR(this, 'a=blg*t.tit&amp;r=2&amp;i=a00000fa_24235b281218b73aca74f1c5&amp;u='+urlencode(this.href))\" target=\"_blank\" title=\"파이썬프로그래밍 기업에서 선호하는 이유\"><strong class=\"hl\">파이썬</strong>프로그래밍 기업에서 선호하는 이유</a></dt>,\n",
       " <dt><a class=\"sh_blog_title _sp_each_url _sp_each_title\" href=\"http://blog.naver.com/infopub?Redirect=Log&amp;logNo=220945501558\" onclick=\"return goOtherCR(this, 'a=blg*i.tit&amp;r=2&amp;i=90000003_00000000000000337160CD76&amp;u='+urlencode(this.href))\" target=\"_blank\" title=\"초보자를 위한 파이썬 200제\">초보자를 위한 <strong class=\"hl\">파이썬</strong> 200제</a></dt>,\n",
       " <dt><a class=\"sh_blog_title _sp_each_url _sp_each_title\" href=\"http://1984.tistory.com/448\" onclick=\"return goOtherCR(this, 'a=blg*t.tit&amp;r=2&amp;i=a00000fa_127472e44f8c39b566a8fa88&amp;u='+urlencode(this.href))\" target=\"_blank\" title=\"파이썬 프로그래밍 배워야하는 3가지이유!\"><strong class=\"hl\">파이썬</strong> 프로그래밍 배워야하는 3가지이유!</a></dt>]"
      ]
     },
     "execution_count": 22,
     "metadata": {},
     "output_type": "execute_result"
    }
   ],
   "source": [
    "contents[0:3]"
   ]
  },
  {
   "cell_type": "code",
   "execution_count": 23,
   "metadata": {
    "collapsed": false
   },
   "outputs": [
    {
     "data": {
      "text/plain": [
       "'http://rmsep39.tistory.com/1905'"
      ]
     },
     "execution_count": 23,
     "metadata": {},
     "output_type": "execute_result"
    }
   ],
   "source": [
    "contents[0].select_one('a').attrs.get('href')"
   ]
  },
  {
   "cell_type": "markdown",
   "metadata": {},
   "source": [
    "#### 블로그 포스트의 제목과, 블로그 포스트 주소 parsing "
   ]
  },
  {
   "cell_type": "code",
   "execution_count": 24,
   "metadata": {
    "collapsed": false
   },
   "outputs": [],
   "source": [
    "data = [\n",
    "    {'title': content.select_one('a').attrs.get('title'),\n",
    "    'address' : content.select_one('a').attrs.get('href')}\n",
    "    for content\n",
    "    in contents\n",
    "]"
   ]
  },
  {
   "cell_type": "code",
   "execution_count": 25,
   "metadata": {
    "collapsed": false
   },
   "outputs": [
    {
     "data": {
      "text/plain": [
       "10"
      ]
     },
     "execution_count": 25,
     "metadata": {},
     "output_type": "execute_result"
    }
   ],
   "source": [
    "len(data)"
   ]
  },
  {
   "cell_type": "code",
   "execution_count": 26,
   "metadata": {
    "collapsed": false
   },
   "outputs": [
    {
     "data": {
      "text/plain": [
       "[{'address': 'http://rmsep39.tistory.com/1905',\n",
       "  'title': '파이썬프로그래밍 기업에서 선호하는 이유'},\n",
       " {'address': 'http://blog.naver.com/infopub?Redirect=Log&logNo=220945501558',\n",
       "  'title': '초보자를 위한 파이썬 200제'},\n",
       " {'address': 'http://1984.tistory.com/448', 'title': '파이썬 프로그래밍 배워야하는 3가지이유!'},\n",
       " {'address': 'http://chogar.blog.me/220942149662',\n",
       "  'title': '마인크래프트를 활용한 파이썬 프로그래밍 과정 시작!'},\n",
       " {'address': 'http://edujoa.tistory.com/1389', 'title': '프로그래밍 입문 파이썬부터 시작!!'},\n",
       " {'address': 'http://blog.naver.com/nasu0210?Redirect=Log&logNo=220932224509',\n",
       "  'title': '대구 프로그래밍 학원 파이썬 1개월 완성 주말 과정 개설'},\n",
       " {'address': 'http://blog.alyac.co.kr/985',\n",
       "  'title': '패치되지 않은 파이썬과 자바 취약점, 해커들이 FTP 인젝션을 통해 방화벽 우회하도록 허용해'},\n",
       " {'address': 'http://shaeod.tistory.com/949',\n",
       "  'title': '[개발] 파이썬 다운로드 및 윈도우에 설치하는 방법'},\n",
       " {'address': 'http://rmsep39.tistory.com/2056',\n",
       "  'title': '파이썬 강좌, 비전공자도 배울 수 있다!'},\n",
       " {'address': 'http://blog.fastcampus.co.kr/220942981452',\n",
       "  'title': '파이썬과 장고의 실무 개발 노하우를 전수해드리겠습니다.'}]"
      ]
     },
     "execution_count": 26,
     "metadata": {},
     "output_type": "execute_result"
    }
   ],
   "source": [
    "data"
   ]
  },
  {
   "cell_type": "code",
   "execution_count": 27,
   "metadata": {
    "collapsed": false
   },
   "outputs": [
    {
     "data": {
      "text/html": [
       "<div>\n",
       "<table border=\"1\" class=\"dataframe\">\n",
       "  <thead>\n",
       "    <tr style=\"text-align: right;\">\n",
       "      <th></th>\n",
       "      <th>address</th>\n",
       "      <th>title</th>\n",
       "    </tr>\n",
       "  </thead>\n",
       "  <tbody>\n",
       "    <tr>\n",
       "      <th>0</th>\n",
       "      <td>http://rmsep39.tistory.com/1905</td>\n",
       "      <td>파이썬프로그래밍 기업에서 선호하는 이유</td>\n",
       "    </tr>\n",
       "    <tr>\n",
       "      <th>1</th>\n",
       "      <td>http://blog.naver.com/infopub?Redirect=Log&amp;log...</td>\n",
       "      <td>초보자를 위한 파이썬 200제</td>\n",
       "    </tr>\n",
       "    <tr>\n",
       "      <th>2</th>\n",
       "      <td>http://1984.tistory.com/448</td>\n",
       "      <td>파이썬 프로그래밍 배워야하는 3가지이유!</td>\n",
       "    </tr>\n",
       "    <tr>\n",
       "      <th>3</th>\n",
       "      <td>http://chogar.blog.me/220942149662</td>\n",
       "      <td>마인크래프트를 활용한 파이썬 프로그래밍 과정 시작!</td>\n",
       "    </tr>\n",
       "    <tr>\n",
       "      <th>4</th>\n",
       "      <td>http://edujoa.tistory.com/1389</td>\n",
       "      <td>프로그래밍 입문 파이썬부터 시작!!</td>\n",
       "    </tr>\n",
       "    <tr>\n",
       "      <th>5</th>\n",
       "      <td>http://blog.naver.com/nasu0210?Redirect=Log&amp;lo...</td>\n",
       "      <td>대구 프로그래밍 학원 파이썬 1개월 완성 주말 과정 개설</td>\n",
       "    </tr>\n",
       "    <tr>\n",
       "      <th>6</th>\n",
       "      <td>http://blog.alyac.co.kr/985</td>\n",
       "      <td>패치되지 않은 파이썬과 자바 취약점, 해커들이 FTP 인젝션을 통해 방화벽 우회하도...</td>\n",
       "    </tr>\n",
       "    <tr>\n",
       "      <th>7</th>\n",
       "      <td>http://shaeod.tistory.com/949</td>\n",
       "      <td>[개발] 파이썬 다운로드 및 윈도우에 설치하는 방법</td>\n",
       "    </tr>\n",
       "    <tr>\n",
       "      <th>8</th>\n",
       "      <td>http://rmsep39.tistory.com/2056</td>\n",
       "      <td>파이썬 강좌, 비전공자도 배울 수 있다!</td>\n",
       "    </tr>\n",
       "    <tr>\n",
       "      <th>9</th>\n",
       "      <td>http://blog.fastcampus.co.kr/220942981452</td>\n",
       "      <td>파이썬과 장고의 실무 개발 노하우를 전수해드리겠습니다.</td>\n",
       "    </tr>\n",
       "  </tbody>\n",
       "</table>\n",
       "</div>"
      ],
      "text/plain": [
       "                                             address  \\\n",
       "0                    http://rmsep39.tistory.com/1905   \n",
       "1  http://blog.naver.com/infopub?Redirect=Log&log...   \n",
       "2                        http://1984.tistory.com/448   \n",
       "3                 http://chogar.blog.me/220942149662   \n",
       "4                     http://edujoa.tistory.com/1389   \n",
       "5  http://blog.naver.com/nasu0210?Redirect=Log&lo...   \n",
       "6                        http://blog.alyac.co.kr/985   \n",
       "7                      http://shaeod.tistory.com/949   \n",
       "8                    http://rmsep39.tistory.com/2056   \n",
       "9          http://blog.fastcampus.co.kr/220942981452   \n",
       "\n",
       "                                               title  \n",
       "0                              파이썬프로그래밍 기업에서 선호하는 이유  \n",
       "1                                   초보자를 위한 파이썬 200제  \n",
       "2                             파이썬 프로그래밍 배워야하는 3가지이유!  \n",
       "3                       마인크래프트를 활용한 파이썬 프로그래밍 과정 시작!  \n",
       "4                                프로그래밍 입문 파이썬부터 시작!!  \n",
       "5                    대구 프로그래밍 학원 파이썬 1개월 완성 주말 과정 개설  \n",
       "6  패치되지 않은 파이썬과 자바 취약점, 해커들이 FTP 인젝션을 통해 방화벽 우회하도...  \n",
       "7                       [개발] 파이썬 다운로드 및 윈도우에 설치하는 방법  \n",
       "8                             파이썬 강좌, 비전공자도 배울 수 있다!  \n",
       "9                     파이썬과 장고의 실무 개발 노하우를 전수해드리겠습니다.  "
      ]
     },
     "execution_count": 27,
     "metadata": {},
     "output_type": "execute_result"
    }
   ],
   "source": [
    "pd.DataFrame(data)"
   ]
  }
 ],
 "metadata": {
  "kernelspec": {
   "display_name": "Python 3",
   "language": "python",
   "name": "python3"
  },
  "language_info": {
   "codemirror_mode": {
    "name": "ipython",
    "version": 3
   },
   "file_extension": ".py",
   "mimetype": "text/x-python",
   "name": "python",
   "nbconvert_exporter": "python",
   "pygments_lexer": "ipython3",
   "version": "3.6.0"
  }
 },
 "nbformat": 4,
 "nbformat_minor": 2
}
